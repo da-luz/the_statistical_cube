{
  "nbformat": 4,
  "nbformat_minor": 0,
  "metadata": {
    "colab": {
      "name": "TheStatisticalCube.ipynb",
      "provenance": [],
      "collapsed_sections": [
        "8ZxE0OpGf9B8",
        "G9Qz4id1mxR7",
        "bLWVacONSBM_"
      ]
    },
    "kernelspec": {
      "name": "python3",
      "display_name": "Python 3"
    },
    "language_info": {
      "name": "python"
    }
  },
  "cells": [
    {
      "cell_type": "markdown",
      "source": [
        "# **THE STATISTICAL CUBE; A BRIEF MAGIC MODEL CREATON.**\n",
        "\n",
        "\n"
      ],
      "metadata": {
        "id": "gZZV9A-e5Uit"
      }
    },
    {
      "cell_type": "markdown",
      "source": [
        "### **INTRODUCTION**\n",
        "\n",
        "This notebook is an attempt to generate models for rubik's puzzles world records prediction. Well, a try.\n",
        "\n",
        "Together with this notebook ye'll find a .zip file containing the data necessary troughout the notebook. The data consists of seven .csv files; six of them having the solving world records (hope you notice all of them were taken in day 14, this is due to padronization in record cataloging), the seventh is \"records.csv\" and it hosts an overview of every cube's records time series.\n",
        "\n",
        "Each code section has a text cell responsible for explaining why is that cell there.\n",
        "\n",
        "---"
      ],
      "metadata": {
        "id": "W3aJwicUcGLL"
      }
    },
    {
      "cell_type": "markdown",
      "source": [
        "### **Importation**"
      ],
      "metadata": {
        "id": "8ZxE0OpGf9B8"
      }
    },
    {
      "cell_type": "markdown",
      "source": [
        "Just regular import cell, in the coments you can find the usage of each imported group"
      ],
      "metadata": {
        "id": "kqk5vRlEgV7K"
      }
    },
    {
      "cell_type": "code",
      "source": [
        "#Graphics construction\n",
        "import seaborn as sns \n",
        "import matplotlib.pyplot as plt\n",
        "\n",
        "#Data handleling and metrics\n",
        "import pandas as pd  \n",
        "import numpy as np \n",
        "from datetime import datetime \n",
        "from sklearn import preprocessing, metrics\n",
        "\n",
        "#Data modeling \n",
        "import scipy.stats as stats\n",
        "import statsmodels.api as sms \n",
        "import statsmodels.formula.api as smf \n",
        "from fbprophet import Prophet "
      ],
      "metadata": {
        "id": "kls8NqmiABB3",
        "cellView": "code",
        "colab": {
          "base_uri": "https://localhost:8080/"
        },
        "outputId": "bb0b2f50-6987-45d7-ceb1-1e9a9f3fa796"
      },
      "execution_count": 2,
      "outputs": [
        {
          "output_type": "stream",
          "name": "stderr",
          "text": [
            "/usr/local/lib/python3.7/dist-packages/statsmodels/tools/_testing.py:19: FutureWarning: pandas.util.testing is deprecated. Use the functions in the public API at pandas.testing instead.\n",
            "  import pandas.util.testing as tm\n"
          ]
        }
      ]
    },
    {
      "cell_type": "markdown",
      "source": [
        "This cell imports the time series table. Since the table is an overview of all modalities - more on that later - it contains each cube's names; Hence it is also used to name each cube after it's commercial name"
      ],
      "metadata": {
        "id": "F-y2JiaBgpMt"
      }
    },
    {
      "cell_type": "code",
      "source": [
        "#Import the \"base\" table, it contains all cube's names and the data for time series creation\n",
        "#The referentiation of each cube records data will be done after the class creation\n",
        "series = pd.read_csv('data/records.csv',sep=';')\n",
        "series['dates'] = pd.to_datetime(series['dates'])"
      ],
      "metadata": {
        "id": "tl9Tk6jswnEZ",
        "cellView": "code"
      },
      "execution_count": 3,
      "outputs": []
    },
    {
      "cell_type": "markdown",
      "source": [
        "### **Class and objects creation**"
      ],
      "metadata": {
        "id": "G9Qz4id1mxR7"
      }
    },
    {
      "cell_type": "markdown",
      "source": [
        "Remember the modalitiy thing? Well, there are six of them (there is more, but we'll focus on these six) each one with it's own cube with distinct dimesions.\n",
        "\n",
        "There will be two models for each cube: linear and poisson; on behalf of a cleaner code and lesser number of cells, I opted for creating a class - which would execute those 12 models - and creating solely six objects which methods and atributes will be called as long as they're needed.\n",
        "\n",
        "Each method is explained in the comments."
      ],
      "metadata": {
        "id": "W7MaO7AShkPV"
      }
    },
    {
      "cell_type": "code",
      "source": [
        "class Cube:\n",
        "    #Creation of object's roots atributes such as name of the cube, records base and records time series \n",
        "    #Although other methods may create new atributes, they are a product of those first atributes\n",
        "    def __init__(self, df1, df2):\n",
        "        self.name = df1.columns[2]\n",
        "        self.r_month = df1\n",
        "        self.s_time = df2.iloc[:,[0, (df2.keys().tolist()).index(self.name)]].dropna()\n",
        "\n",
        "        #Solely for technical purposes it's interesting to know if the data we work with is worth of working\n",
        "        self.correlations, self.p_value = stats.pearsonr((self.r_month).months, self.r_month[f'{self.name}'])\n",
        "        print(f\"Pearson's {(self.name).title()} ~ Month correlation = {self.correlations}\\n\")\n",
        "\n",
        "        #If p-value is under 0.05 it may be worthless the model creation\n",
        "        if self.p_value > 0.05:\n",
        "            print(f\"P-value = {self.p_value}!\")\n",
        "\n",
        "        #Atributes which the purpose is to do not repeat processes already done\n",
        "        #In each method executed these atributes get a \"True\" value\n",
        "        #Before each method to be executed there is a checking if some of these atributes gos a \"True\" or not\n",
        "        self.normalized = self.modeled = self.predicted = self.fb_modeled = self.fb_predicted = False\n",
        "    \n",
        "    #Method for ploting time series and scatter graphics for an exploratory analysis\n",
        "    def graphics(self):\n",
        "        plt.figure(figsize=(15,5))\n",
        "        plt.suptitle(f'{self.name.title()}')\n",
        "        for i in range(1,3):\n",
        "            if i == 1:\n",
        "                plt.subplot(1,2,i).set_title('Time Series')\n",
        "                plt.plot('dates', f'{self.name}', data=self.s_time)\n",
        "                plt.xlabel('years')\n",
        "                plt.ylabel(f'{self.name}')\n",
        "            elif i==2:\n",
        "                plt.subplot(1,2,i).set_title('Scatter')\n",
        "                sns.scatterplot(x=self.r_month['months'], y=self.r_month.iloc[:, i])\n",
        "            plt.axhline(0, color='black')\n",
        "        plt.tight_layout()\n",
        "\n",
        "    #Method for normalizing data, which are the record times got on competitions\n",
        "    def normalize(self):\n",
        "        #Checking for normalizations already done\n",
        "        if self.normalized:\n",
        "            print('Já normalizado. -- Already normalized.')\n",
        "            return\n",
        "\n",
        "        #Function to normalize the data\n",
        "        def norm (dataframe):\n",
        "            self.normalizator = preprocessing.MinMaxScaler()\n",
        "            i = 0\n",
        "            if len(dataframe.columns) == 3:\n",
        "                i = 1\n",
        "            table = pd.DataFrame(columns=[dataframe.columns[i], f'{self.name}', f'mm_{self.name}'])\n",
        "            table[[dataframe.columns[i], f'{self.name}']] = dataframe.iloc[:, [i, (dataframe.keys().tolist()).index(self.name)]]\n",
        "            table[f'mm_{self.name}'] = self.normalizator.fit_transform(\n",
        "                (dataframe.iloc[:,(dataframe.keys().tolist()).index(self.name)].values).reshape(-1,1)\n",
        "                )\n",
        "            return table\n",
        "\n",
        "        #Normalized data creation\n",
        "        self.n_month = norm(self.r_month)\n",
        "        self.n_time = norm(self.s_time)\n",
        "        self.normalized = True\n",
        "        print('Normalização concluída! -- Sucessfull normalization!')\n",
        "\n",
        "    #This method will create two models for each modeling\n",
        "    #One with non-normalized data, other with normalized data\n",
        "    def modeling (self, fb_model = False):\n",
        "        if not self.modeled:\n",
        "\n",
        "            #For not rewriting the same code, is created an array with the both models\n",
        "            #Therefore it can't handle the algorithm without the normalized data\n",
        "            if not self.normalized:\n",
        "                print('Normalizando dados... -- Normalizing data...')\n",
        "                self.normalize()\n",
        "\n",
        "            #You can access all the info about each model refering to the array's 0 or 1 index for non-normalized and normalized models\n",
        "            self.linear = [smf.ols('{} ~ months'.format((self.r_month).columns[2]), data=(self.r_month)).fit(),\n",
        "                          smf.ols('{} ~ months'.format((self.n_month).columns[2]), data=(self.n_month)).fit()]\n",
        "\n",
        "            self.poisson = [smf.poisson('{} ~ months'.format((self.r_month).columns[2]), data=(self.r_month)).fit(),\n",
        "                            smf.poisson('{} ~ months'.format((self.n_month).columns[2]), data=(self.n_month)).fit()]\n",
        "\n",
        "       \n",
        "        #The Facebook Prophet model is a particular case; for the modeling method to run faster it isn't executed for default\n",
        "        #To execute the algorithm you may call the method with \"fb_model=True\" argument\n",
        "        if not self.fb_modeled:\n",
        "            if fb_model:\n",
        "                print('Modelando Facebook Prophet... -- Modeling Facebook Prophet...')\n",
        "                time_s = (self.s_time).rename(columns = {'dates':'ds', self.name:'y'})\n",
        "                self.fb_time_model = Prophet(yearly_seasonality=0, weekly_seasonality=0, daily_seasonality=0).fit(time_s)\n",
        "                self.fb_modeled = True\n",
        "\n",
        "        print('Modelagem concluida! -- Sucessfull modeling!')\n",
        "        self.modeled = True\n",
        "\n",
        "    #This method creates three new dataframes (one with non normalized, one with normalized and one with unormalized models predictions) this helps in the \"reg_graphics()\" method\n",
        "    def modeling_previsions (self, n_prev=None):\n",
        "        if not self.modeled:\n",
        "            print('Modelando para prever... -- Modeling data for previsions...')\n",
        "            self.modeling()\n",
        "\n",
        "        if not self.predicted:\n",
        "            #Non normalized\n",
        "            monthly_model = pd.DataFrame(columns=['months', f'{self.name}', 'lin','poi'])\n",
        "            monthly_model[['months', f'{self.name}']] = self.r_month.iloc[:,[1,2]]\n",
        "            monthly_model.iloc[:, 2:4] = np.column_stack([self.linear[0].predict((self.r_month).months),\n",
        "                                                          self.poisson[0].predict((self.r_month).months)])\n",
        "\n",
        "            #Model with values in range 0, 1\n",
        "            #The \"mm_\" prefix stands for \"MinMax\"        \n",
        "            minmax = pd.DataFrame(columns=['months', f'mm_{self.name}','mm_lin','mm_poi'])\n",
        "            minmax[['months', f'mm_{self.name}']] = self.n_month.iloc[:,[0,2]]\n",
        "            minmax.iloc[:, 2:4] =  np.column_stack([self.linear[1].predict((self.n_month).months),\n",
        "                                                    self.poisson[1].predict((self.n_month).months)])\n",
        "            \n",
        "            #Normalized\n",
        "            #The \"n_\" stands for \"normalized\"\n",
        "            normalized_model = pd.DataFrame(columns=['months', f'n_{self.name}','n_lin','n_poi'])\n",
        "            normalized_model[['months', f'n_{self.name}']] = self.r_month.iloc[:,[1,2]]\n",
        "            normalized_model.iloc[:, 2:4] = self.normalizator.inverse_transform((minmax).iloc[:, 2:4])\n",
        "\n",
        "            self.models = [monthly_model, normalized_model, minmax] \n",
        "        \n",
        "        #Again, to run a Facbook Prophet based algorithm you may pass the argument on calling the method\n",
        "        #In this method the argument is \"n_prev\" which is an integer that represents the number of steps to be predicted for Facebook Prophet model\n",
        "        if not (n_prev == None):\n",
        "            if not self.fb_modeled:\n",
        "                print('Modelando com Facebook Prophet... -- Modelando with Facebook Prophet...')\n",
        "                self.modeling(fb_model=True)\n",
        "\n",
        "            if not self.fb_predicted:\n",
        "                print('Prevendo com Facebook Prophet... -- Predicting with Facebook Prophet...')\n",
        "                self.fb_prophet_predictions = (self.fb_time_model).predict((self.fb_time_model).make_future_dataframe(periods=n_prev, freq='MS'))\n",
        "                self.fb_predicted = True\n",
        "            else:\n",
        "                print('Facebook Prophet já previsto. -- Facebook Prophet has already been predicted.')\n",
        "\n",
        "        print('Previsões concluidas! -- Sucessfully predicted!')\n",
        "        self.predicted = True\n",
        "    \n",
        "    #This method generate two Facebook Prophet graphics; with non and normalized data\n",
        "    def fb_graphics(self):\n",
        "        if not (self.fb_modeled & self.fb_predicted):\n",
        "            print('Facebook Prophet deve ser modelado (.modeling(fb_modeled=True)) e previsto (.modeling_previsions(n_prev=(int > 0)))')\n",
        "            print('')\n",
        "            print('Facebook Prophet may be modeled (.modeling(fb_modeled=True)) and predicted (.modeling_previsions(n_prev=(int > 0)))')\n",
        "            return\n",
        "\n",
        "        (self.fb_time_model).plot((self.fb_prophet_predictions), xlabel='Date', ylabel='Time')\n",
        "\n",
        "    #Metrics for model evaluation\n",
        "    def metrics_results(self, model=None, normalized=False):\n",
        "        models = {'poisson':3, 'linear':2}\n",
        "        table = self.models[normalized]\n",
        "        series = [table.iloc[:, 1], table.iloc[:, models[model]]]\n",
        "        print(f'{model.upper()}')\n",
        "        print(f'\\tR² = {metrics.r2_score(series[0], series[1])}')\n",
        "        print(f'\\tMAE = {metrics.mean_absolute_error(series[0], series[1])}')\n",
        "        print(f'\\tMAPE = {metrics.mean_absolute_percentage_error(series[0], series[1])}')        \n",
        "        print(f'\\tRMSE = {metrics.mean_squared_error(series[0], series[1], squared=False)}')\n",
        "        print(f'\\tAIC = {getattr(self, model)[normalized].aic}')\n",
        "        print(f'\\tBIC = {getattr(self, model)[normalized].bic}')\n",
        "\n",
        "    #Method for predicting\n",
        "    def pred_future (self, model=None, normalized=False, predict=[1,3,6,12,24,36,48,60,72,84,96,108,120]):\n",
        "        months = np.array(predict).reshape(-1,1)\n",
        "        \n",
        "        #In order for making previsions we need a dataframe to hold the independent variable values to predict\n",
        "        number_of_months = pd.DataFrame(months + max(self.r_month['months']), columns=['months'])\n",
        "        predicted = (getattr(self, model)[normalized]).predict(number_of_months).values.reshape(-1,1)\n",
        "\n",
        "        #If using the normalized model, it may pass trought an inverse transform in order to get the actual values\n",
        "        if normalized:\n",
        "            predicted = self.normalizator.inverse_transform(predicted)\n",
        "            return predicted\n",
        "        else:\n",
        "            return predicted\n",
        "\n",
        "    #This method also generate two graphics, but seaborn graphics for both non and normalized data models\n",
        "    def reg_graphics(self, normalized=True):\n",
        "        if not self.predicted:\n",
        "            print('Prevendo dados... -- Predicting')\n",
        "            self.modeling_previsions()\n",
        "\n",
        "        plt.figure(figsize=(15,5))\n",
        "        plt.suptitle(f'{self.name.title()}')\n",
        "        for i in range(1,3):\n",
        "            if i == 1:\n",
        "                dataframe = self.models[0]\n",
        "                plt.subplot(1,2,i).set_title('Non normalized model')\n",
        "            elif i==2:\n",
        "                if normalized:\n",
        "                    dataframe = self.models[1]\n",
        "                    plt.subplot(1,2,i).set_title('Normalized Model')\n",
        "                else:\n",
        "                    dataframe = self.models[2]\n",
        "                    plt.subplot(1,2,i).set_title('0-1 Previsions')\n",
        "\n",
        "            sns.scatterplot(x=dataframe['months'], y=dataframe.iloc[:, 1])\n",
        "            sns.lineplot(x=dataframe['months'], y=dataframe.iloc[:,(2)], color='green')\n",
        "            sns.lineplot(x=dataframe['months'], y=dataframe.iloc[:,(3)], color='purple')\n",
        "            plt.legend(labels=['Linear', 'Poisson'])\n",
        "            plt.axhline(0, color='black')\n",
        "        plt.tight_layout()"
      ],
      "metadata": {
        "cellView": "code",
        "id": "WVJ60-bUNAfl"
      },
      "execution_count": 4,
      "outputs": []
    },
    {
      "cell_type": "markdown",
      "source": [
        "This cell contains a repetition function which wil allow to create those six classes with just one cell. This function is executed right below."
      ],
      "metadata": {
        "id": "cVAXk35wkWG5"
      }
    },
    {
      "cell_type": "code",
      "source": [
        "#This function returns an array with each cube object created\n",
        "#The cube objects may be atributed to a variable; if not in the calling of function, they'll be avaliable in the list created by the function\n",
        "def create_cubes ():\n",
        "    cubes = []\n",
        "    for i in range(1, len(series.columns.tolist())):\n",
        "        dataframe = pd.read_csv(f'data/{(series.columns.tolist()[i])}.csv', sep=';')\n",
        "        dataframe['dates'] = pd.to_datetime(dataframe['dates'])    \n",
        "        cubes.append(Cube(dataframe, series))\n",
        "    return cubes"
      ],
      "metadata": {
        "id": "kkcStMcLoB3s"
      },
      "execution_count": 5,
      "outputs": []
    },
    {
      "cell_type": "markdown",
      "source": [
        "### **The models creation**"
      ],
      "metadata": {
        "id": "udKCpBr0m-y8"
      }
    },
    {
      "cell_type": "markdown",
      "source": [
        "The first thing in an analysis is know what we are analysing, how to refer to it and it's Correlation. The following code create the objects which'll be our subjects in this analysis and, also, showed the respective correlations between the months passed and the records registered.\n",
        "\n",
        "See that none of then warned about the p-vallues; That means all of them have a significant correlation."
      ],
      "metadata": {
        "id": "YX9D0BTznJ5_"
      }
    },
    {
      "cell_type": "code",
      "source": [
        "two, three, four, five, six, seven = create_cubes()"
      ],
      "metadata": {
        "id": "jFIeZ69cGGwn",
        "colab": {
          "base_uri": "https://localhost:8080/"
        },
        "outputId": "5bc24c6e-d6d3-4dba-c943-c5e54a223232"
      },
      "execution_count": 6,
      "outputs": [
        {
          "output_type": "stream",
          "name": "stdout",
          "text": [
            "Pearson's Pocket ~ Month correlation = -0.7895978179826855\n",
            "\n",
            "Pearson's Rubik ~ Month correlation = -0.9245563249924857\n",
            "\n",
            "Pearson's Revenge ~ Month correlation = -0.9165927461712134\n",
            "\n",
            "Pearson's Professor ~ Month correlation = -0.9269108322122265\n",
            "\n",
            "Pearson's V6 ~ Month correlation = -0.953303560007494\n",
            "\n",
            "Pearson's V7 ~ Month correlation = -0.9800500226575172\n",
            "\n"
          ]
        }
      ]
    },
    {
      "cell_type": "markdown",
      "source": [
        "The code above created six variables, each one's names refer to the \"size\" of the cube, because, even in the World Cube Association's site, is usual to refer to the cubes by it's volume (edge * edge * edge). Abreviating, edge. The edge is a counting of how many pieces there are in the edge. It shall be clearer soon."
      ],
      "metadata": {
        "id": "j7A5kM66lARc"
      }
    },
    {
      "cell_type": "markdown",
      "source": [
        "#### Just explanation"
      ],
      "metadata": {
        "id": "bLWVacONSBM_"
      }
    },
    {
      "cell_type": "markdown",
      "source": [
        "When you buy bolts or nails you may specify it's dimensions, since distinct dimensions are meant for different purposes - like pinning two thin or thick pieces of wood. Thus the nails and bolts are measured by it's size, and so are the rubik's cubes puzzles: they have different dimensions, hence different modakities of competition for different sizes.\n",
        "\n",
        "But what is the measuring unit for rubik's cubes? It is how many pieces are fit in it's edge! Then if we have a cbe with only two pieces in its edge we can call it a two by two by two (edge * edge * edge), alternatively if have a cube with seven pieces in the edge we also can have a seven by seven (edge * edge).\n",
        "\n",
        "The WCA rules six modalities: two by two by two cubes, three by three by three, four by four by four, five by five, six by six and seven by seven. Those cubes are selled under the names pocket cube, rubik's cube, rubik's revenge, professor's cube, v-6 cube and v-7 cube."
      ],
      "metadata": {
        "id": "iOiOrFO3M8O-"
      }
    },
    {
      "cell_type": "markdown",
      "source": [
        "#### Pocket cube"
      ],
      "metadata": {
        "id": "okAYajmhSgll"
      }
    },
    {
      "cell_type": "markdown",
      "source": [
        "Firstly we shall see what are the records of this cube by calling it's records by months dataframe atribute.\n",
        "\n",
        "\"r_month\" stands for \"records by month\""
      ],
      "metadata": {
        "id": "6fLnx9qxSvvw"
      }
    },
    {
      "cell_type": "code",
      "source": [
        "two.r_month"
      ],
      "metadata": {
        "colab": {
          "base_uri": "https://localhost:8080/",
          "height": 457
        },
        "id": "T7BQgpcNmqNF",
        "outputId": "7b8a5af0-7567-4031-d402-2c18863d3031"
      },
      "execution_count": 20,
      "outputs": [
        {
          "output_type": "execute_result",
          "data": {
            "text/plain": [
              "        dates  months  pocket\n",
              "0  2004-10-14       0    8.44\n",
              "1  2005-04-14       6    6.35\n",
              "2  2005-05-14       7    4.92\n",
              "3  2005-06-14       8    4.13\n",
              "4  2005-12-14      14    3.94\n",
              "5  2006-06-14      20    3.55\n",
              "6  2007-07-14      33    2.73\n",
              "7  2007-11-14      37    2.65\n",
              "8  2008-03-14      41    1.63\n",
              "9  2008-11-14      49    0.96\n",
              "10 2011-11-14      85    0.69\n",
              "11 2015-06-14     128    0.58\n",
              "12 2016-04-14     138    0.49"
            ],
            "text/html": [
              "\n",
              "  <div id=\"df-fec978ef-7e54-4591-b87b-c95231c84a3a\">\n",
              "    <div class=\"colab-df-container\">\n",
              "      <div>\n",
              "<style scoped>\n",
              "    .dataframe tbody tr th:only-of-type {\n",
              "        vertical-align: middle;\n",
              "    }\n",
              "\n",
              "    .dataframe tbody tr th {\n",
              "        vertical-align: top;\n",
              "    }\n",
              "\n",
              "    .dataframe thead th {\n",
              "        text-align: right;\n",
              "    }\n",
              "</style>\n",
              "<table border=\"1\" class=\"dataframe\">\n",
              "  <thead>\n",
              "    <tr style=\"text-align: right;\">\n",
              "      <th></th>\n",
              "      <th>dates</th>\n",
              "      <th>months</th>\n",
              "      <th>pocket</th>\n",
              "    </tr>\n",
              "  </thead>\n",
              "  <tbody>\n",
              "    <tr>\n",
              "      <th>0</th>\n",
              "      <td>2004-10-14</td>\n",
              "      <td>0</td>\n",
              "      <td>8.44</td>\n",
              "    </tr>\n",
              "    <tr>\n",
              "      <th>1</th>\n",
              "      <td>2005-04-14</td>\n",
              "      <td>6</td>\n",
              "      <td>6.35</td>\n",
              "    </tr>\n",
              "    <tr>\n",
              "      <th>2</th>\n",
              "      <td>2005-05-14</td>\n",
              "      <td>7</td>\n",
              "      <td>4.92</td>\n",
              "    </tr>\n",
              "    <tr>\n",
              "      <th>3</th>\n",
              "      <td>2005-06-14</td>\n",
              "      <td>8</td>\n",
              "      <td>4.13</td>\n",
              "    </tr>\n",
              "    <tr>\n",
              "      <th>4</th>\n",
              "      <td>2005-12-14</td>\n",
              "      <td>14</td>\n",
              "      <td>3.94</td>\n",
              "    </tr>\n",
              "    <tr>\n",
              "      <th>5</th>\n",
              "      <td>2006-06-14</td>\n",
              "      <td>20</td>\n",
              "      <td>3.55</td>\n",
              "    </tr>\n",
              "    <tr>\n",
              "      <th>6</th>\n",
              "      <td>2007-07-14</td>\n",
              "      <td>33</td>\n",
              "      <td>2.73</td>\n",
              "    </tr>\n",
              "    <tr>\n",
              "      <th>7</th>\n",
              "      <td>2007-11-14</td>\n",
              "      <td>37</td>\n",
              "      <td>2.65</td>\n",
              "    </tr>\n",
              "    <tr>\n",
              "      <th>8</th>\n",
              "      <td>2008-03-14</td>\n",
              "      <td>41</td>\n",
              "      <td>1.63</td>\n",
              "    </tr>\n",
              "    <tr>\n",
              "      <th>9</th>\n",
              "      <td>2008-11-14</td>\n",
              "      <td>49</td>\n",
              "      <td>0.96</td>\n",
              "    </tr>\n",
              "    <tr>\n",
              "      <th>10</th>\n",
              "      <td>2011-11-14</td>\n",
              "      <td>85</td>\n",
              "      <td>0.69</td>\n",
              "    </tr>\n",
              "    <tr>\n",
              "      <th>11</th>\n",
              "      <td>2015-06-14</td>\n",
              "      <td>128</td>\n",
              "      <td>0.58</td>\n",
              "    </tr>\n",
              "    <tr>\n",
              "      <th>12</th>\n",
              "      <td>2016-04-14</td>\n",
              "      <td>138</td>\n",
              "      <td>0.49</td>\n",
              "    </tr>\n",
              "  </tbody>\n",
              "</table>\n",
              "</div>\n",
              "      <button class=\"colab-df-convert\" onclick=\"convertToInteractive('df-fec978ef-7e54-4591-b87b-c95231c84a3a')\"\n",
              "              title=\"Convert this dataframe to an interactive table.\"\n",
              "              style=\"display:none;\">\n",
              "        \n",
              "  <svg xmlns=\"http://www.w3.org/2000/svg\" height=\"24px\"viewBox=\"0 0 24 24\"\n",
              "       width=\"24px\">\n",
              "    <path d=\"M0 0h24v24H0V0z\" fill=\"none\"/>\n",
              "    <path d=\"M18.56 5.44l.94 2.06.94-2.06 2.06-.94-2.06-.94-.94-2.06-.94 2.06-2.06.94zm-11 1L8.5 8.5l.94-2.06 2.06-.94-2.06-.94L8.5 2.5l-.94 2.06-2.06.94zm10 10l.94 2.06.94-2.06 2.06-.94-2.06-.94-.94-2.06-.94 2.06-2.06.94z\"/><path d=\"M17.41 7.96l-1.37-1.37c-.4-.4-.92-.59-1.43-.59-.52 0-1.04.2-1.43.59L10.3 9.45l-7.72 7.72c-.78.78-.78 2.05 0 2.83L4 21.41c.39.39.9.59 1.41.59.51 0 1.02-.2 1.41-.59l7.78-7.78 2.81-2.81c.8-.78.8-2.07 0-2.86zM5.41 20L4 18.59l7.72-7.72 1.47 1.35L5.41 20z\"/>\n",
              "  </svg>\n",
              "      </button>\n",
              "      \n",
              "  <style>\n",
              "    .colab-df-container {\n",
              "      display:flex;\n",
              "      flex-wrap:wrap;\n",
              "      gap: 12px;\n",
              "    }\n",
              "\n",
              "    .colab-df-convert {\n",
              "      background-color: #E8F0FE;\n",
              "      border: none;\n",
              "      border-radius: 50%;\n",
              "      cursor: pointer;\n",
              "      display: none;\n",
              "      fill: #1967D2;\n",
              "      height: 32px;\n",
              "      padding: 0 0 0 0;\n",
              "      width: 32px;\n",
              "    }\n",
              "\n",
              "    .colab-df-convert:hover {\n",
              "      background-color: #E2EBFA;\n",
              "      box-shadow: 0px 1px 2px rgba(60, 64, 67, 0.3), 0px 1px 3px 1px rgba(60, 64, 67, 0.15);\n",
              "      fill: #174EA6;\n",
              "    }\n",
              "\n",
              "    [theme=dark] .colab-df-convert {\n",
              "      background-color: #3B4455;\n",
              "      fill: #D2E3FC;\n",
              "    }\n",
              "\n",
              "    [theme=dark] .colab-df-convert:hover {\n",
              "      background-color: #434B5C;\n",
              "      box-shadow: 0px 1px 3px 1px rgba(0, 0, 0, 0.15);\n",
              "      filter: drop-shadow(0px 1px 2px rgba(0, 0, 0, 0.3));\n",
              "      fill: #FFFFFF;\n",
              "    }\n",
              "  </style>\n",
              "\n",
              "      <script>\n",
              "        const buttonEl =\n",
              "          document.querySelector('#df-fec978ef-7e54-4591-b87b-c95231c84a3a button.colab-df-convert');\n",
              "        buttonEl.style.display =\n",
              "          google.colab.kernel.accessAllowed ? 'block' : 'none';\n",
              "\n",
              "        async function convertToInteractive(key) {\n",
              "          const element = document.querySelector('#df-fec978ef-7e54-4591-b87b-c95231c84a3a');\n",
              "          const dataTable =\n",
              "            await google.colab.kernel.invokeFunction('convertToInteractive',\n",
              "                                                     [key], {});\n",
              "          if (!dataTable) return;\n",
              "\n",
              "          const docLinkHtml = 'Like what you see? Visit the ' +\n",
              "            '<a target=\"_blank\" href=https://colab.research.google.com/notebooks/data_table.ipynb>data table notebook</a>'\n",
              "            + ' to learn more about interactive tables.';\n",
              "          element.innerHTML = '';\n",
              "          dataTable['output_type'] = 'display_data';\n",
              "          await google.colab.output.renderOutput(dataTable, element);\n",
              "          const docLink = document.createElement('div');\n",
              "          docLink.innerHTML = docLinkHtml;\n",
              "          element.appendChild(docLink);\n",
              "        }\n",
              "      </script>\n",
              "    </div>\n",
              "  </div>\n",
              "  "
            ]
          },
          "metadata": {},
          "execution_count": 20
        }
      ]
    },
    {
      "cell_type": "markdown",
      "source": [
        "As nentioned before, all the datas take place in day 14. So the first record was in 2004 by the october month with 8.44 seconds. Drastic change until 13th record in april 2006 with 0.49 second. "
      ],
      "metadata": {
        "id": "PkZG1IloTmm6"
      }
    },
    {
      "cell_type": "markdown",
      "source": [
        "Next we'll see the time series and the record by months scatter graphic."
      ],
      "metadata": {
        "id": "e9JQdG0zUhC4"
      }
    },
    {
      "cell_type": "code",
      "source": [
        "two.graphics()"
      ],
      "metadata": {
        "colab": {
          "base_uri": "https://localhost:8080/",
          "height": 373
        },
        "id": "5nPF0n-HUgSW",
        "outputId": "510b43d5-b27a-4467-d97b-0b51d843a44f"
      },
      "execution_count": 21,
      "outputs": [
        {
          "output_type": "display_data",
          "data": {
            "text/plain": [
              "<Figure size 1080x360 with 2 Axes>"
            ],
            "image/png": "[encoded data removed]"
          },
          "metadata": {
            "needs_background": "light"
          }
        }
      ]
    },
    {
      "cell_type": "markdown",
      "source": [
        "Notice in the scatter graphic that the newet records are considerably more spaced than the others. The pocket cube have the fewest number of records of all cubes.\n",
        "\n",
        "In the time series graphic we see how old are the current record"
      ],
      "metadata": {
        "id": "3JoYOJRHVQ2x"
      }
    },
    {
      "cell_type": "markdown",
      "source": [
        "I particularly like the following cell, it will normalized the records obtained.\n",
        "\n",
        "It's part of the characteristics dimensioning and it may (or may not) help our model, it is called \"Min Max normalization\" and all the data will be transformed to a number greater than 0 and lesser than 1 (the only exception is for outliers, but there are no outliers in a series that is essencialy an outliers series).\n",
        "\n",
        "Following up we'll see a table to compare the normalized data.\n",
        "\n",
        "\"n_month\" stands for \"normalized records by month\""
      ],
      "metadata": {
        "id": "svNdLYkCVwHl"
      }
    },
    {
      "cell_type": "code",
      "source": [
        "two.normalize()\n",
        "two.n_month"
      ],
      "metadata": {
        "colab": {
          "base_uri": "https://localhost:8080/",
          "height": 474
        },
        "id": "2jK-UWkRW5ry",
        "outputId": "6ceede8d-13e4-46bf-b60b-faabcbb81238"
      },
      "execution_count": 54,
      "outputs": [
        {
          "output_type": "stream",
          "name": "stdout",
          "text": [
            "Normalização concluída! -- Sucessfull normalization!\n"
          ]
        },
        {
          "output_type": "execute_result",
          "data": {
            "text/plain": [
              "    months  pocket  mm_pocket\n",
              "0        0    8.44   1.000000\n",
              "1        6    6.35   0.737107\n",
              "2        7    4.92   0.557233\n",
              "3        8    4.13   0.457862\n",
              "4       14    3.94   0.433962\n",
              "5       20    3.55   0.384906\n",
              "6       33    2.73   0.281761\n",
              "7       37    2.65   0.271698\n",
              "8       41    1.63   0.143396\n",
              "9       49    0.96   0.059119\n",
              "10      85    0.69   0.025157\n",
              "11     128    0.58   0.011321\n",
              "12     138    0.49   0.000000"
            ],
            "text/html": [
              "\n",
              "  <div id=\"df-361c0352-e7f2-47a0-b363-6dd786eb5ebd\">\n",
              "    <div class=\"colab-df-container\">\n",
              "      <div>\n",
              "<style scoped>\n",
              "    .dataframe tbody tr th:only-of-type {\n",
              "        vertical-align: middle;\n",
              "    }\n",
              "\n",
              "    .dataframe tbody tr th {\n",
              "        vertical-align: top;\n",
              "    }\n",
              "\n",
              "    .dataframe thead th {\n",
              "        text-align: right;\n",
              "    }\n",
              "</style>\n",
              "<table border=\"1\" class=\"dataframe\">\n",
              "  <thead>\n",
              "    <tr style=\"text-align: right;\">\n",
              "      <th></th>\n",
              "      <th>months</th>\n",
              "      <th>pocket</th>\n",
              "      <th>mm_pocket</th>\n",
              "    </tr>\n",
              "  </thead>\n",
              "  <tbody>\n",
              "    <tr>\n",
              "      <th>0</th>\n",
              "      <td>0</td>\n",
              "      <td>8.44</td>\n",
              "      <td>1.000000</td>\n",
              "    </tr>\n",
              "    <tr>\n",
              "      <th>1</th>\n",
              "      <td>6</td>\n",
              "      <td>6.35</td>\n",
              "      <td>0.737107</td>\n",
              "    </tr>\n",
              "    <tr>\n",
              "      <th>2</th>\n",
              "      <td>7</td>\n",
              "      <td>4.92</td>\n",
              "      <td>0.557233</td>\n",
              "    </tr>\n",
              "    <tr>\n",
              "      <th>3</th>\n",
              "      <td>8</td>\n",
              "      <td>4.13</td>\n",
              "      <td>0.457862</td>\n",
              "    </tr>\n",
              "    <tr>\n",
              "      <th>4</th>\n",
              "      <td>14</td>\n",
              "      <td>3.94</td>\n",
              "      <td>0.433962</td>\n",
              "    </tr>\n",
              "    <tr>\n",
              "      <th>5</th>\n",
              "      <td>20</td>\n",
              "      <td>3.55</td>\n",
              "      <td>0.384906</td>\n",
              "    </tr>\n",
              "    <tr>\n",
              "      <th>6</th>\n",
              "      <td>33</td>\n",
              "      <td>2.73</td>\n",
              "      <td>0.281761</td>\n",
              "    </tr>\n",
              "    <tr>\n",
              "      <th>7</th>\n",
              "      <td>37</td>\n",
              "      <td>2.65</td>\n",
              "      <td>0.271698</td>\n",
              "    </tr>\n",
              "    <tr>\n",
              "      <th>8</th>\n",
              "      <td>41</td>\n",
              "      <td>1.63</td>\n",
              "      <td>0.143396</td>\n",
              "    </tr>\n",
              "    <tr>\n",
              "      <th>9</th>\n",
              "      <td>49</td>\n",
              "      <td>0.96</td>\n",
              "      <td>0.059119</td>\n",
              "    </tr>\n",
              "    <tr>\n",
              "      <th>10</th>\n",
              "      <td>85</td>\n",
              "      <td>0.69</td>\n",
              "      <td>0.025157</td>\n",
              "    </tr>\n",
              "    <tr>\n",
              "      <th>11</th>\n",
              "      <td>128</td>\n",
              "      <td>0.58</td>\n",
              "      <td>0.011321</td>\n",
              "    </tr>\n",
              "    <tr>\n",
              "      <th>12</th>\n",
              "      <td>138</td>\n",
              "      <td>0.49</td>\n",
              "      <td>0.000000</td>\n",
              "    </tr>\n",
              "  </tbody>\n",
              "</table>\n",
              "</div>\n",
              "      <button class=\"colab-df-convert\" onclick=\"convertToInteractive('df-361c0352-e7f2-47a0-b363-6dd786eb5ebd')\"\n",
              "              title=\"Convert this dataframe to an interactive table.\"\n",
              "              style=\"display:none;\">\n",
              "        \n",
              "  <svg xmlns=\"http://www.w3.org/2000/svg\" height=\"24px\"viewBox=\"0 0 24 24\"\n",
              "       width=\"24px\">\n",
              "    <path d=\"M0 0h24v24H0V0z\" fill=\"none\"/>\n",
              "    <path d=\"M18.56 5.44l.94 2.06.94-2.06 2.06-.94-2.06-.94-.94-2.06-.94 2.06-2.06.94zm-11 1L8.5 8.5l.94-2.06 2.06-.94-2.06-.94L8.5 2.5l-.94 2.06-2.06.94zm10 10l.94 2.06.94-2.06 2.06-.94-2.06-.94-.94-2.06-.94 2.06-2.06.94z\"/><path d=\"M17.41 7.96l-1.37-1.37c-.4-.4-.92-.59-1.43-.59-.52 0-1.04.2-1.43.59L10.3 9.45l-7.72 7.72c-.78.78-.78 2.05 0 2.83L4 21.41c.39.39.9.59 1.41.59.51 0 1.02-.2 1.41-.59l7.78-7.78 2.81-2.81c.8-.78.8-2.07 0-2.86zM5.41 20L4 18.59l7.72-7.72 1.47 1.35L5.41 20z\"/>\n",
              "  </svg>\n",
              "      </button>\n",
              "      \n",
              "  <style>\n",
              "    .colab-df-container {\n",
              "      display:flex;\n",
              "      flex-wrap:wrap;\n",
              "      gap: 12px;\n",
              "    }\n",
              "\n",
              "    .colab-df-convert {\n",
              "      background-color: #E8F0FE;\n",
              "      border: none;\n",
              "      border-radius: 50%;\n",
              "      cursor: pointer;\n",
              "      display: none;\n",
              "      fill: #1967D2;\n",
              "      height: 32px;\n",
              "      padding: 0 0 0 0;\n",
              "      width: 32px;\n",
              "    }\n",
              "\n",
              "    .colab-df-convert:hover {\n",
              "      background-color: #E2EBFA;\n",
              "      box-shadow: 0px 1px 2px rgba(60, 64, 67, 0.3), 0px 1px 3px 1px rgba(60, 64, 67, 0.15);\n",
              "      fill: #174EA6;\n",
              "    }\n",
              "\n",
              "    [theme=dark] .colab-df-convert {\n",
              "      background-color: #3B4455;\n",
              "      fill: #D2E3FC;\n",
              "    }\n",
              "\n",
              "    [theme=dark] .colab-df-convert:hover {\n",
              "      background-color: #434B5C;\n",
              "      box-shadow: 0px 1px 3px 1px rgba(0, 0, 0, 0.15);\n",
              "      filter: drop-shadow(0px 1px 2px rgba(0, 0, 0, 0.3));\n",
              "      fill: #FFFFFF;\n",
              "    }\n",
              "  </style>\n",
              "\n",
              "      <script>\n",
              "        const buttonEl =\n",
              "          document.querySelector('#df-361c0352-e7f2-47a0-b363-6dd786eb5ebd button.colab-df-convert');\n",
              "        buttonEl.style.display =\n",
              "          google.colab.kernel.accessAllowed ? 'block' : 'none';\n",
              "\n",
              "        async function convertToInteractive(key) {\n",
              "          const element = document.querySelector('#df-361c0352-e7f2-47a0-b363-6dd786eb5ebd');\n",
              "          const dataTable =\n",
              "            await google.colab.kernel.invokeFunction('convertToInteractive',\n",
              "                                                     [key], {});\n",
              "          if (!dataTable) return;\n",
              "\n",
              "          const docLinkHtml = 'Like what you see? Visit the ' +\n",
              "            '<a target=\"_blank\" href=https://colab.research.google.com/notebooks/data_table.ipynb>data table notebook</a>'\n",
              "            + ' to learn more about interactive tables.';\n",
              "          element.innerHTML = '';\n",
              "          dataTable['output_type'] = 'display_data';\n",
              "          await google.colab.output.renderOutput(dataTable, element);\n",
              "          const docLink = document.createElement('div');\n",
              "          docLink.innerHTML = docLinkHtml;\n",
              "          element.appendChild(docLink);\n",
              "        }\n",
              "      </script>\n",
              "    </div>\n",
              "  </div>\n",
              "  "
            ]
          },
          "metadata": {},
          "execution_count": 54
        }
      ]
    },
    {
      "cell_type": "markdown",
      "source": [
        "This next step is where the things get exciting, it will be the creation of the models for future previsions. \n",
        "\n",
        "And after the model creation will be executed the prevision method, which will pass our months column trough the models so that we can see how the model actualy interact with the already existing data (if it miss or predic correctly).\n",
        "\n",
        "There will be generated two models: a linear model and a poisson model."
      ],
      "metadata": {
        "id": "hIDQdQCYXysw"
      }
    },
    {
      "cell_type": "code",
      "source": [
        "two.modeling()\n",
        "two.modeling_previsions()"
      ],
      "metadata": {
        "colab": {
          "base_uri": "https://localhost:8080/"
        },
        "id": "FEptPQpYZI2w",
        "outputId": "46e7233e-793a-46c9-dea2-3bcd05c18ed7"
      },
      "execution_count": 55,
      "outputs": [
        {
          "output_type": "stream",
          "name": "stdout",
          "text": [
            "Optimization terminated successfully.\n",
            "         Current function value: 1.468826\n",
            "         Iterations 7\n",
            "Optimization terminated successfully.\n",
            "         Current function value: 0.500230\n",
            "         Iterations 7\n",
            "Modelagem concluida! -- Sucessfull modeling!\n",
            "Previsões concluidas! -- Sucessfully predicted!\n"
          ]
        }
      ]
    },
    {
      "cell_type": "markdown",
      "source": [
        "We can now access the new tables with each models predictions.\n",
        "\n",
        "The tables can be accessed by the atribute \"models\", which is an array with:\n",
        "\n",
        ">Table with models created using raw data in position 0;\n",
        "\n",
        ">Table with normalized models data in position 1. Each columns has the prefix \"n_\" which refers to the normalized model;\n",
        "\n",
        ">Table with 0-1 range models. It's columns prefix is \"mm_\"."
      ],
      "metadata": {
        "id": "pn-1TYY3Zzql"
      }
    },
    {
      "cell_type": "code",
      "source": [
        "two.models[0]"
      ],
      "metadata": {
        "colab": {
          "base_uri": "https://localhost:8080/",
          "height": 457
        },
        "id": "NKUjsOgraDwG",
        "outputId": "309e7988-03be-44f7-fc8e-7236a4cf914d"
      },
      "execution_count": 41,
      "outputs": [
        {
          "output_type": "execute_result",
          "data": {
            "text/plain": [
              "    months  pocket       lin       poi\n",
              "0        0    8.44  4.971637  6.355150\n",
              "1        6    6.35  4.721765  5.456296\n",
              "2        7    4.92  4.680119  5.319366\n",
              "3        8    4.13  4.638474  5.185873\n",
              "4       14    3.94  4.388602  4.452398\n",
              "5       20    3.55  4.138729  3.822664\n",
              "6       33    2.73  3.597340  2.747086\n",
              "7       37    2.65  3.430758  2.481534\n",
              "8       41    1.63  3.264177  2.241653\n",
              "9       49    0.96  2.931014  1.829214\n",
              "10      85    0.69  1.431780  0.732651\n",
              "11     128    0.58 -0.358970  0.245620\n",
              "12     138    0.49 -0.775424  0.190495"
            ],
            "text/html": [
              "\n",
              "  <div id=\"df-e12dcbb6-f5f4-4490-bcdf-eeffff180e2e\">\n",
              "    <div class=\"colab-df-container\">\n",
              "      <div>\n",
              "<style scoped>\n",
              "    .dataframe tbody tr th:only-of-type {\n",
              "        vertical-align: middle;\n",
              "    }\n",
              "\n",
              "    .dataframe tbody tr th {\n",
              "        vertical-align: top;\n",
              "    }\n",
              "\n",
              "    .dataframe thead th {\n",
              "        text-align: right;\n",
              "    }\n",
              "</style>\n",
              "<table border=\"1\" class=\"dataframe\">\n",
              "  <thead>\n",
              "    <tr style=\"text-align: right;\">\n",
              "      <th></th>\n",
              "      <th>months</th>\n",
              "      <th>pocket</th>\n",
              "      <th>lin</th>\n",
              "      <th>poi</th>\n",
              "    </tr>\n",
              "  </thead>\n",
              "  <tbody>\n",
              "    <tr>\n",
              "      <th>0</th>\n",
              "      <td>0</td>\n",
              "      <td>8.44</td>\n",
              "      <td>4.971637</td>\n",
              "      <td>6.355150</td>\n",
              "    </tr>\n",
              "    <tr>\n",
              "      <th>1</th>\n",
              "      <td>6</td>\n",
              "      <td>6.35</td>\n",
              "      <td>4.721765</td>\n",
              "      <td>5.456296</td>\n",
              "    </tr>\n",
              "    <tr>\n",
              "      <th>2</th>\n",
              "      <td>7</td>\n",
              "      <td>4.92</td>\n",
              "      <td>4.680119</td>\n",
              "      <td>5.319366</td>\n",
              "    </tr>\n",
              "    <tr>\n",
              "      <th>3</th>\n",
              "      <td>8</td>\n",
              "      <td>4.13</td>\n",
              "      <td>4.638474</td>\n",
              "      <td>5.185873</td>\n",
              "    </tr>\n",
              "    <tr>\n",
              "      <th>4</th>\n",
              "      <td>14</td>\n",
              "      <td>3.94</td>\n",
              "      <td>4.388602</td>\n",
              "      <td>4.452398</td>\n",
              "    </tr>\n",
              "    <tr>\n",
              "      <th>5</th>\n",
              "      <td>20</td>\n",
              "      <td>3.55</td>\n",
              "      <td>4.138729</td>\n",
              "      <td>3.822664</td>\n",
              "    </tr>\n",
              "    <tr>\n",
              "      <th>6</th>\n",
              "      <td>33</td>\n",
              "      <td>2.73</td>\n",
              "      <td>3.597340</td>\n",
              "      <td>2.747086</td>\n",
              "    </tr>\n",
              "    <tr>\n",
              "      <th>7</th>\n",
              "      <td>37</td>\n",
              "      <td>2.65</td>\n",
              "      <td>3.430758</td>\n",
              "      <td>2.481534</td>\n",
              "    </tr>\n",
              "    <tr>\n",
              "      <th>8</th>\n",
              "      <td>41</td>\n",
              "      <td>1.63</td>\n",
              "      <td>3.264177</td>\n",
              "      <td>2.241653</td>\n",
              "    </tr>\n",
              "    <tr>\n",
              "      <th>9</th>\n",
              "      <td>49</td>\n",
              "      <td>0.96</td>\n",
              "      <td>2.931014</td>\n",
              "      <td>1.829214</td>\n",
              "    </tr>\n",
              "    <tr>\n",
              "      <th>10</th>\n",
              "      <td>85</td>\n",
              "      <td>0.69</td>\n",
              "      <td>1.431780</td>\n",
              "      <td>0.732651</td>\n",
              "    </tr>\n",
              "    <tr>\n",
              "      <th>11</th>\n",
              "      <td>128</td>\n",
              "      <td>0.58</td>\n",
              "      <td>-0.358970</td>\n",
              "      <td>0.245620</td>\n",
              "    </tr>\n",
              "    <tr>\n",
              "      <th>12</th>\n",
              "      <td>138</td>\n",
              "      <td>0.49</td>\n",
              "      <td>-0.775424</td>\n",
              "      <td>0.190495</td>\n",
              "    </tr>\n",
              "  </tbody>\n",
              "</table>\n",
              "</div>\n",
              "      <button class=\"colab-df-convert\" onclick=\"convertToInteractive('df-e12dcbb6-f5f4-4490-bcdf-eeffff180e2e')\"\n",
              "              title=\"Convert this dataframe to an interactive table.\"\n",
              "              style=\"display:none;\">\n",
              "        \n",
              "  <svg xmlns=\"http://www.w3.org/2000/svg\" height=\"24px\"viewBox=\"0 0 24 24\"\n",
              "       width=\"24px\">\n",
              "    <path d=\"M0 0h24v24H0V0z\" fill=\"none\"/>\n",
              "    <path d=\"M18.56 5.44l.94 2.06.94-2.06 2.06-.94-2.06-.94-.94-2.06-.94 2.06-2.06.94zm-11 1L8.5 8.5l.94-2.06 2.06-.94-2.06-.94L8.5 2.5l-.94 2.06-2.06.94zm10 10l.94 2.06.94-2.06 2.06-.94-2.06-.94-.94-2.06-.94 2.06-2.06.94z\"/><path d=\"M17.41 7.96l-1.37-1.37c-.4-.4-.92-.59-1.43-.59-.52 0-1.04.2-1.43.59L10.3 9.45l-7.72 7.72c-.78.78-.78 2.05 0 2.83L4 21.41c.39.39.9.59 1.41.59.51 0 1.02-.2 1.41-.59l7.78-7.78 2.81-2.81c.8-.78.8-2.07 0-2.86zM5.41 20L4 18.59l7.72-7.72 1.47 1.35L5.41 20z\"/>\n",
              "  </svg>\n",
              "      </button>\n",
              "      \n",
              "  <style>\n",
              "    .colab-df-container {\n",
              "      display:flex;\n",
              "      flex-wrap:wrap;\n",
              "      gap: 12px;\n",
              "    }\n",
              "\n",
              "    .colab-df-convert {\n",
              "      background-color: #E8F0FE;\n",
              "      border: none;\n",
              "      border-radius: 50%;\n",
              "      cursor: pointer;\n",
              "      display: none;\n",
              "      fill: #1967D2;\n",
              "      height: 32px;\n",
              "      padding: 0 0 0 0;\n",
              "      width: 32px;\n",
              "    }\n",
              "\n",
              "    .colab-df-convert:hover {\n",
              "      background-color: #E2EBFA;\n",
              "      box-shadow: 0px 1px 2px rgba(60, 64, 67, 0.3), 0px 1px 3px 1px rgba(60, 64, 67, 0.15);\n",
              "      fill: #174EA6;\n",
              "    }\n",
              "\n",
              "    [theme=dark] .colab-df-convert {\n",
              "      background-color: #3B4455;\n",
              "      fill: #D2E3FC;\n",
              "    }\n",
              "\n",
              "    [theme=dark] .colab-df-convert:hover {\n",
              "      background-color: #434B5C;\n",
              "      box-shadow: 0px 1px 3px 1px rgba(0, 0, 0, 0.15);\n",
              "      filter: drop-shadow(0px 1px 2px rgba(0, 0, 0, 0.3));\n",
              "      fill: #FFFFFF;\n",
              "    }\n",
              "  </style>\n",
              "\n",
              "      <script>\n",
              "        const buttonEl =\n",
              "          document.querySelector('#df-e12dcbb6-f5f4-4490-bcdf-eeffff180e2e button.colab-df-convert');\n",
              "        buttonEl.style.display =\n",
              "          google.colab.kernel.accessAllowed ? 'block' : 'none';\n",
              "\n",
              "        async function convertToInteractive(key) {\n",
              "          const element = document.querySelector('#df-e12dcbb6-f5f4-4490-bcdf-eeffff180e2e');\n",
              "          const dataTable =\n",
              "            await google.colab.kernel.invokeFunction('convertToInteractive',\n",
              "                                                     [key], {});\n",
              "          if (!dataTable) return;\n",
              "\n",
              "          const docLinkHtml = 'Like what you see? Visit the ' +\n",
              "            '<a target=\"_blank\" href=https://colab.research.google.com/notebooks/data_table.ipynb>data table notebook</a>'\n",
              "            + ' to learn more about interactive tables.';\n",
              "          element.innerHTML = '';\n",
              "          dataTable['output_type'] = 'display_data';\n",
              "          await google.colab.output.renderOutput(dataTable, element);\n",
              "          const docLink = document.createElement('div');\n",
              "          docLink.innerHTML = docLinkHtml;\n",
              "          element.appendChild(docLink);\n",
              "        }\n",
              "      </script>\n",
              "    </div>\n",
              "  </div>\n",
              "  "
            ]
          },
          "metadata": {},
          "execution_count": 41
        }
      ]
    },
    {
      "cell_type": "code",
      "source": [
        "two.models[1]"
      ],
      "metadata": {
        "colab": {
          "base_uri": "https://localhost:8080/",
          "height": 457
        },
        "id": "NDGmXQxkwtQr",
        "outputId": "527b024d-43dc-4dcc-cdae-e0c054452d3c"
      },
      "execution_count": 32,
      "outputs": [
        {
          "output_type": "execute_result",
          "data": {
            "text/plain": [
              "    months  n_pocket     n_lin     n_poi\n",
              "0        0      8.44  4.971637  7.293285\n",
              "1        6      6.35  4.721765  5.812003\n",
              "2        7      4.92  4.680119  5.598592\n",
              "3        8      4.13  4.638474  5.393738\n",
              "4       14      3.94  4.388602  4.326045\n",
              "5       20      3.55  4.138729  3.490822\n",
              "6       33      2.73  3.597340  2.252703\n",
              "7       37      2.65  3.430758  1.986523\n",
              "8       41      1.63  3.264177  1.760538\n",
              "9       49      0.96  2.931014  1.405791\n",
              "10      85      0.69  1.431780  0.699863\n",
              "11     128      0.58 -0.358970  0.526112\n",
              "12     138      0.49 -0.775424  0.513984"
            ],
            "text/html": [
              "\n",
              "  <div id=\"df-21a0a082-b827-461b-a13c-4e17f2064c29\">\n",
              "    <div class=\"colab-df-container\">\n",
              "      <div>\n",
              "<style scoped>\n",
              "    .dataframe tbody tr th:only-of-type {\n",
              "        vertical-align: middle;\n",
              "    }\n",
              "\n",
              "    .dataframe tbody tr th {\n",
              "        vertical-align: top;\n",
              "    }\n",
              "\n",
              "    .dataframe thead th {\n",
              "        text-align: right;\n",
              "    }\n",
              "</style>\n",
              "<table border=\"1\" class=\"dataframe\">\n",
              "  <thead>\n",
              "    <tr style=\"text-align: right;\">\n",
              "      <th></th>\n",
              "      <th>months</th>\n",
              "      <th>n_pocket</th>\n",
              "      <th>n_lin</th>\n",
              "      <th>n_poi</th>\n",
              "    </tr>\n",
              "  </thead>\n",
              "  <tbody>\n",
              "    <tr>\n",
              "      <th>0</th>\n",
              "      <td>0</td>\n",
              "      <td>8.44</td>\n",
              "      <td>4.971637</td>\n",
              "      <td>7.293285</td>\n",
              "    </tr>\n",
              "    <tr>\n",
              "      <th>1</th>\n",
              "      <td>6</td>\n",
              "      <td>6.35</td>\n",
              "      <td>4.721765</td>\n",
              "      <td>5.812003</td>\n",
              "    </tr>\n",
              "    <tr>\n",
              "      <th>2</th>\n",
              "      <td>7</td>\n",
              "      <td>4.92</td>\n",
              "      <td>4.680119</td>\n",
              "      <td>5.598592</td>\n",
              "    </tr>\n",
              "    <tr>\n",
              "      <th>3</th>\n",
              "      <td>8</td>\n",
              "      <td>4.13</td>\n",
              "      <td>4.638474</td>\n",
              "      <td>5.393738</td>\n",
              "    </tr>\n",
              "    <tr>\n",
              "      <th>4</th>\n",
              "      <td>14</td>\n",
              "      <td>3.94</td>\n",
              "      <td>4.388602</td>\n",
              "      <td>4.326045</td>\n",
              "    </tr>\n",
              "    <tr>\n",
              "      <th>5</th>\n",
              "      <td>20</td>\n",
              "      <td>3.55</td>\n",
              "      <td>4.138729</td>\n",
              "      <td>3.490822</td>\n",
              "    </tr>\n",
              "    <tr>\n",
              "      <th>6</th>\n",
              "      <td>33</td>\n",
              "      <td>2.73</td>\n",
              "      <td>3.597340</td>\n",
              "      <td>2.252703</td>\n",
              "    </tr>\n",
              "    <tr>\n",
              "      <th>7</th>\n",
              "      <td>37</td>\n",
              "      <td>2.65</td>\n",
              "      <td>3.430758</td>\n",
              "      <td>1.986523</td>\n",
              "    </tr>\n",
              "    <tr>\n",
              "      <th>8</th>\n",
              "      <td>41</td>\n",
              "      <td>1.63</td>\n",
              "      <td>3.264177</td>\n",
              "      <td>1.760538</td>\n",
              "    </tr>\n",
              "    <tr>\n",
              "      <th>9</th>\n",
              "      <td>49</td>\n",
              "      <td>0.96</td>\n",
              "      <td>2.931014</td>\n",
              "      <td>1.405791</td>\n",
              "    </tr>\n",
              "    <tr>\n",
              "      <th>10</th>\n",
              "      <td>85</td>\n",
              "      <td>0.69</td>\n",
              "      <td>1.431780</td>\n",
              "      <td>0.699863</td>\n",
              "    </tr>\n",
              "    <tr>\n",
              "      <th>11</th>\n",
              "      <td>128</td>\n",
              "      <td>0.58</td>\n",
              "      <td>-0.358970</td>\n",
              "      <td>0.526112</td>\n",
              "    </tr>\n",
              "    <tr>\n",
              "      <th>12</th>\n",
              "      <td>138</td>\n",
              "      <td>0.49</td>\n",
              "      <td>-0.775424</td>\n",
              "      <td>0.513984</td>\n",
              "    </tr>\n",
              "  </tbody>\n",
              "</table>\n",
              "</div>\n",
              "      <button class=\"colab-df-convert\" onclick=\"convertToInteractive('df-21a0a082-b827-461b-a13c-4e17f2064c29')\"\n",
              "              title=\"Convert this dataframe to an interactive table.\"\n",
              "              style=\"display:none;\">\n",
              "        \n",
              "  <svg xmlns=\"http://www.w3.org/2000/svg\" height=\"24px\"viewBox=\"0 0 24 24\"\n",
              "       width=\"24px\">\n",
              "    <path d=\"M0 0h24v24H0V0z\" fill=\"none\"/>\n",
              "    <path d=\"M18.56 5.44l.94 2.06.94-2.06 2.06-.94-2.06-.94-.94-2.06-.94 2.06-2.06.94zm-11 1L8.5 8.5l.94-2.06 2.06-.94-2.06-.94L8.5 2.5l-.94 2.06-2.06.94zm10 10l.94 2.06.94-2.06 2.06-.94-2.06-.94-.94-2.06-.94 2.06-2.06.94z\"/><path d=\"M17.41 7.96l-1.37-1.37c-.4-.4-.92-.59-1.43-.59-.52 0-1.04.2-1.43.59L10.3 9.45l-7.72 7.72c-.78.78-.78 2.05 0 2.83L4 21.41c.39.39.9.59 1.41.59.51 0 1.02-.2 1.41-.59l7.78-7.78 2.81-2.81c.8-.78.8-2.07 0-2.86zM5.41 20L4 18.59l7.72-7.72 1.47 1.35L5.41 20z\"/>\n",
              "  </svg>\n",
              "      </button>\n",
              "      \n",
              "  <style>\n",
              "    .colab-df-container {\n",
              "      display:flex;\n",
              "      flex-wrap:wrap;\n",
              "      gap: 12px;\n",
              "    }\n",
              "\n",
              "    .colab-df-convert {\n",
              "      background-color: #E8F0FE;\n",
              "      border: none;\n",
              "      border-radius: 50%;\n",
              "      cursor: pointer;\n",
              "      display: none;\n",
              "      fill: #1967D2;\n",
              "      height: 32px;\n",
              "      padding: 0 0 0 0;\n",
              "      width: 32px;\n",
              "    }\n",
              "\n",
              "    .colab-df-convert:hover {\n",
              "      background-color: #E2EBFA;\n",
              "      box-shadow: 0px 1px 2px rgba(60, 64, 67, 0.3), 0px 1px 3px 1px rgba(60, 64, 67, 0.15);\n",
              "      fill: #174EA6;\n",
              "    }\n",
              "\n",
              "    [theme=dark] .colab-df-convert {\n",
              "      background-color: #3B4455;\n",
              "      fill: #D2E3FC;\n",
              "    }\n",
              "\n",
              "    [theme=dark] .colab-df-convert:hover {\n",
              "      background-color: #434B5C;\n",
              "      box-shadow: 0px 1px 3px 1px rgba(0, 0, 0, 0.15);\n",
              "      filter: drop-shadow(0px 1px 2px rgba(0, 0, 0, 0.3));\n",
              "      fill: #FFFFFF;\n",
              "    }\n",
              "  </style>\n",
              "\n",
              "      <script>\n",
              "        const buttonEl =\n",
              "          document.querySelector('#df-21a0a082-b827-461b-a13c-4e17f2064c29 button.colab-df-convert');\n",
              "        buttonEl.style.display =\n",
              "          google.colab.kernel.accessAllowed ? 'block' : 'none';\n",
              "\n",
              "        async function convertToInteractive(key) {\n",
              "          const element = document.querySelector('#df-21a0a082-b827-461b-a13c-4e17f2064c29');\n",
              "          const dataTable =\n",
              "            await google.colab.kernel.invokeFunction('convertToInteractive',\n",
              "                                                     [key], {});\n",
              "          if (!dataTable) return;\n",
              "\n",
              "          const docLinkHtml = 'Like what you see? Visit the ' +\n",
              "            '<a target=\"_blank\" href=https://colab.research.google.com/notebooks/data_table.ipynb>data table notebook</a>'\n",
              "            + ' to learn more about interactive tables.';\n",
              "          element.innerHTML = '';\n",
              "          dataTable['output_type'] = 'display_data';\n",
              "          await google.colab.output.renderOutput(dataTable, element);\n",
              "          const docLink = document.createElement('div');\n",
              "          docLink.innerHTML = docLinkHtml;\n",
              "          element.appendChild(docLink);\n",
              "        }\n",
              "      </script>\n",
              "    </div>\n",
              "  </div>\n",
              "  "
            ]
          },
          "metadata": {},
          "execution_count": 32
        }
      ]
    },
    {
      "cell_type": "code",
      "source": [
        "two.models[2]"
      ],
      "metadata": {
        "colab": {
          "base_uri": "https://localhost:8080/",
          "height": 457
        },
        "id": "RWHISOl5wxWf",
        "outputId": "d0f1beb3-44a1-4d94-895f-c270108acc32"
      },
      "execution_count": 33,
      "outputs": [
        {
          "output_type": "execute_result",
          "data": {
            "text/plain": [
              "    months  mm_pocket    mm_lin    mm_poi\n",
              "0        0   1.000000  0.563728  0.855759\n",
              "1        6   0.737107  0.532297  0.669434\n",
              "2        7   0.557233  0.527059  0.642590\n",
              "3        8   0.457862  0.521821  0.616822\n",
              "4       14   0.433962  0.490390  0.482521\n",
              "5       20   0.384906  0.458960  0.377462\n",
              "6       33   0.281761  0.390860  0.221724\n",
              "7       37   0.271698  0.369907  0.188242\n",
              "8       41   0.143396  0.348953  0.159816\n",
              "9       49   0.059119  0.307046  0.115194\n",
              "10      85   0.025157  0.118463  0.026398\n",
              "11     128   0.011321 -0.106789  0.004542\n",
              "12     138   0.000000 -0.159173  0.003017"
            ],
            "text/html": [
              "\n",
              "  <div id=\"df-76d9125c-148d-42a8-acde-7252ebacb3e2\">\n",
              "    <div class=\"colab-df-container\">\n",
              "      <div>\n",
              "<style scoped>\n",
              "    .dataframe tbody tr th:only-of-type {\n",
              "        vertical-align: middle;\n",
              "    }\n",
              "\n",
              "    .dataframe tbody tr th {\n",
              "        vertical-align: top;\n",
              "    }\n",
              "\n",
              "    .dataframe thead th {\n",
              "        text-align: right;\n",
              "    }\n",
              "</style>\n",
              "<table border=\"1\" class=\"dataframe\">\n",
              "  <thead>\n",
              "    <tr style=\"text-align: right;\">\n",
              "      <th></th>\n",
              "      <th>months</th>\n",
              "      <th>mm_pocket</th>\n",
              "      <th>mm_lin</th>\n",
              "      <th>mm_poi</th>\n",
              "    </tr>\n",
              "  </thead>\n",
              "  <tbody>\n",
              "    <tr>\n",
              "      <th>0</th>\n",
              "      <td>0</td>\n",
              "      <td>1.000000</td>\n",
              "      <td>0.563728</td>\n",
              "      <td>0.855759</td>\n",
              "    </tr>\n",
              "    <tr>\n",
              "      <th>1</th>\n",
              "      <td>6</td>\n",
              "      <td>0.737107</td>\n",
              "      <td>0.532297</td>\n",
              "      <td>0.669434</td>\n",
              "    </tr>\n",
              "    <tr>\n",
              "      <th>2</th>\n",
              "      <td>7</td>\n",
              "      <td>0.557233</td>\n",
              "      <td>0.527059</td>\n",
              "      <td>0.642590</td>\n",
              "    </tr>\n",
              "    <tr>\n",
              "      <th>3</th>\n",
              "      <td>8</td>\n",
              "      <td>0.457862</td>\n",
              "      <td>0.521821</td>\n",
              "      <td>0.616822</td>\n",
              "    </tr>\n",
              "    <tr>\n",
              "      <th>4</th>\n",
              "      <td>14</td>\n",
              "      <td>0.433962</td>\n",
              "      <td>0.490390</td>\n",
              "      <td>0.482521</td>\n",
              "    </tr>\n",
              "    <tr>\n",
              "      <th>5</th>\n",
              "      <td>20</td>\n",
              "      <td>0.384906</td>\n",
              "      <td>0.458960</td>\n",
              "      <td>0.377462</td>\n",
              "    </tr>\n",
              "    <tr>\n",
              "      <th>6</th>\n",
              "      <td>33</td>\n",
              "      <td>0.281761</td>\n",
              "      <td>0.390860</td>\n",
              "      <td>0.221724</td>\n",
              "    </tr>\n",
              "    <tr>\n",
              "      <th>7</th>\n",
              "      <td>37</td>\n",
              "      <td>0.271698</td>\n",
              "      <td>0.369907</td>\n",
              "      <td>0.188242</td>\n",
              "    </tr>\n",
              "    <tr>\n",
              "      <th>8</th>\n",
              "      <td>41</td>\n",
              "      <td>0.143396</td>\n",
              "      <td>0.348953</td>\n",
              "      <td>0.159816</td>\n",
              "    </tr>\n",
              "    <tr>\n",
              "      <th>9</th>\n",
              "      <td>49</td>\n",
              "      <td>0.059119</td>\n",
              "      <td>0.307046</td>\n",
              "      <td>0.115194</td>\n",
              "    </tr>\n",
              "    <tr>\n",
              "      <th>10</th>\n",
              "      <td>85</td>\n",
              "      <td>0.025157</td>\n",
              "      <td>0.118463</td>\n",
              "      <td>0.026398</td>\n",
              "    </tr>\n",
              "    <tr>\n",
              "      <th>11</th>\n",
              "      <td>128</td>\n",
              "      <td>0.011321</td>\n",
              "      <td>-0.106789</td>\n",
              "      <td>0.004542</td>\n",
              "    </tr>\n",
              "    <tr>\n",
              "      <th>12</th>\n",
              "      <td>138</td>\n",
              "      <td>0.000000</td>\n",
              "      <td>-0.159173</td>\n",
              "      <td>0.003017</td>\n",
              "    </tr>\n",
              "  </tbody>\n",
              "</table>\n",
              "</div>\n",
              "      <button class=\"colab-df-convert\" onclick=\"convertToInteractive('df-76d9125c-148d-42a8-acde-7252ebacb3e2')\"\n",
              "              title=\"Convert this dataframe to an interactive table.\"\n",
              "              style=\"display:none;\">\n",
              "        \n",
              "  <svg xmlns=\"http://www.w3.org/2000/svg\" height=\"24px\"viewBox=\"0 0 24 24\"\n",
              "       width=\"24px\">\n",
              "    <path d=\"M0 0h24v24H0V0z\" fill=\"none\"/>\n",
              "    <path d=\"M18.56 5.44l.94 2.06.94-2.06 2.06-.94-2.06-.94-.94-2.06-.94 2.06-2.06.94zm-11 1L8.5 8.5l.94-2.06 2.06-.94-2.06-.94L8.5 2.5l-.94 2.06-2.06.94zm10 10l.94 2.06.94-2.06 2.06-.94-2.06-.94-.94-2.06-.94 2.06-2.06.94z\"/><path d=\"M17.41 7.96l-1.37-1.37c-.4-.4-.92-.59-1.43-.59-.52 0-1.04.2-1.43.59L10.3 9.45l-7.72 7.72c-.78.78-.78 2.05 0 2.83L4 21.41c.39.39.9.59 1.41.59.51 0 1.02-.2 1.41-.59l7.78-7.78 2.81-2.81c.8-.78.8-2.07 0-2.86zM5.41 20L4 18.59l7.72-7.72 1.47 1.35L5.41 20z\"/>\n",
              "  </svg>\n",
              "      </button>\n",
              "      \n",
              "  <style>\n",
              "    .colab-df-container {\n",
              "      display:flex;\n",
              "      flex-wrap:wrap;\n",
              "      gap: 12px;\n",
              "    }\n",
              "\n",
              "    .colab-df-convert {\n",
              "      background-color: #E8F0FE;\n",
              "      border: none;\n",
              "      border-radius: 50%;\n",
              "      cursor: pointer;\n",
              "      display: none;\n",
              "      fill: #1967D2;\n",
              "      height: 32px;\n",
              "      padding: 0 0 0 0;\n",
              "      width: 32px;\n",
              "    }\n",
              "\n",
              "    .colab-df-convert:hover {\n",
              "      background-color: #E2EBFA;\n",
              "      box-shadow: 0px 1px 2px rgba(60, 64, 67, 0.3), 0px 1px 3px 1px rgba(60, 64, 67, 0.15);\n",
              "      fill: #174EA6;\n",
              "    }\n",
              "\n",
              "    [theme=dark] .colab-df-convert {\n",
              "      background-color: #3B4455;\n",
              "      fill: #D2E3FC;\n",
              "    }\n",
              "\n",
              "    [theme=dark] .colab-df-convert:hover {\n",
              "      background-color: #434B5C;\n",
              "      box-shadow: 0px 1px 3px 1px rgba(0, 0, 0, 0.15);\n",
              "      filter: drop-shadow(0px 1px 2px rgba(0, 0, 0, 0.3));\n",
              "      fill: #FFFFFF;\n",
              "    }\n",
              "  </style>\n",
              "\n",
              "      <script>\n",
              "        const buttonEl =\n",
              "          document.querySelector('#df-76d9125c-148d-42a8-acde-7252ebacb3e2 button.colab-df-convert');\n",
              "        buttonEl.style.display =\n",
              "          google.colab.kernel.accessAllowed ? 'block' : 'none';\n",
              "\n",
              "        async function convertToInteractive(key) {\n",
              "          const element = document.querySelector('#df-76d9125c-148d-42a8-acde-7252ebacb3e2');\n",
              "          const dataTable =\n",
              "            await google.colab.kernel.invokeFunction('convertToInteractive',\n",
              "                                                     [key], {});\n",
              "          if (!dataTable) return;\n",
              "\n",
              "          const docLinkHtml = 'Like what you see? Visit the ' +\n",
              "            '<a target=\"_blank\" href=https://colab.research.google.com/notebooks/data_table.ipynb>data table notebook</a>'\n",
              "            + ' to learn more about interactive tables.';\n",
              "          element.innerHTML = '';\n",
              "          dataTable['output_type'] = 'display_data';\n",
              "          await google.colab.output.renderOutput(dataTable, element);\n",
              "          const docLink = document.createElement('div');\n",
              "          docLink.innerHTML = docLinkHtml;\n",
              "          element.appendChild(docLink);\n",
              "        }\n",
              "      </script>\n",
              "    </div>\n",
              "  </div>\n",
              "  "
            ]
          },
          "metadata": {},
          "execution_count": 33
        }
      ]
    },
    {
      "cell_type": "markdown",
      "source": [
        "It will be better seen in the next cell which is the most pleasing part of this analysis, will be ploted the graphics with the models prediction's and the actual data.\n",
        "\n",
        "By default the method creates the non and normalized models graphics. If, by curiosity or any sort of feeling, you want to see the 0-1 range graphic you can use\n",
        "\n",
        "    two.reg_graphics(normalized = False)\n",
        "\n",
        "\"two\" being the cube we've created and \"reg_graphics\" standing for \"regression graphics\"."
      ],
      "metadata": {
        "id": "2qnLed1uZTnq"
      }
    },
    {
      "cell_type": "code",
      "source": [
        "two.reg_graphics()"
      ],
      "metadata": {
        "colab": {
          "base_uri": "https://localhost:8080/",
          "height": 373
        },
        "id": "UNMFUSV7Zqtv",
        "outputId": "ccfbcbce-ce75-47d3-90dd-a105ba6c86df"
      },
      "execution_count": 90,
      "outputs": [
        {
          "output_type": "display_data",
          "data": {
            "text/plain": [
              "<Figure size 1080x360 with 2 Axes>"
            ],
            "image/png": "[encoded data removed]"
          },
          "metadata": {
            "needs_background": "light"
          }
        }
      ]
    },
    {
      "cell_type": "markdown",
      "source": [
        "In this case looks like normalizing the data helped in the model creation.\n",
        "\n",
        "We can confirm by seeing some metrics."
      ],
      "metadata": {
        "id": "fvIvOXN1bk7f"
      }
    },
    {
      "cell_type": "code",
      "source": [
        "two.metrics_results(model='poisson', normalized=True)"
      ],
      "metadata": {
        "colab": {
          "base_uri": "https://localhost:8080/"
        },
        "id": "EAV8iotpOpoF",
        "outputId": "ddad49c1-3581-4398-a6cb-6c4890257b4e"
      },
      "execution_count": 35,
      "outputs": [
        {
          "output_type": "stream",
          "name": "stdout",
          "text": [
            "POISSON\n",
            "\tR² = 0.933180249661222\n",
            "\tMAE = 0.4520847988865587\n",
            "\tMAPE = 0.1465353485945023\n",
            "\tRMSE = 0.6013964370495107\n",
            "\tAIC = 17.005985784759012\n",
            "\tBIC = 18.135884499682085\n"
          ]
        }
      ]
    },
    {
      "cell_type": "markdown",
      "source": [
        "This shows that in the normalized case the poisson model works for predictions."
      ],
      "metadata": {
        "id": "loGeMWZLATmV"
      }
    },
    {
      "cell_type": "markdown",
      "source": [
        "So if we are looking for making predictions we can use the method \n",
        "    \n",
        "    .pred_future(model = None, normalized = False, predict = [1, 3, 6, 12, 24, 36, 48, 60, 72, 84, 96, 108, 120])\n",
        "\n",
        ">Model = name of the model wanted;\n",
        "\n",
        ">Normalized = if wanted to use the non or normalized model. Default = Non normalized;\n",
        "\n",
        ">Predict = array or int of how many months we wnat to predict. Default 1, 3 and 6 months ahead, then each of ten years ahead.\n",
        "\n",
        "\"pred_future\" stands for \"predict future\".\n",
        "\n",
        "Predicting the record in 36 months."
      ],
      "metadata": {
        "id": "ZESNiE7g09ie"
      }
    },
    {
      "cell_type": "code",
      "source": [
        "two.pred_future(model='poisson', normalized=True, predict=36)"
      ],
      "metadata": {
        "colab": {
          "base_uri": "https://localhost:8080/"
        },
        "id": "PKHbucLsenYk",
        "outputId": "dba12e03-5a1e-4550-c07e-618431974af6"
      },
      "execution_count": 61,
      "outputs": [
        {
          "output_type": "execute_result",
          "data": {
            "text/plain": [
              "array([[0.49549612]])"
            ]
          },
          "metadata": {},
          "execution_count": 61
        }
      ]
    },
    {
      "cell_type": "markdown",
      "source": [
        "Predicting the default period of months"
      ],
      "metadata": {
        "id": "Lqr1JlDxjLwn"
      }
    },
    {
      "cell_type": "code",
      "source": [
        "two.pred_future('poisson', True)"
      ],
      "metadata": {
        "colab": {
          "base_uri": "https://localhost:8080/"
        },
        "id": "eocHvY9VjRXh",
        "outputId": "0d5ce265-e60c-4bdc-e3a7-1c5aa2128f53"
      },
      "execution_count": 62,
      "outputs": [
        {
          "output_type": "execute_result",
          "data": {
            "text/plain": [
              "array([[0.51302201],\n",
              "       [0.51121267],\n",
              "       [0.50876176],\n",
              "       [0.50467675],\n",
              "       [0.49898138],\n",
              "       [0.49549612],\n",
              "       [0.49336332],\n",
              "       [0.49205817],\n",
              "       [0.49125949],\n",
              "       [0.49077074],\n",
              "       [0.49047165],\n",
              "       [0.49028862],\n",
              "       [0.49017662]])"
            ]
          },
          "metadata": {},
          "execution_count": 62
        }
      ]
    },
    {
      "cell_type": "markdown",
      "source": [
        "We can explore the characteristics of any model by printing the model summary.\n",
        "\n",
        "Remember we made two models, one non and other normalized? Well, we shall refer to each specific model to get the summary. Both are stored in an array the we can call by the atribute of the model type (binomial and poisson in this case).\n",
        "\n",
        "The non normalized model is in array's 0 position; the normalized, in 1 position."
      ],
      "metadata": {
        "id": "-zoJLN3sc_qE"
      }
    },
    {
      "cell_type": "code",
      "source": [
        "print(two.poisson[1].summary())"
      ],
      "metadata": {
        "colab": {
          "base_uri": "https://localhost:8080/"
        },
        "id": "393Ia6XieiTR",
        "outputId": "2648eb13-be6d-4b98-d04c-1990b1ae6635"
      },
      "execution_count": 217,
      "outputs": [
        {
          "output_type": "stream",
          "name": "stdout",
          "text": [
            "                          Poisson Regression Results                          \n",
            "==============================================================================\n",
            "Dep. Variable:               n_pocket   No. Observations:                   13\n",
            "Model:                        Poisson   Df Residuals:                       11\n",
            "Method:                           MLE   Df Model:                            1\n",
            "Date:                Tue, 28 Jun 2022   Pseudo R-squ.:                  0.2103\n",
            "Time:                        13:35:56   Log-Likelihood:                -6.5030\n",
            "converged:                       True   LL-Null:                       -8.2346\n",
            "Covariance Type:            nonrobust   LLR p-value:                   0.06275\n",
            "==============================================================================\n",
            "                 coef    std err          z      P>|z|      [0.025      0.975]\n",
            "------------------------------------------------------------------------------\n",
            "Intercept     -0.1558      0.642     -0.243      0.808      -1.413       1.102\n",
            "months        -0.0409      0.032     -1.262      0.207      -0.104       0.023\n",
            "==============================================================================\n"
          ]
        }
      ]
    },
    {
      "cell_type": "markdown",
      "source": [
        "#### Rubik's cube"
      ],
      "metadata": {
        "id": "X7MzerK4h4nd"
      }
    },
    {
      "cell_type": "markdown",
      "source": [
        "The same way done to Pocket's analysis shall be done for other cubes analysis.\n",
        "\n",
        "The object is already created with the edge's number of pieces as it's name."
      ],
      "metadata": {
        "id": "oKbcIO-4iYeC"
      }
    },
    {
      "cell_type": "code",
      "source": [
        "three.r_month"
      ],
      "metadata": {
        "colab": {
          "base_uri": "https://localhost:8080/",
          "height": 864
        },
        "id": "Bd20hC_Ak3mX",
        "outputId": "91538e3e-25e8-45dc-c7b4-eeb2264babee"
      },
      "execution_count": 218,
      "outputs": [
        {
          "output_type": "execute_result",
          "data": {
            "text/plain": [
              "        dates  months  rubik\n",
              "0  2003-09-14       0  16.53\n",
              "1  2004-02-14       5  14.76\n",
              "2  2004-04-14       7  12.11\n",
              "3  2005-11-14      26  11.75\n",
              "4  2006-01-14      28  11.13\n",
              "5  2006-08-14      35  10.48\n",
              "6  2007-03-14      42  10.36\n",
              "7  2007-05-14      44   9.86\n",
              "8  2007-10-14      49   9.77\n",
              "9  2007-12-14      51   9.55\n",
              "10 2008-02-14      53   9.18\n",
              "11 2008-05-14      56   8.72\n",
              "12 2008-07-14      58   7.08\n",
              "13 2010-11-14      86   6.77\n",
              "14 2011-02-14      89   6.65\n",
              "15 2011-05-14      92   6.24\n",
              "16 2011-07-14      94   5.66\n",
              "17 2013-03-14     114   5.55\n",
              "18 2015-05-14     140   5.25\n",
              "19 2015-12-14     147   4.90\n",
              "20 2016-11-14     158   4.74\n",
              "21 2016-12-14     159   4.73\n",
              "22 2017-09-14     168   4.69\n",
              "23 2017-10-14     169   4.59\n",
              "24 2018-05-14     176   4.22\n",
              "25 2018-12-14     183   3.47"
            ],
            "text/html": [
              "\n",
              "  <div id=\"df-ddcf911a-b201-45b9-9519-8142ed785c44\">\n",
              "    <div class=\"colab-df-container\">\n",
              "      <div>\n",
              "<style scoped>\n",
              "    .dataframe tbody tr th:only-of-type {\n",
              "        vertical-align: middle;\n",
              "    }\n",
              "\n",
              "    .dataframe tbody tr th {\n",
              "        vertical-align: top;\n",
              "    }\n",
              "\n",
              "    .dataframe thead th {\n",
              "        text-align: right;\n",
              "    }\n",
              "</style>\n",
              "<table border=\"1\" class=\"dataframe\">\n",
              "  <thead>\n",
              "    <tr style=\"text-align: right;\">\n",
              "      <th></th>\n",
              "      <th>dates</th>\n",
              "      <th>months</th>\n",
              "      <th>rubik</th>\n",
              "    </tr>\n",
              "  </thead>\n",
              "  <tbody>\n",
              "    <tr>\n",
              "      <th>0</th>\n",
              "      <td>2003-09-14</td>\n",
              "      <td>0</td>\n",
              "      <td>16.53</td>\n",
              "    </tr>\n",
              "    <tr>\n",
              "      <th>1</th>\n",
              "      <td>2004-02-14</td>\n",
              "      <td>5</td>\n",
              "      <td>14.76</td>\n",
              "    </tr>\n",
              "    <tr>\n",
              "      <th>2</th>\n",
              "      <td>2004-04-14</td>\n",
              "      <td>7</td>\n",
              "      <td>12.11</td>\n",
              "    </tr>\n",
              "    <tr>\n",
              "      <th>3</th>\n",
              "      <td>2005-11-14</td>\n",
              "      <td>26</td>\n",
              "      <td>11.75</td>\n",
              "    </tr>\n",
              "    <tr>\n",
              "      <th>4</th>\n",
              "      <td>2006-01-14</td>\n",
              "      <td>28</td>\n",
              "      <td>11.13</td>\n",
              "    </tr>\n",
              "    <tr>\n",
              "      <th>5</th>\n",
              "      <td>2006-08-14</td>\n",
              "      <td>35</td>\n",
              "      <td>10.48</td>\n",
              "    </tr>\n",
              "    <tr>\n",
              "      <th>6</th>\n",
              "      <td>2007-03-14</td>\n",
              "      <td>42</td>\n",
              "      <td>10.36</td>\n",
              "    </tr>\n",
              "    <tr>\n",
              "      <th>7</th>\n",
              "      <td>2007-05-14</td>\n",
              "      <td>44</td>\n",
              "      <td>9.86</td>\n",
              "    </tr>\n",
              "    <tr>\n",
              "      <th>8</th>\n",
              "      <td>2007-10-14</td>\n",
              "      <td>49</td>\n",
              "      <td>9.77</td>\n",
              "    </tr>\n",
              "    <tr>\n",
              "      <th>9</th>\n",
              "      <td>2007-12-14</td>\n",
              "      <td>51</td>\n",
              "      <td>9.55</td>\n",
              "    </tr>\n",
              "    <tr>\n",
              "      <th>10</th>\n",
              "      <td>2008-02-14</td>\n",
              "      <td>53</td>\n",
              "      <td>9.18</td>\n",
              "    </tr>\n",
              "    <tr>\n",
              "      <th>11</th>\n",
              "      <td>2008-05-14</td>\n",
              "      <td>56</td>\n",
              "      <td>8.72</td>\n",
              "    </tr>\n",
              "    <tr>\n",
              "      <th>12</th>\n",
              "      <td>2008-07-14</td>\n",
              "      <td>58</td>\n",
              "      <td>7.08</td>\n",
              "    </tr>\n",
              "    <tr>\n",
              "      <th>13</th>\n",
              "      <td>2010-11-14</td>\n",
              "      <td>86</td>\n",
              "      <td>6.77</td>\n",
              "    </tr>\n",
              "    <tr>\n",
              "      <th>14</th>\n",
              "      <td>2011-02-14</td>\n",
              "      <td>89</td>\n",
              "      <td>6.65</td>\n",
              "    </tr>\n",
              "    <tr>\n",
              "      <th>15</th>\n",
              "      <td>2011-05-14</td>\n",
              "      <td>92</td>\n",
              "      <td>6.24</td>\n",
              "    </tr>\n",
              "    <tr>\n",
              "      <th>16</th>\n",
              "      <td>2011-07-14</td>\n",
              "      <td>94</td>\n",
              "      <td>5.66</td>\n",
              "    </tr>\n",
              "    <tr>\n",
              "      <th>17</th>\n",
              "      <td>2013-03-14</td>\n",
              "      <td>114</td>\n",
              "      <td>5.55</td>\n",
              "    </tr>\n",
              "    <tr>\n",
              "      <th>18</th>\n",
              "      <td>2015-05-14</td>\n",
              "      <td>140</td>\n",
              "      <td>5.25</td>\n",
              "    </tr>\n",
              "    <tr>\n",
              "      <th>19</th>\n",
              "      <td>2015-12-14</td>\n",
              "      <td>147</td>\n",
              "      <td>4.90</td>\n",
              "    </tr>\n",
              "    <tr>\n",
              "      <th>20</th>\n",
              "      <td>2016-11-14</td>\n",
              "      <td>158</td>\n",
              "      <td>4.74</td>\n",
              "    </tr>\n",
              "    <tr>\n",
              "      <th>21</th>\n",
              "      <td>2016-12-14</td>\n",
              "      <td>159</td>\n",
              "      <td>4.73</td>\n",
              "    </tr>\n",
              "    <tr>\n",
              "      <th>22</th>\n",
              "      <td>2017-09-14</td>\n",
              "      <td>168</td>\n",
              "      <td>4.69</td>\n",
              "    </tr>\n",
              "    <tr>\n",
              "      <th>23</th>\n",
              "      <td>2017-10-14</td>\n",
              "      <td>169</td>\n",
              "      <td>4.59</td>\n",
              "    </tr>\n",
              "    <tr>\n",
              "      <th>24</th>\n",
              "      <td>2018-05-14</td>\n",
              "      <td>176</td>\n",
              "      <td>4.22</td>\n",
              "    </tr>\n",
              "    <tr>\n",
              "      <th>25</th>\n",
              "      <td>2018-12-14</td>\n",
              "      <td>183</td>\n",
              "      <td>3.47</td>\n",
              "    </tr>\n",
              "  </tbody>\n",
              "</table>\n",
              "</div>\n",
              "      <button class=\"colab-df-convert\" onclick=\"convertToInteractive('df-ddcf911a-b201-45b9-9519-8142ed785c44')\"\n",
              "              title=\"Convert this dataframe to an interactive table.\"\n",
              "              style=\"display:none;\">\n",
              "        \n",
              "  <svg xmlns=\"http://www.w3.org/2000/svg\" height=\"24px\"viewBox=\"0 0 24 24\"\n",
              "       width=\"24px\">\n",
              "    <path d=\"M0 0h24v24H0V0z\" fill=\"none\"/>\n",
              "    <path d=\"M18.56 5.44l.94 2.06.94-2.06 2.06-.94-2.06-.94-.94-2.06-.94 2.06-2.06.94zm-11 1L8.5 8.5l.94-2.06 2.06-.94-2.06-.94L8.5 2.5l-.94 2.06-2.06.94zm10 10l.94 2.06.94-2.06 2.06-.94-2.06-.94-.94-2.06-.94 2.06-2.06.94z\"/><path d=\"M17.41 7.96l-1.37-1.37c-.4-.4-.92-.59-1.43-.59-.52 0-1.04.2-1.43.59L10.3 9.45l-7.72 7.72c-.78.78-.78 2.05 0 2.83L4 21.41c.39.39.9.59 1.41.59.51 0 1.02-.2 1.41-.59l7.78-7.78 2.81-2.81c.8-.78.8-2.07 0-2.86zM5.41 20L4 18.59l7.72-7.72 1.47 1.35L5.41 20z\"/>\n",
              "  </svg>\n",
              "      </button>\n",
              "      \n",
              "  <style>\n",
              "    .colab-df-container {\n",
              "      display:flex;\n",
              "      flex-wrap:wrap;\n",
              "      gap: 12px;\n",
              "    }\n",
              "\n",
              "    .colab-df-convert {\n",
              "      background-color: #E8F0FE;\n",
              "      border: none;\n",
              "      border-radius: 50%;\n",
              "      cursor: pointer;\n",
              "      display: none;\n",
              "      fill: #1967D2;\n",
              "      height: 32px;\n",
              "      padding: 0 0 0 0;\n",
              "      width: 32px;\n",
              "    }\n",
              "\n",
              "    .colab-df-convert:hover {\n",
              "      background-color: #E2EBFA;\n",
              "      box-shadow: 0px 1px 2px rgba(60, 64, 67, 0.3), 0px 1px 3px 1px rgba(60, 64, 67, 0.15);\n",
              "      fill: #174EA6;\n",
              "    }\n",
              "\n",
              "    [theme=dark] .colab-df-convert {\n",
              "      background-color: #3B4455;\n",
              "      fill: #D2E3FC;\n",
              "    }\n",
              "\n",
              "    [theme=dark] .colab-df-convert:hover {\n",
              "      background-color: #434B5C;\n",
              "      box-shadow: 0px 1px 3px 1px rgba(0, 0, 0, 0.15);\n",
              "      filter: drop-shadow(0px 1px 2px rgba(0, 0, 0, 0.3));\n",
              "      fill: #FFFFFF;\n",
              "    }\n",
              "  </style>\n",
              "\n",
              "      <script>\n",
              "        const buttonEl =\n",
              "          document.querySelector('#df-ddcf911a-b201-45b9-9519-8142ed785c44 button.colab-df-convert');\n",
              "        buttonEl.style.display =\n",
              "          google.colab.kernel.accessAllowed ? 'block' : 'none';\n",
              "\n",
              "        async function convertToInteractive(key) {\n",
              "          const element = document.querySelector('#df-ddcf911a-b201-45b9-9519-8142ed785c44');\n",
              "          const dataTable =\n",
              "            await google.colab.kernel.invokeFunction('convertToInteractive',\n",
              "                                                     [key], {});\n",
              "          if (!dataTable) return;\n",
              "\n",
              "          const docLinkHtml = 'Like what you see? Visit the ' +\n",
              "            '<a target=\"_blank\" href=https://colab.research.google.com/notebooks/data_table.ipynb>data table notebook</a>'\n",
              "            + ' to learn more about interactive tables.';\n",
              "          element.innerHTML = '';\n",
              "          dataTable['output_type'] = 'display_data';\n",
              "          await google.colab.output.renderOutput(dataTable, element);\n",
              "          const docLink = document.createElement('div');\n",
              "          docLink.innerHTML = docLinkHtml;\n",
              "          element.appendChild(docLink);\n",
              "        }\n",
              "      </script>\n",
              "    </div>\n",
              "  </div>\n",
              "  "
            ]
          },
          "metadata": {},
          "execution_count": 218
        }
      ]
    },
    {
      "cell_type": "code",
      "source": [
        "three.graphics();"
      ],
      "metadata": {
        "colab": {
          "base_uri": "https://localhost:8080/",
          "height": 373
        },
        "id": "Q8o5BzM1igz3",
        "outputId": "10f591e1-f5b0-4e49-c8de-a0fa1d785958"
      },
      "execution_count": 219,
      "outputs": [
        {
          "output_type": "display_data",
          "data": {
            "text/plain": [
              "<Figure size 1080x360 with 2 Axes>"
            ],
            "image/png": "[encoded data removed]"
          },
          "metadata": {
            "needs_background": "light"
          }
        }
      ]
    },
    {
      "cell_type": "markdown",
      "source": [
        "If you want to save some time, you can call directly for the regression graphics."
      ],
      "metadata": {
        "id": "nxpZmPkNlnX_"
      }
    },
    {
      "cell_type": "code",
      "source": [
        "three.reg_graphics()"
      ],
      "metadata": {
        "colab": {
          "base_uri": "https://localhost:8080/",
          "height": 581
        },
        "id": "S2nuCZOClxL0",
        "outputId": "37f89297-781d-449f-a1ab-58117326d327"
      },
      "execution_count": 63,
      "outputs": [
        {
          "output_type": "stream",
          "name": "stdout",
          "text": [
            "Prevendo dados... -- Predicting\n",
            "Modelando para prever... -- Modeling data for previsions...\n",
            "Normalizando dados... -- Normalizing data...\n",
            "Normalização concluída! -- Sucessfull normalization!\n",
            "Optimization terminated successfully.\n",
            "         Current function value: 1.968787\n",
            "         Iterations 5\n",
            "Optimization terminated successfully.\n",
            "         Current function value: 0.541958\n",
            "         Iterations 6\n",
            "Modelagem concluida! -- Sucessfull modeling!\n",
            "Previsões concluidas! -- Sucessfully predicted!\n"
          ]
        },
        {
          "output_type": "display_data",
          "data": {
            "text/plain": [
              "<Figure size 1080x360 with 2 Axes>"
            ],
            "image/png": "[encoded data removed]"
          },
          "metadata": {
            "needs_background": "light"
          }
        }
      ]
    },
    {
      "cell_type": "markdown",
      "source": [
        "If we see the metrics we may think the best model is the normalized one.\n",
        "\n",
        "Take the poisson model for instance."
      ],
      "metadata": {
        "id": "Km5-A02zPwzc"
      }
    },
    {
      "cell_type": "code",
      "source": [
        "print('Raw Data')\n",
        "three.metrics_results('poisson')\n",
        "print('Normalized model')\n",
        "three.metrics_results('poisson', True)"
      ],
      "metadata": {
        "colab": {
          "base_uri": "https://localhost:8080/"
        },
        "id": "v0CGmJJOQQrz",
        "outputId": "42a11976-bc28-47ff-aa9b-c6190a2267d1"
      },
      "execution_count": 64,
      "outputs": [
        {
          "output_type": "stream",
          "name": "stdout",
          "text": [
            "Raw Data\n",
            "POISSON\n",
            "\tR² = 0.9354646470900173\n",
            "\tMAE = 0.6050218274952724\n",
            "\tMAPE = 0.08059178344746297\n",
            "\tRMSE = 0.8578163087806969\n",
            "\tAIC = 106.37691571617604\n",
            "\tBIC = 108.89310879221901\n",
            "Normalized model\n",
            "POISSON\n",
            "\tR² = 0.9654225216278027\n",
            "\tMAE = 0.4175465003926798\n",
            "\tMAPE = 0.05475176227557729\n",
            "\tRMSE = 0.6279023569792563\n",
            "\tAIC = 32.181795704133044\n",
            "\tBIC = 34.69798878017601\n"
          ]
        }
      ]
    },
    {
      "cell_type": "markdown",
      "source": [
        "But in my assesment the newest records are even more relevant than the older ones. \n",
        "\n",
        "It will be clearer soon, when we make soome previsions. \n",
        "\n",
        "The two following dataframes show a comparison of the non and unormalized model."
      ],
      "metadata": {
        "id": "H8QHkmg3RVy5"
      }
    },
    {
      "cell_type": "code",
      "source": [
        "three.models[0]"
      ],
      "metadata": {
        "colab": {
          "base_uri": "https://localhost:8080/",
          "height": 864
        },
        "id": "KSqHMydymGXl",
        "outputId": "9fd6b5ce-b849-4c9b-e258-99677b4f4322"
      },
      "execution_count": 65,
      "outputs": [
        {
          "output_type": "execute_result",
          "data": {
            "text/plain": [
              "    months  rubik        lin        poi\n",
              "0        0  16.53  12.629203  13.848766\n",
              "1        5  14.76  12.360878  13.347740\n",
              "2        7  12.11  12.253548  13.152442\n",
              "3       26  11.75  11.233913  11.433880\n",
              "4       28  11.13  11.126583  11.266585\n",
              "5       35  10.48  10.750928  10.700094\n",
              "6       42  10.36  10.375273  10.162087\n",
              "7       44   9.86  10.267943  10.013400\n",
              "8       49   9.77   9.999618   9.651131\n",
              "9       51   9.55   9.892288   9.509920\n",
              "10      53   9.18   9.784958   9.370776\n",
              "11      56   8.72   9.623963   9.165866\n",
              "12      58   7.08   9.516633   9.031756\n",
              "13      86   6.77   8.014013   7.347734\n",
              "14      89   6.65   7.853018   7.187062\n",
              "15      92   6.24   7.692023   7.029904\n",
              "16      94   5.66   7.584693   6.927045\n",
              "17     114   5.55   6.511393   5.977707\n",
              "18     140   5.25   5.116103   4.935341\n",
              "19     147   4.90   4.740448   4.687189\n",
              "20     158   4.74   4.150133   4.322203\n",
              "21     159   4.73   4.096468   4.290466\n",
              "22     168   4.69   3.613483   4.015119\n",
              "23     169   4.59   3.559818   3.985637\n",
              "24     176   4.22   3.184163   3.785237\n",
              "25     183   3.47   2.808508   3.594913"
            ],
            "text/html": [
              "\n",
              "  <div id=\"df-b85239a7-c2a7-49e9-99f8-b3927e77a56c\">\n",
              "    <div class=\"colab-df-container\">\n",
              "      <div>\n",
              "<style scoped>\n",
              "    .dataframe tbody tr th:only-of-type {\n",
              "        vertical-align: middle;\n",
              "    }\n",
              "\n",
              "    .dataframe tbody tr th {\n",
              "        vertical-align: top;\n",
              "    }\n",
              "\n",
              "    .dataframe thead th {\n",
              "        text-align: right;\n",
              "    }\n",
              "</style>\n",
              "<table border=\"1\" class=\"dataframe\">\n",
              "  <thead>\n",
              "    <tr style=\"text-align: right;\">\n",
              "      <th></th>\n",
              "      <th>months</th>\n",
              "      <th>rubik</th>\n",
              "      <th>lin</th>\n",
              "      <th>poi</th>\n",
              "    </tr>\n",
              "  </thead>\n",
              "  <tbody>\n",
              "    <tr>\n",
              "      <th>0</th>\n",
              "      <td>0</td>\n",
              "      <td>16.53</td>\n",
              "      <td>12.629203</td>\n",
              "      <td>13.848766</td>\n",
              "    </tr>\n",
              "    <tr>\n",
              "      <th>1</th>\n",
              "      <td>5</td>\n",
              "      <td>14.76</td>\n",
              "      <td>12.360878</td>\n",
              "      <td>13.347740</td>\n",
              "    </tr>\n",
              "    <tr>\n",
              "      <th>2</th>\n",
              "      <td>7</td>\n",
              "      <td>12.11</td>\n",
              "      <td>12.253548</td>\n",
              "      <td>13.152442</td>\n",
              "    </tr>\n",
              "    <tr>\n",
              "      <th>3</th>\n",
              "      <td>26</td>\n",
              "      <td>11.75</td>\n",
              "      <td>11.233913</td>\n",
              "      <td>11.433880</td>\n",
              "    </tr>\n",
              "    <tr>\n",
              "      <th>4</th>\n",
              "      <td>28</td>\n",
              "      <td>11.13</td>\n",
              "      <td>11.126583</td>\n",
              "      <td>11.266585</td>\n",
              "    </tr>\n",
              "    <tr>\n",
              "      <th>5</th>\n",
              "      <td>35</td>\n",
              "      <td>10.48</td>\n",
              "      <td>10.750928</td>\n",
              "      <td>10.700094</td>\n",
              "    </tr>\n",
              "    <tr>\n",
              "      <th>6</th>\n",
              "      <td>42</td>\n",
              "      <td>10.36</td>\n",
              "      <td>10.375273</td>\n",
              "      <td>10.162087</td>\n",
              "    </tr>\n",
              "    <tr>\n",
              "      <th>7</th>\n",
              "      <td>44</td>\n",
              "      <td>9.86</td>\n",
              "      <td>10.267943</td>\n",
              "      <td>10.013400</td>\n",
              "    </tr>\n",
              "    <tr>\n",
              "      <th>8</th>\n",
              "      <td>49</td>\n",
              "      <td>9.77</td>\n",
              "      <td>9.999618</td>\n",
              "      <td>9.651131</td>\n",
              "    </tr>\n",
              "    <tr>\n",
              "      <th>9</th>\n",
              "      <td>51</td>\n",
              "      <td>9.55</td>\n",
              "      <td>9.892288</td>\n",
              "      <td>9.509920</td>\n",
              "    </tr>\n",
              "    <tr>\n",
              "      <th>10</th>\n",
              "      <td>53</td>\n",
              "      <td>9.18</td>\n",
              "      <td>9.784958</td>\n",
              "      <td>9.370776</td>\n",
              "    </tr>\n",
              "    <tr>\n",
              "      <th>11</th>\n",
              "      <td>56</td>\n",
              "      <td>8.72</td>\n",
              "      <td>9.623963</td>\n",
              "      <td>9.165866</td>\n",
              "    </tr>\n",
              "    <tr>\n",
              "      <th>12</th>\n",
              "      <td>58</td>\n",
              "      <td>7.08</td>\n",
              "      <td>9.516633</td>\n",
              "      <td>9.031756</td>\n",
              "    </tr>\n",
              "    <tr>\n",
              "      <th>13</th>\n",
              "      <td>86</td>\n",
              "      <td>6.77</td>\n",
              "      <td>8.014013</td>\n",
              "      <td>7.347734</td>\n",
              "    </tr>\n",
              "    <tr>\n",
              "      <th>14</th>\n",
              "      <td>89</td>\n",
              "      <td>6.65</td>\n",
              "      <td>7.853018</td>\n",
              "      <td>7.187062</td>\n",
              "    </tr>\n",
              "    <tr>\n",
              "      <th>15</th>\n",
              "      <td>92</td>\n",
              "      <td>6.24</td>\n",
              "      <td>7.692023</td>\n",
              "      <td>7.029904</td>\n",
              "    </tr>\n",
              "    <tr>\n",
              "      <th>16</th>\n",
              "      <td>94</td>\n",
              "      <td>5.66</td>\n",
              "      <td>7.584693</td>\n",
              "      <td>6.927045</td>\n",
              "    </tr>\n",
              "    <tr>\n",
              "      <th>17</th>\n",
              "      <td>114</td>\n",
              "      <td>5.55</td>\n",
              "      <td>6.511393</td>\n",
              "      <td>5.977707</td>\n",
              "    </tr>\n",
              "    <tr>\n",
              "      <th>18</th>\n",
              "      <td>140</td>\n",
              "      <td>5.25</td>\n",
              "      <td>5.116103</td>\n",
              "      <td>4.935341</td>\n",
              "    </tr>\n",
              "    <tr>\n",
              "      <th>19</th>\n",
              "      <td>147</td>\n",
              "      <td>4.90</td>\n",
              "      <td>4.740448</td>\n",
              "      <td>4.687189</td>\n",
              "    </tr>\n",
              "    <tr>\n",
              "      <th>20</th>\n",
              "      <td>158</td>\n",
              "      <td>4.74</td>\n",
              "      <td>4.150133</td>\n",
              "      <td>4.322203</td>\n",
              "    </tr>\n",
              "    <tr>\n",
              "      <th>21</th>\n",
              "      <td>159</td>\n",
              "      <td>4.73</td>\n",
              "      <td>4.096468</td>\n",
              "      <td>4.290466</td>\n",
              "    </tr>\n",
              "    <tr>\n",
              "      <th>22</th>\n",
              "      <td>168</td>\n",
              "      <td>4.69</td>\n",
              "      <td>3.613483</td>\n",
              "      <td>4.015119</td>\n",
              "    </tr>\n",
              "    <tr>\n",
              "      <th>23</th>\n",
              "      <td>169</td>\n",
              "      <td>4.59</td>\n",
              "      <td>3.559818</td>\n",
              "      <td>3.985637</td>\n",
              "    </tr>\n",
              "    <tr>\n",
              "      <th>24</th>\n",
              "      <td>176</td>\n",
              "      <td>4.22</td>\n",
              "      <td>3.184163</td>\n",
              "      <td>3.785237</td>\n",
              "    </tr>\n",
              "    <tr>\n",
              "      <th>25</th>\n",
              "      <td>183</td>\n",
              "      <td>3.47</td>\n",
              "      <td>2.808508</td>\n",
              "      <td>3.594913</td>\n",
              "    </tr>\n",
              "  </tbody>\n",
              "</table>\n",
              "</div>\n",
              "      <button class=\"colab-df-convert\" onclick=\"convertToInteractive('df-b85239a7-c2a7-49e9-99f8-b3927e77a56c')\"\n",
              "              title=\"Convert this dataframe to an interactive table.\"\n",
              "              style=\"display:none;\">\n",
              "        \n",
              "  <svg xmlns=\"http://www.w3.org/2000/svg\" height=\"24px\"viewBox=\"0 0 24 24\"\n",
              "       width=\"24px\">\n",
              "    <path d=\"M0 0h24v24H0V0z\" fill=\"none\"/>\n",
              "    <path d=\"M18.56 5.44l.94 2.06.94-2.06 2.06-.94-2.06-.94-.94-2.06-.94 2.06-2.06.94zm-11 1L8.5 8.5l.94-2.06 2.06-.94-2.06-.94L8.5 2.5l-.94 2.06-2.06.94zm10 10l.94 2.06.94-2.06 2.06-.94-2.06-.94-.94-2.06-.94 2.06-2.06.94z\"/><path d=\"M17.41 7.96l-1.37-1.37c-.4-.4-.92-.59-1.43-.59-.52 0-1.04.2-1.43.59L10.3 9.45l-7.72 7.72c-.78.78-.78 2.05 0 2.83L4 21.41c.39.39.9.59 1.41.59.51 0 1.02-.2 1.41-.59l7.78-7.78 2.81-2.81c.8-.78.8-2.07 0-2.86zM5.41 20L4 18.59l7.72-7.72 1.47 1.35L5.41 20z\"/>\n",
              "  </svg>\n",
              "      </button>\n",
              "      \n",
              "  <style>\n",
              "    .colab-df-container {\n",
              "      display:flex;\n",
              "      flex-wrap:wrap;\n",
              "      gap: 12px;\n",
              "    }\n",
              "\n",
              "    .colab-df-convert {\n",
              "      background-color: #E8F0FE;\n",
              "      border: none;\n",
              "      border-radius: 50%;\n",
              "      cursor: pointer;\n",
              "      display: none;\n",
              "      fill: #1967D2;\n",
              "      height: 32px;\n",
              "      padding: 0 0 0 0;\n",
              "      width: 32px;\n",
              "    }\n",
              "\n",
              "    .colab-df-convert:hover {\n",
              "      background-color: #E2EBFA;\n",
              "      box-shadow: 0px 1px 2px rgba(60, 64, 67, 0.3), 0px 1px 3px 1px rgba(60, 64, 67, 0.15);\n",
              "      fill: #174EA6;\n",
              "    }\n",
              "\n",
              "    [theme=dark] .colab-df-convert {\n",
              "      background-color: #3B4455;\n",
              "      fill: #D2E3FC;\n",
              "    }\n",
              "\n",
              "    [theme=dark] .colab-df-convert:hover {\n",
              "      background-color: #434B5C;\n",
              "      box-shadow: 0px 1px 3px 1px rgba(0, 0, 0, 0.15);\n",
              "      filter: drop-shadow(0px 1px 2px rgba(0, 0, 0, 0.3));\n",
              "      fill: #FFFFFF;\n",
              "    }\n",
              "  </style>\n",
              "\n",
              "      <script>\n",
              "        const buttonEl =\n",
              "          document.querySelector('#df-b85239a7-c2a7-49e9-99f8-b3927e77a56c button.colab-df-convert');\n",
              "        buttonEl.style.display =\n",
              "          google.colab.kernel.accessAllowed ? 'block' : 'none';\n",
              "\n",
              "        async function convertToInteractive(key) {\n",
              "          const element = document.querySelector('#df-b85239a7-c2a7-49e9-99f8-b3927e77a56c');\n",
              "          const dataTable =\n",
              "            await google.colab.kernel.invokeFunction('convertToInteractive',\n",
              "                                                     [key], {});\n",
              "          if (!dataTable) return;\n",
              "\n",
              "          const docLinkHtml = 'Like what you see? Visit the ' +\n",
              "            '<a target=\"_blank\" href=https://colab.research.google.com/notebooks/data_table.ipynb>data table notebook</a>'\n",
              "            + ' to learn more about interactive tables.';\n",
              "          element.innerHTML = '';\n",
              "          dataTable['output_type'] = 'display_data';\n",
              "          await google.colab.output.renderOutput(dataTable, element);\n",
              "          const docLink = document.createElement('div');\n",
              "          docLink.innerHTML = docLinkHtml;\n",
              "          element.appendChild(docLink);\n",
              "        }\n",
              "      </script>\n",
              "    </div>\n",
              "  </div>\n",
              "  "
            ]
          },
          "metadata": {},
          "execution_count": 65
        }
      ]
    },
    {
      "cell_type": "code",
      "source": [
        "three.models[1]"
      ],
      "metadata": {
        "colab": {
          "base_uri": "https://localhost:8080/",
          "height": 864
        },
        "id": "B64Q6iYpmSH7",
        "outputId": "e671053f-2aec-45c4-811b-debe3865d6cd"
      },
      "execution_count": 66,
      "outputs": [
        {
          "output_type": "execute_result",
          "data": {
            "text/plain": [
              "    months  n_rubik      n_lin      n_poi\n",
              "0        0    16.53  12.629203  15.416886\n",
              "1        5    14.76  12.360878  14.546589\n",
              "2        7    12.11  12.253548  14.216489\n",
              "3       26    11.75  11.233913  11.531978\n",
              "4       28    11.13  11.126583  11.291718\n",
              "5       35    10.48  10.750928  10.505808\n",
              "6       42    10.36  10.375273   9.798865\n",
              "7       44     9.86  10.267943   9.610255\n",
              "8       49     9.77   9.999618   9.162954\n",
              "9       51     9.55   9.892288   8.993295\n",
              "10      53     9.18   9.784958   8.828692\n",
              "11      56     8.72   9.623963   8.590938\n",
              "12      58     7.08   9.516633   8.438326\n",
              "13      86     6.77   8.014013   6.722801\n",
              "14      89     6.65   7.853018   6.578482\n",
              "15      92     6.24   7.692023   6.440565\n",
              "16      94     5.66   7.584693   6.352037\n",
              "17     114     5.55   6.511393   5.599634\n",
              "18     140     5.25   5.116103   4.907116\n",
              "19     147     4.90   4.740448   4.762718\n",
              "20     158     4.74   4.150133   4.564552\n",
              "21     159     4.73   4.096468   4.548119\n",
              "22     168     4.69   3.613483   4.410891\n",
              "23     169     4.59   3.559818   4.396765\n",
              "24     176     4.22   3.184163   4.303645\n",
              "25     183     3.47   2.808508   4.219882"
            ],
            "text/html": [
              "\n",
              "  <div id=\"df-955d9058-6163-4130-ac83-e1f9b08d2bcb\">\n",
              "    <div class=\"colab-df-container\">\n",
              "      <div>\n",
              "<style scoped>\n",
              "    .dataframe tbody tr th:only-of-type {\n",
              "        vertical-align: middle;\n",
              "    }\n",
              "\n",
              "    .dataframe tbody tr th {\n",
              "        vertical-align: top;\n",
              "    }\n",
              "\n",
              "    .dataframe thead th {\n",
              "        text-align: right;\n",
              "    }\n",
              "</style>\n",
              "<table border=\"1\" class=\"dataframe\">\n",
              "  <thead>\n",
              "    <tr style=\"text-align: right;\">\n",
              "      <th></th>\n",
              "      <th>months</th>\n",
              "      <th>n_rubik</th>\n",
              "      <th>n_lin</th>\n",
              "      <th>n_poi</th>\n",
              "    </tr>\n",
              "  </thead>\n",
              "  <tbody>\n",
              "    <tr>\n",
              "      <th>0</th>\n",
              "      <td>0</td>\n",
              "      <td>16.53</td>\n",
              "      <td>12.629203</td>\n",
              "      <td>15.416886</td>\n",
              "    </tr>\n",
              "    <tr>\n",
              "      <th>1</th>\n",
              "      <td>5</td>\n",
              "      <td>14.76</td>\n",
              "      <td>12.360878</td>\n",
              "      <td>14.546589</td>\n",
              "    </tr>\n",
              "    <tr>\n",
              "      <th>2</th>\n",
              "      <td>7</td>\n",
              "      <td>12.11</td>\n",
              "      <td>12.253548</td>\n",
              "      <td>14.216489</td>\n",
              "    </tr>\n",
              "    <tr>\n",
              "      <th>3</th>\n",
              "      <td>26</td>\n",
              "      <td>11.75</td>\n",
              "      <td>11.233913</td>\n",
              "      <td>11.531978</td>\n",
              "    </tr>\n",
              "    <tr>\n",
              "      <th>4</th>\n",
              "      <td>28</td>\n",
              "      <td>11.13</td>\n",
              "      <td>11.126583</td>\n",
              "      <td>11.291718</td>\n",
              "    </tr>\n",
              "    <tr>\n",
              "      <th>5</th>\n",
              "      <td>35</td>\n",
              "      <td>10.48</td>\n",
              "      <td>10.750928</td>\n",
              "      <td>10.505808</td>\n",
              "    </tr>\n",
              "    <tr>\n",
              "      <th>6</th>\n",
              "      <td>42</td>\n",
              "      <td>10.36</td>\n",
              "      <td>10.375273</td>\n",
              "      <td>9.798865</td>\n",
              "    </tr>\n",
              "    <tr>\n",
              "      <th>7</th>\n",
              "      <td>44</td>\n",
              "      <td>9.86</td>\n",
              "      <td>10.267943</td>\n",
              "      <td>9.610255</td>\n",
              "    </tr>\n",
              "    <tr>\n",
              "      <th>8</th>\n",
              "      <td>49</td>\n",
              "      <td>9.77</td>\n",
              "      <td>9.999618</td>\n",
              "      <td>9.162954</td>\n",
              "    </tr>\n",
              "    <tr>\n",
              "      <th>9</th>\n",
              "      <td>51</td>\n",
              "      <td>9.55</td>\n",
              "      <td>9.892288</td>\n",
              "      <td>8.993295</td>\n",
              "    </tr>\n",
              "    <tr>\n",
              "      <th>10</th>\n",
              "      <td>53</td>\n",
              "      <td>9.18</td>\n",
              "      <td>9.784958</td>\n",
              "      <td>8.828692</td>\n",
              "    </tr>\n",
              "    <tr>\n",
              "      <th>11</th>\n",
              "      <td>56</td>\n",
              "      <td>8.72</td>\n",
              "      <td>9.623963</td>\n",
              "      <td>8.590938</td>\n",
              "    </tr>\n",
              "    <tr>\n",
              "      <th>12</th>\n",
              "      <td>58</td>\n",
              "      <td>7.08</td>\n",
              "      <td>9.516633</td>\n",
              "      <td>8.438326</td>\n",
              "    </tr>\n",
              "    <tr>\n",
              "      <th>13</th>\n",
              "      <td>86</td>\n",
              "      <td>6.77</td>\n",
              "      <td>8.014013</td>\n",
              "      <td>6.722801</td>\n",
              "    </tr>\n",
              "    <tr>\n",
              "      <th>14</th>\n",
              "      <td>89</td>\n",
              "      <td>6.65</td>\n",
              "      <td>7.853018</td>\n",
              "      <td>6.578482</td>\n",
              "    </tr>\n",
              "    <tr>\n",
              "      <th>15</th>\n",
              "      <td>92</td>\n",
              "      <td>6.24</td>\n",
              "      <td>7.692023</td>\n",
              "      <td>6.440565</td>\n",
              "    </tr>\n",
              "    <tr>\n",
              "      <th>16</th>\n",
              "      <td>94</td>\n",
              "      <td>5.66</td>\n",
              "      <td>7.584693</td>\n",
              "      <td>6.352037</td>\n",
              "    </tr>\n",
              "    <tr>\n",
              "      <th>17</th>\n",
              "      <td>114</td>\n",
              "      <td>5.55</td>\n",
              "      <td>6.511393</td>\n",
              "      <td>5.599634</td>\n",
              "    </tr>\n",
              "    <tr>\n",
              "      <th>18</th>\n",
              "      <td>140</td>\n",
              "      <td>5.25</td>\n",
              "      <td>5.116103</td>\n",
              "      <td>4.907116</td>\n",
              "    </tr>\n",
              "    <tr>\n",
              "      <th>19</th>\n",
              "      <td>147</td>\n",
              "      <td>4.90</td>\n",
              "      <td>4.740448</td>\n",
              "      <td>4.762718</td>\n",
              "    </tr>\n",
              "    <tr>\n",
              "      <th>20</th>\n",
              "      <td>158</td>\n",
              "      <td>4.74</td>\n",
              "      <td>4.150133</td>\n",
              "      <td>4.564552</td>\n",
              "    </tr>\n",
              "    <tr>\n",
              "      <th>21</th>\n",
              "      <td>159</td>\n",
              "      <td>4.73</td>\n",
              "      <td>4.096468</td>\n",
              "      <td>4.548119</td>\n",
              "    </tr>\n",
              "    <tr>\n",
              "      <th>22</th>\n",
              "      <td>168</td>\n",
              "      <td>4.69</td>\n",
              "      <td>3.613483</td>\n",
              "      <td>4.410891</td>\n",
              "    </tr>\n",
              "    <tr>\n",
              "      <th>23</th>\n",
              "      <td>169</td>\n",
              "      <td>4.59</td>\n",
              "      <td>3.559818</td>\n",
              "      <td>4.396765</td>\n",
              "    </tr>\n",
              "    <tr>\n",
              "      <th>24</th>\n",
              "      <td>176</td>\n",
              "      <td>4.22</td>\n",
              "      <td>3.184163</td>\n",
              "      <td>4.303645</td>\n",
              "    </tr>\n",
              "    <tr>\n",
              "      <th>25</th>\n",
              "      <td>183</td>\n",
              "      <td>3.47</td>\n",
              "      <td>2.808508</td>\n",
              "      <td>4.219882</td>\n",
              "    </tr>\n",
              "  </tbody>\n",
              "</table>\n",
              "</div>\n",
              "      <button class=\"colab-df-convert\" onclick=\"convertToInteractive('df-955d9058-6163-4130-ac83-e1f9b08d2bcb')\"\n",
              "              title=\"Convert this dataframe to an interactive table.\"\n",
              "              style=\"display:none;\">\n",
              "        \n",
              "  <svg xmlns=\"http://www.w3.org/2000/svg\" height=\"24px\"viewBox=\"0 0 24 24\"\n",
              "       width=\"24px\">\n",
              "    <path d=\"M0 0h24v24H0V0z\" fill=\"none\"/>\n",
              "    <path d=\"M18.56 5.44l.94 2.06.94-2.06 2.06-.94-2.06-.94-.94-2.06-.94 2.06-2.06.94zm-11 1L8.5 8.5l.94-2.06 2.06-.94-2.06-.94L8.5 2.5l-.94 2.06-2.06.94zm10 10l.94 2.06.94-2.06 2.06-.94-2.06-.94-.94-2.06-.94 2.06-2.06.94z\"/><path d=\"M17.41 7.96l-1.37-1.37c-.4-.4-.92-.59-1.43-.59-.52 0-1.04.2-1.43.59L10.3 9.45l-7.72 7.72c-.78.78-.78 2.05 0 2.83L4 21.41c.39.39.9.59 1.41.59.51 0 1.02-.2 1.41-.59l7.78-7.78 2.81-2.81c.8-.78.8-2.07 0-2.86zM5.41 20L4 18.59l7.72-7.72 1.47 1.35L5.41 20z\"/>\n",
              "  </svg>\n",
              "      </button>\n",
              "      \n",
              "  <style>\n",
              "    .colab-df-container {\n",
              "      display:flex;\n",
              "      flex-wrap:wrap;\n",
              "      gap: 12px;\n",
              "    }\n",
              "\n",
              "    .colab-df-convert {\n",
              "      background-color: #E8F0FE;\n",
              "      border: none;\n",
              "      border-radius: 50%;\n",
              "      cursor: pointer;\n",
              "      display: none;\n",
              "      fill: #1967D2;\n",
              "      height: 32px;\n",
              "      padding: 0 0 0 0;\n",
              "      width: 32px;\n",
              "    }\n",
              "\n",
              "    .colab-df-convert:hover {\n",
              "      background-color: #E2EBFA;\n",
              "      box-shadow: 0px 1px 2px rgba(60, 64, 67, 0.3), 0px 1px 3px 1px rgba(60, 64, 67, 0.15);\n",
              "      fill: #174EA6;\n",
              "    }\n",
              "\n",
              "    [theme=dark] .colab-df-convert {\n",
              "      background-color: #3B4455;\n",
              "      fill: #D2E3FC;\n",
              "    }\n",
              "\n",
              "    [theme=dark] .colab-df-convert:hover {\n",
              "      background-color: #434B5C;\n",
              "      box-shadow: 0px 1px 3px 1px rgba(0, 0, 0, 0.15);\n",
              "      filter: drop-shadow(0px 1px 2px rgba(0, 0, 0, 0.3));\n",
              "      fill: #FFFFFF;\n",
              "    }\n",
              "  </style>\n",
              "\n",
              "      <script>\n",
              "        const buttonEl =\n",
              "          document.querySelector('#df-955d9058-6163-4130-ac83-e1f9b08d2bcb button.colab-df-convert');\n",
              "        buttonEl.style.display =\n",
              "          google.colab.kernel.accessAllowed ? 'block' : 'none';\n",
              "\n",
              "        async function convertToInteractive(key) {\n",
              "          const element = document.querySelector('#df-955d9058-6163-4130-ac83-e1f9b08d2bcb');\n",
              "          const dataTable =\n",
              "            await google.colab.kernel.invokeFunction('convertToInteractive',\n",
              "                                                     [key], {});\n",
              "          if (!dataTable) return;\n",
              "\n",
              "          const docLinkHtml = 'Like what you see? Visit the ' +\n",
              "            '<a target=\"_blank\" href=https://colab.research.google.com/notebooks/data_table.ipynb>data table notebook</a>'\n",
              "            + ' to learn more about interactive tables.';\n",
              "          element.innerHTML = '';\n",
              "          dataTable['output_type'] = 'display_data';\n",
              "          await google.colab.output.renderOutput(dataTable, element);\n",
              "          const docLink = document.createElement('div');\n",
              "          docLink.innerHTML = docLinkHtml;\n",
              "          element.appendChild(docLink);\n",
              "        }\n",
              "      </script>\n",
              "    </div>\n",
              "  </div>\n",
              "  "
            ]
          },
          "metadata": {},
          "execution_count": 66
        }
      ]
    },
    {
      "cell_type": "markdown",
      "source": [
        "Notice the monthly_model aproach the last records from up with an error of 0.12 second. And see how far up the unormalized model goes.\n",
        "\n",
        "See the non normalized model previsions."
      ],
      "metadata": {
        "id": "wkPtZxU7SKoc"
      }
    },
    {
      "cell_type": "code",
      "source": [
        "three.pred_future('poisson')"
      ],
      "metadata": {
        "colab": {
          "base_uri": "https://localhost:8080/"
        },
        "id": "0fhghzfAj9L7",
        "outputId": "a6ab6b7f-3913-401d-d852-a0262cf61f6e"
      },
      "execution_count": 67,
      "outputs": [
        {
          "output_type": "execute_result",
          "data": {
            "text/plain": [
              "array([[3.5685162 ],\n",
              "       [3.51630332],\n",
              "       [3.43941293],\n",
              "       [3.29063941],\n",
              "       [3.01211984],\n",
              "       [2.75717415],\n",
              "       [2.52380705],\n",
              "       [2.31019213],\n",
              "       [2.11465757],\n",
              "       [1.93567305],\n",
              "       [1.77183777],\n",
              "       [1.6218695 ],\n",
              "       [1.48459453]])"
            ]
          },
          "metadata": {},
          "execution_count": 67
        }
      ]
    },
    {
      "cell_type": "markdown",
      "source": [
        "Notice that has been a few months for the model to catch up the actual record.\n",
        "\n",
        "Now the normalized model."
      ],
      "metadata": {
        "id": "kmo7uauiTFDi"
      }
    },
    {
      "cell_type": "code",
      "source": [
        "three.pred_future('poisson', True)"
      ],
      "metadata": {
        "colab": {
          "base_uri": "https://localhost:8080/"
        },
        "id": "DLLIkE7skFa0",
        "outputId": "eddf4c18-326b-48fc-b3c7-1cea73bc0ea9"
      },
      "execution_count": 68,
      "outputs": [
        {
          "output_type": "execute_result",
          "data": {
            "text/plain": [
              "array([[4.20862404],\n",
              "       [4.18661182],\n",
              "       [4.15481736],\n",
              "       [4.0953978 ],\n",
              "       [3.99157831],\n",
              "       [3.90499343],\n",
              "       [3.83278212],\n",
              "       [3.77255829],\n",
              "       [3.72233194],\n",
              "       [3.68044345],\n",
              "       [3.64550867],\n",
              "       [3.61637327],\n",
              "       [3.5920745 ]])"
            ]
          },
          "metadata": {},
          "execution_count": 68
        }
      ]
    },
    {
      "cell_type": "markdown",
      "source": [
        "See that in ten years predicted the model couldn't catch up the actual record of 3.47 seconds.\n",
        "\n",
        "Mostly because of that I say the poisson non normalized model is better for this case.\n",
        "\n",
        "And we can see the model summary."
      ],
      "metadata": {
        "id": "m9EAZh_sTrgl"
      }
    },
    {
      "cell_type": "code",
      "source": [
        "print(three.poisson[0].summary())"
      ],
      "metadata": {
        "colab": {
          "base_uri": "https://localhost:8080/"
        },
        "id": "W5RoDIQMr1Du",
        "outputId": "015fcab8-469b-43a9-d13f-d975231240ff"
      },
      "execution_count": 226,
      "outputs": [
        {
          "output_type": "stream",
          "name": "stdout",
          "text": [
            "                          Poisson Regression Results                          \n",
            "==============================================================================\n",
            "Dep. Variable:                  rubik   No. Observations:                   26\n",
            "Model:                        Poisson   Df Residuals:                       24\n",
            "Method:                           MLE   Df Model:                            1\n",
            "Date:                Tue, 28 Jun 2022   Pseudo R-squ.:                  0.2462\n",
            "Time:                        13:35:57   Log-Likelihood:                -51.188\n",
            "converged:                       True   LL-Null:                       -67.909\n",
            "Covariance Type:            nonrobust   LLR p-value:                 7.342e-09\n",
            "==============================================================================\n",
            "                 coef    std err          z      P>|z|      [0.025      0.975]\n",
            "------------------------------------------------------------------------------\n",
            "Intercept      2.6282      0.109     24.075      0.000       2.414       2.842\n",
            "months        -0.0074      0.001     -5.509      0.000      -0.010      -0.005\n",
            "==============================================================================\n"
          ]
        }
      ]
    },
    {
      "cell_type": "markdown",
      "source": [
        "#### Rubik's Revenge"
      ],
      "metadata": {
        "id": "ICQbMsmr1Lmf"
      }
    },
    {
      "cell_type": "code",
      "source": [
        "four.graphics()"
      ],
      "metadata": {
        "colab": {
          "base_uri": "https://localhost:8080/",
          "height": 373
        },
        "id": "pen-9gft1RSp",
        "outputId": "d2cfa6fd-d315-4aa4-df60-28c74305d15c"
      },
      "execution_count": 227,
      "outputs": [
        {
          "output_type": "display_data",
          "data": {
            "text/plain": [
              "<Figure size 1080x360 with 2 Axes>"
            ],
            "image/png": "[encoded data removed]"
          },
          "metadata": {
            "needs_background": "light"
          }
        }
      ]
    },
    {
      "cell_type": "markdown",
      "source": [
        "And for saving even more time..."
      ],
      "metadata": {
        "id": "EdcjSCr5U2_k"
      }
    },
    {
      "cell_type": "code",
      "source": [
        "four.reg_graphics()"
      ],
      "metadata": {
        "colab": {
          "base_uri": "https://localhost:8080/",
          "height": 581
        },
        "id": "4wKWNgNn1Ygu",
        "outputId": "e50dbe81-4a32-4816-a22e-eef1143934bc"
      },
      "execution_count": 69,
      "outputs": [
        {
          "output_type": "stream",
          "name": "stdout",
          "text": [
            "Prevendo dados... -- Predicting\n",
            "Modelando para prever... -- Modeling data for previsions...\n",
            "Normalizando dados... -- Normalizing data...\n",
            "Normalização concluída! -- Sucessfull normalization!\n",
            "Optimization terminated successfully.\n",
            "         Current function value: 2.818259\n",
            "         Iterations 6\n",
            "Optimization terminated successfully.\n",
            "         Current function value: 0.496855\n",
            "         Iterations 6\n",
            "Modelagem concluida! -- Sucessfull modeling!\n",
            "Previsões concluidas! -- Sucessfully predicted!\n"
          ]
        },
        {
          "output_type": "display_data",
          "data": {
            "text/plain": [
              "<Figure size 1080x360 with 2 Axes>"
            ],
            "image/png": "[encoded data removed]"
          },
          "metadata": {
            "needs_background": "light"
          }
        }
      ]
    },
    {
      "cell_type": "markdown",
      "source": [
        "The poisson normalized model looks like being the best again perharps."
      ],
      "metadata": {
        "id": "obrPLwCPVPyI"
      }
    },
    {
      "cell_type": "code",
      "source": [
        "four.models[1]"
      ],
      "metadata": {
        "colab": {
          "base_uri": "https://localhost:8080/",
          "height": 1000
        },
        "id": "o1QSBGeJ1tm1",
        "outputId": "d1c57613-2a36-4f21-b44d-db1b38320f40"
      },
      "execution_count": 70,
      "outputs": [
        {
          "output_type": "execute_result",
          "data": {
            "text/plain": [
              "    months  n_revenge      n_lin      n_poi\n",
              "0        0      80.16  61.445130  84.146550\n",
              "1       10      72.85  58.834201  73.236890\n",
              "2       11      69.11  58.573108  72.248234\n",
              "3       17      68.12  57.006550  66.669506\n",
              "4       20      61.52  56.223271  64.094254\n",
              "5       22      60.38  55.701085  62.451717\n",
              "6       23      55.38  55.439992  61.651961\n",
              "7       26      54.13  54.656713  59.335762\n",
              "8       37      51.16  51.784690  51.820191\n",
              "9       50      46.63  48.390481  44.630738\n",
              "10      57      46.03  46.562830  41.391573\n",
              "11      59      45.15  46.040644  40.537337\n",
              "12      60      41.31  45.779551  40.121407\n",
              "13      61      41.16  45.518458  39.712762\n",
              "14      64      40.05  44.735179  38.529272\n",
              "15      68      39.83  43.690807  37.045785\n",
              "16      71      39.28  42.907528  35.999990\n",
              "17      73      36.46  42.385342  35.332964\n",
              "18      82      35.40  40.035506  32.606607\n",
              "19      85      34.41  39.252227  31.790004\n",
              "20      86      31.97  38.991134  31.527282\n",
              "21      92      31.05  37.424576  30.044810\n",
              "22      94      30.88  36.902390  29.584566\n",
              "23      96      30.28  36.380204  29.140302\n",
              "24     100      30.02  35.335832  28.297518\n",
              "25     103      26.77  34.552553  27.703391\n",
              "26     108      26.75  33.247088  26.780559\n",
              "27     114      26.44  31.680530  25.775576\n",
              "28     117      25.34  30.897251  25.311655\n",
              "29     124      24.66  29.069600  24.320193\n",
              "30     128      24.33  28.025228  23.806333\n",
              "31     131      21.97  27.241949  23.444083\n",
              "32     145      21.54  23.586647  21.985801\n",
              "33     165      19.41  18.364788  20.438991\n",
              "34     166      19.36  18.103695  20.375080\n",
              "35     176      18.84  15.492765  19.794409\n",
              "36     177      18.42  15.231672  19.741787\n",
              "37     191      18.25  11.576370  19.094885\n",
              "38     192      17.42  11.315277  19.054516\n",
              "39     219      16.86   4.265766  18.195328\n",
              "40     223      16.79   3.221394  18.099429"
            ],
            "text/html": [
              "\n",
              "  <div id=\"df-d148875a-85fd-49dc-aace-90f8e50d1979\">\n",
              "    <div class=\"colab-df-container\">\n",
              "      <div>\n",
              "<style scoped>\n",
              "    .dataframe tbody tr th:only-of-type {\n",
              "        vertical-align: middle;\n",
              "    }\n",
              "\n",
              "    .dataframe tbody tr th {\n",
              "        vertical-align: top;\n",
              "    }\n",
              "\n",
              "    .dataframe thead th {\n",
              "        text-align: right;\n",
              "    }\n",
              "</style>\n",
              "<table border=\"1\" class=\"dataframe\">\n",
              "  <thead>\n",
              "    <tr style=\"text-align: right;\">\n",
              "      <th></th>\n",
              "      <th>months</th>\n",
              "      <th>n_revenge</th>\n",
              "      <th>n_lin</th>\n",
              "      <th>n_poi</th>\n",
              "    </tr>\n",
              "  </thead>\n",
              "  <tbody>\n",
              "    <tr>\n",
              "      <th>0</th>\n",
              "      <td>0</td>\n",
              "      <td>80.16</td>\n",
              "      <td>61.445130</td>\n",
              "      <td>84.146550</td>\n",
              "    </tr>\n",
              "    <tr>\n",
              "      <th>1</th>\n",
              "      <td>10</td>\n",
              "      <td>72.85</td>\n",
              "      <td>58.834201</td>\n",
              "      <td>73.236890</td>\n",
              "    </tr>\n",
              "    <tr>\n",
              "      <th>2</th>\n",
              "      <td>11</td>\n",
              "      <td>69.11</td>\n",
              "      <td>58.573108</td>\n",
              "      <td>72.248234</td>\n",
              "    </tr>\n",
              "    <tr>\n",
              "      <th>3</th>\n",
              "      <td>17</td>\n",
              "      <td>68.12</td>\n",
              "      <td>57.006550</td>\n",
              "      <td>66.669506</td>\n",
              "    </tr>\n",
              "    <tr>\n",
              "      <th>4</th>\n",
              "      <td>20</td>\n",
              "      <td>61.52</td>\n",
              "      <td>56.223271</td>\n",
              "      <td>64.094254</td>\n",
              "    </tr>\n",
              "    <tr>\n",
              "      <th>5</th>\n",
              "      <td>22</td>\n",
              "      <td>60.38</td>\n",
              "      <td>55.701085</td>\n",
              "      <td>62.451717</td>\n",
              "    </tr>\n",
              "    <tr>\n",
              "      <th>6</th>\n",
              "      <td>23</td>\n",
              "      <td>55.38</td>\n",
              "      <td>55.439992</td>\n",
              "      <td>61.651961</td>\n",
              "    </tr>\n",
              "    <tr>\n",
              "      <th>7</th>\n",
              "      <td>26</td>\n",
              "      <td>54.13</td>\n",
              "      <td>54.656713</td>\n",
              "      <td>59.335762</td>\n",
              "    </tr>\n",
              "    <tr>\n",
              "      <th>8</th>\n",
              "      <td>37</td>\n",
              "      <td>51.16</td>\n",
              "      <td>51.784690</td>\n",
              "      <td>51.820191</td>\n",
              "    </tr>\n",
              "    <tr>\n",
              "      <th>9</th>\n",
              "      <td>50</td>\n",
              "      <td>46.63</td>\n",
              "      <td>48.390481</td>\n",
              "      <td>44.630738</td>\n",
              "    </tr>\n",
              "    <tr>\n",
              "      <th>10</th>\n",
              "      <td>57</td>\n",
              "      <td>46.03</td>\n",
              "      <td>46.562830</td>\n",
              "      <td>41.391573</td>\n",
              "    </tr>\n",
              "    <tr>\n",
              "      <th>11</th>\n",
              "      <td>59</td>\n",
              "      <td>45.15</td>\n",
              "      <td>46.040644</td>\n",
              "      <td>40.537337</td>\n",
              "    </tr>\n",
              "    <tr>\n",
              "      <th>12</th>\n",
              "      <td>60</td>\n",
              "      <td>41.31</td>\n",
              "      <td>45.779551</td>\n",
              "      <td>40.121407</td>\n",
              "    </tr>\n",
              "    <tr>\n",
              "      <th>13</th>\n",
              "      <td>61</td>\n",
              "      <td>41.16</td>\n",
              "      <td>45.518458</td>\n",
              "      <td>39.712762</td>\n",
              "    </tr>\n",
              "    <tr>\n",
              "      <th>14</th>\n",
              "      <td>64</td>\n",
              "      <td>40.05</td>\n",
              "      <td>44.735179</td>\n",
              "      <td>38.529272</td>\n",
              "    </tr>\n",
              "    <tr>\n",
              "      <th>15</th>\n",
              "      <td>68</td>\n",
              "      <td>39.83</td>\n",
              "      <td>43.690807</td>\n",
              "      <td>37.045785</td>\n",
              "    </tr>\n",
              "    <tr>\n",
              "      <th>16</th>\n",
              "      <td>71</td>\n",
              "      <td>39.28</td>\n",
              "      <td>42.907528</td>\n",
              "      <td>35.999990</td>\n",
              "    </tr>\n",
              "    <tr>\n",
              "      <th>17</th>\n",
              "      <td>73</td>\n",
              "      <td>36.46</td>\n",
              "      <td>42.385342</td>\n",
              "      <td>35.332964</td>\n",
              "    </tr>\n",
              "    <tr>\n",
              "      <th>18</th>\n",
              "      <td>82</td>\n",
              "      <td>35.40</td>\n",
              "      <td>40.035506</td>\n",
              "      <td>32.606607</td>\n",
              "    </tr>\n",
              "    <tr>\n",
              "      <th>19</th>\n",
              "      <td>85</td>\n",
              "      <td>34.41</td>\n",
              "      <td>39.252227</td>\n",
              "      <td>31.790004</td>\n",
              "    </tr>\n",
              "    <tr>\n",
              "      <th>20</th>\n",
              "      <td>86</td>\n",
              "      <td>31.97</td>\n",
              "      <td>38.991134</td>\n",
              "      <td>31.527282</td>\n",
              "    </tr>\n",
              "    <tr>\n",
              "      <th>21</th>\n",
              "      <td>92</td>\n",
              "      <td>31.05</td>\n",
              "      <td>37.424576</td>\n",
              "      <td>30.044810</td>\n",
              "    </tr>\n",
              "    <tr>\n",
              "      <th>22</th>\n",
              "      <td>94</td>\n",
              "      <td>30.88</td>\n",
              "      <td>36.902390</td>\n",
              "      <td>29.584566</td>\n",
              "    </tr>\n",
              "    <tr>\n",
              "      <th>23</th>\n",
              "      <td>96</td>\n",
              "      <td>30.28</td>\n",
              "      <td>36.380204</td>\n",
              "      <td>29.140302</td>\n",
              "    </tr>\n",
              "    <tr>\n",
              "      <th>24</th>\n",
              "      <td>100</td>\n",
              "      <td>30.02</td>\n",
              "      <td>35.335832</td>\n",
              "      <td>28.297518</td>\n",
              "    </tr>\n",
              "    <tr>\n",
              "      <th>25</th>\n",
              "      <td>103</td>\n",
              "      <td>26.77</td>\n",
              "      <td>34.552553</td>\n",
              "      <td>27.703391</td>\n",
              "    </tr>\n",
              "    <tr>\n",
              "      <th>26</th>\n",
              "      <td>108</td>\n",
              "      <td>26.75</td>\n",
              "      <td>33.247088</td>\n",
              "      <td>26.780559</td>\n",
              "    </tr>\n",
              "    <tr>\n",
              "      <th>27</th>\n",
              "      <td>114</td>\n",
              "      <td>26.44</td>\n",
              "      <td>31.680530</td>\n",
              "      <td>25.775576</td>\n",
              "    </tr>\n",
              "    <tr>\n",
              "      <th>28</th>\n",
              "      <td>117</td>\n",
              "      <td>25.34</td>\n",
              "      <td>30.897251</td>\n",
              "      <td>25.311655</td>\n",
              "    </tr>\n",
              "    <tr>\n",
              "      <th>29</th>\n",
              "      <td>124</td>\n",
              "      <td>24.66</td>\n",
              "      <td>29.069600</td>\n",
              "      <td>24.320193</td>\n",
              "    </tr>\n",
              "    <tr>\n",
              "      <th>30</th>\n",
              "      <td>128</td>\n",
              "      <td>24.33</td>\n",
              "      <td>28.025228</td>\n",
              "      <td>23.806333</td>\n",
              "    </tr>\n",
              "    <tr>\n",
              "      <th>31</th>\n",
              "      <td>131</td>\n",
              "      <td>21.97</td>\n",
              "      <td>27.241949</td>\n",
              "      <td>23.444083</td>\n",
              "    </tr>\n",
              "    <tr>\n",
              "      <th>32</th>\n",
              "      <td>145</td>\n",
              "      <td>21.54</td>\n",
              "      <td>23.586647</td>\n",
              "      <td>21.985801</td>\n",
              "    </tr>\n",
              "    <tr>\n",
              "      <th>33</th>\n",
              "      <td>165</td>\n",
              "      <td>19.41</td>\n",
              "      <td>18.364788</td>\n",
              "      <td>20.438991</td>\n",
              "    </tr>\n",
              "    <tr>\n",
              "      <th>34</th>\n",
              "      <td>166</td>\n",
              "      <td>19.36</td>\n",
              "      <td>18.103695</td>\n",
              "      <td>20.375080</td>\n",
              "    </tr>\n",
              "    <tr>\n",
              "      <th>35</th>\n",
              "      <td>176</td>\n",
              "      <td>18.84</td>\n",
              "      <td>15.492765</td>\n",
              "      <td>19.794409</td>\n",
              "    </tr>\n",
              "    <tr>\n",
              "      <th>36</th>\n",
              "      <td>177</td>\n",
              "      <td>18.42</td>\n",
              "      <td>15.231672</td>\n",
              "      <td>19.741787</td>\n",
              "    </tr>\n",
              "    <tr>\n",
              "      <th>37</th>\n",
              "      <td>191</td>\n",
              "      <td>18.25</td>\n",
              "      <td>11.576370</td>\n",
              "      <td>19.094885</td>\n",
              "    </tr>\n",
              "    <tr>\n",
              "      <th>38</th>\n",
              "      <td>192</td>\n",
              "      <td>17.42</td>\n",
              "      <td>11.315277</td>\n",
              "      <td>19.054516</td>\n",
              "    </tr>\n",
              "    <tr>\n",
              "      <th>39</th>\n",
              "      <td>219</td>\n",
              "      <td>16.86</td>\n",
              "      <td>4.265766</td>\n",
              "      <td>18.195328</td>\n",
              "    </tr>\n",
              "    <tr>\n",
              "      <th>40</th>\n",
              "      <td>223</td>\n",
              "      <td>16.79</td>\n",
              "      <td>3.221394</td>\n",
              "      <td>18.099429</td>\n",
              "    </tr>\n",
              "  </tbody>\n",
              "</table>\n",
              "</div>\n",
              "      <button class=\"colab-df-convert\" onclick=\"convertToInteractive('df-d148875a-85fd-49dc-aace-90f8e50d1979')\"\n",
              "              title=\"Convert this dataframe to an interactive table.\"\n",
              "              style=\"display:none;\">\n",
              "        \n",
              "  <svg xmlns=\"http://www.w3.org/2000/svg\" height=\"24px\"viewBox=\"0 0 24 24\"\n",
              "       width=\"24px\">\n",
              "    <path d=\"M0 0h24v24H0V0z\" fill=\"none\"/>\n",
              "    <path d=\"M18.56 5.44l.94 2.06.94-2.06 2.06-.94-2.06-.94-.94-2.06-.94 2.06-2.06.94zm-11 1L8.5 8.5l.94-2.06 2.06-.94-2.06-.94L8.5 2.5l-.94 2.06-2.06.94zm10 10l.94 2.06.94-2.06 2.06-.94-2.06-.94-.94-2.06-.94 2.06-2.06.94z\"/><path d=\"M17.41 7.96l-1.37-1.37c-.4-.4-.92-.59-1.43-.59-.52 0-1.04.2-1.43.59L10.3 9.45l-7.72 7.72c-.78.78-.78 2.05 0 2.83L4 21.41c.39.39.9.59 1.41.59.51 0 1.02-.2 1.41-.59l7.78-7.78 2.81-2.81c.8-.78.8-2.07 0-2.86zM5.41 20L4 18.59l7.72-7.72 1.47 1.35L5.41 20z\"/>\n",
              "  </svg>\n",
              "      </button>\n",
              "      \n",
              "  <style>\n",
              "    .colab-df-container {\n",
              "      display:flex;\n",
              "      flex-wrap:wrap;\n",
              "      gap: 12px;\n",
              "    }\n",
              "\n",
              "    .colab-df-convert {\n",
              "      background-color: #E8F0FE;\n",
              "      border: none;\n",
              "      border-radius: 50%;\n",
              "      cursor: pointer;\n",
              "      display: none;\n",
              "      fill: #1967D2;\n",
              "      height: 32px;\n",
              "      padding: 0 0 0 0;\n",
              "      width: 32px;\n",
              "    }\n",
              "\n",
              "    .colab-df-convert:hover {\n",
              "      background-color: #E2EBFA;\n",
              "      box-shadow: 0px 1px 2px rgba(60, 64, 67, 0.3), 0px 1px 3px 1px rgba(60, 64, 67, 0.15);\n",
              "      fill: #174EA6;\n",
              "    }\n",
              "\n",
              "    [theme=dark] .colab-df-convert {\n",
              "      background-color: #3B4455;\n",
              "      fill: #D2E3FC;\n",
              "    }\n",
              "\n",
              "    [theme=dark] .colab-df-convert:hover {\n",
              "      background-color: #434B5C;\n",
              "      box-shadow: 0px 1px 3px 1px rgba(0, 0, 0, 0.15);\n",
              "      filter: drop-shadow(0px 1px 2px rgba(0, 0, 0, 0.3));\n",
              "      fill: #FFFFFF;\n",
              "    }\n",
              "  </style>\n",
              "\n",
              "      <script>\n",
              "        const buttonEl =\n",
              "          document.querySelector('#df-d148875a-85fd-49dc-aace-90f8e50d1979 button.colab-df-convert');\n",
              "        buttonEl.style.display =\n",
              "          google.colab.kernel.accessAllowed ? 'block' : 'none';\n",
              "\n",
              "        async function convertToInteractive(key) {\n",
              "          const element = document.querySelector('#df-d148875a-85fd-49dc-aace-90f8e50d1979');\n",
              "          const dataTable =\n",
              "            await google.colab.kernel.invokeFunction('convertToInteractive',\n",
              "                                                     [key], {});\n",
              "          if (!dataTable) return;\n",
              "\n",
              "          const docLinkHtml = 'Like what you see? Visit the ' +\n",
              "            '<a target=\"_blank\" href=https://colab.research.google.com/notebooks/data_table.ipynb>data table notebook</a>'\n",
              "            + ' to learn more about interactive tables.';\n",
              "          element.innerHTML = '';\n",
              "          dataTable['output_type'] = 'display_data';\n",
              "          await google.colab.output.renderOutput(dataTable, element);\n",
              "          const docLink = document.createElement('div');\n",
              "          docLink.innerHTML = docLinkHtml;\n",
              "          element.appendChild(docLink);\n",
              "        }\n",
              "      </script>\n",
              "    </div>\n",
              "  </div>\n",
              "  "
            ]
          },
          "metadata": {},
          "execution_count": 70
        }
      ]
    },
    {
      "cell_type": "code",
      "source": [
        "four.metrics_results('poisson', True)"
      ],
      "metadata": {
        "colab": {
          "base_uri": "https://localhost:8080/"
        },
        "id": "rKTUUTXUVdyc",
        "outputId": "d4d02418-1f99-4964-cfbe-323c83b5a042"
      },
      "execution_count": 230,
      "outputs": [
        {
          "output_type": "stream",
          "name": "stdout",
          "text": [
            "POISSON\n",
            "\tR² = 0.9815755676063913\n",
            "\tMAE = 1.7865277789940435\n",
            "\tMAPE = 0.04880554086140924\n",
            "\tRMSE = 2.293681333660885\n",
            "\tAIC = 44.74214492577847\n",
            "\tBIC = 48.169289059187086\n"
          ]
        }
      ]
    },
    {
      "cell_type": "code",
      "source": [
        "four.pred_future('poisson', True)"
      ],
      "metadata": {
        "colab": {
          "base_uri": "https://localhost:8080/"
        },
        "id": "DJRHra4CkUo1",
        "outputId": "b1643ef3-10bc-4928-cc7d-80120d398457"
      },
      "execution_count": 71,
      "outputs": [
        {
          "output_type": "execute_result",
          "data": {
            "text/plain": [
              "array([[18.07649445],\n",
              "       [18.03182373],\n",
              "       [17.96770904],\n",
              "       [17.84923938],\n",
              "       [17.64685303],\n",
              "       [17.48313616],\n",
              "       [17.35070028],\n",
              "       [17.24356861],\n",
              "       [17.15690634],\n",
              "       [17.08680242],\n",
              "       [17.03009308],\n",
              "       [16.98421907],\n",
              "       [16.94711009]])"
            ]
          },
          "metadata": {},
          "execution_count": 71
        }
      ]
    },
    {
      "cell_type": "markdown",
      "source": [
        "Well, didn't really catch up the current record, but, if we subtract the mean absolute error or the root mean squared error, maybe we can have a viable model since the newest records are always two seconds below the predicted record."
      ],
      "metadata": {
        "id": "vb9yoVSQXSPh"
      }
    },
    {
      "cell_type": "code",
      "source": [
        "four.pred_future('poisson', True) - metrics.mean_absolute_error(four.models[1].n_revenge, four.models[1].n_poi)"
      ],
      "metadata": {
        "colab": {
          "base_uri": "https://localhost:8080/"
        },
        "id": "gFUEIibEWmVc",
        "outputId": "631a4e8a-a5ab-4db0-a790-4b529ff4bee5"
      },
      "execution_count": 73,
      "outputs": [
        {
          "output_type": "execute_result",
          "data": {
            "text/plain": [
              "array([[16.28996668],\n",
              "       [16.24529595],\n",
              "       [16.18118126],\n",
              "       [16.0627116 ],\n",
              "       [15.86032525],\n",
              "       [15.69660838],\n",
              "       [15.5641725 ],\n",
              "       [15.45704083],\n",
              "       [15.37037856],\n",
              "       [15.30027464],\n",
              "       [15.24356531],\n",
              "       [15.19769129],\n",
              "       [15.16058231]])"
            ]
          },
          "metadata": {},
          "execution_count": 73
        }
      ]
    },
    {
      "cell_type": "markdown",
      "source": [
        "Or even multiply by the mean absolute percentage error complement"
      ],
      "metadata": {
        "id": "Cgcvl2UWYh67"
      }
    },
    {
      "cell_type": "code",
      "source": [
        "four.pred_future('poisson', True) * (1 - metrics.mean_absolute_percentage_error(four.models[1].n_revenge, four.models[1].n_poi))"
      ],
      "metadata": {
        "colab": {
          "base_uri": "https://localhost:8080/"
        },
        "id": "Qa4DbvGwYR0Q",
        "outputId": "dd9870a5-c647-4e0e-f074-adfb43c42b56"
      },
      "execution_count": 74,
      "outputs": [
        {
          "output_type": "execute_result",
          "data": {
            "text/plain": [
              "array([[17.19426137],\n",
              "       [17.15177082],\n",
              "       [17.09078528],\n",
              "       [16.9780976 ],\n",
              "       [16.78558883],\n",
              "       [16.62986224],\n",
              "       [16.50388997],\n",
              "       [16.40198692],\n",
              "       [16.31955424],\n",
              "       [16.25287178],\n",
              "       [16.19893018],\n",
              "       [16.15529507],\n",
              "       [16.11999722]])"
            ]
          },
          "metadata": {},
          "execution_count": 74
        }
      ]
    },
    {
      "cell_type": "code",
      "source": [
        "print(four.poisson[1].summary())"
      ],
      "metadata": {
        "colab": {
          "base_uri": "https://localhost:8080/"
        },
        "id": "qrIZaPCf2DXj",
        "outputId": "d58aa294-fecc-40a5-8908-22c8d7cb8da1"
      },
      "execution_count": 234,
      "outputs": [
        {
          "output_type": "stream",
          "name": "stdout",
          "text": [
            "                          Poisson Regression Results                          \n",
            "==============================================================================\n",
            "Dep. Variable:              n_revenge   No. Observations:                   41\n",
            "Model:                        Poisson   Df Residuals:                       39\n",
            "Method:                           MLE   Df Model:                            1\n",
            "Date:                Tue, 28 Jun 2022   Pseudo R-squ.:                  0.1847\n",
            "Time:                        13:35:59   Log-Likelihood:                -20.371\n",
            "converged:                       True   LL-Null:                       -24.986\n",
            "Covariance Type:            nonrobust   LLR p-value:                  0.002382\n",
            "==============================================================================\n",
            "                 coef    std err          z      P>|z|      [0.025      0.975]\n",
            "------------------------------------------------------------------------------\n",
            "Intercept      0.0610      0.426      0.143      0.886      -0.773       0.895\n",
            "months        -0.0177      0.007     -2.633      0.008      -0.031      -0.005\n",
            "==============================================================================\n"
          ]
        }
      ]
    },
    {
      "cell_type": "markdown",
      "source": [
        "#### Professor's cube"
      ],
      "metadata": {
        "id": "MECFzaia3kj-"
      }
    },
    {
      "cell_type": "code",
      "source": [
        "five.graphics()"
      ],
      "metadata": {
        "colab": {
          "base_uri": "https://localhost:8080/",
          "height": 373
        },
        "id": "P8cSJZ1I3oOB",
        "outputId": "f1c8e965-7245-4701-8a21-678a468d7517"
      },
      "execution_count": 235,
      "outputs": [
        {
          "output_type": "display_data",
          "data": {
            "text/plain": [
              "<Figure size 1080x360 with 2 Axes>"
            ],
            "image/png": "[encoded data removed]"
          },
          "metadata": {
            "needs_background": "light"
          }
        }
      ]
    },
    {
      "cell_type": "code",
      "source": [
        "five.reg_graphics()"
      ],
      "metadata": {
        "colab": {
          "base_uri": "https://localhost:8080/",
          "height": 581
        },
        "id": "gkWdddUL3sdT",
        "outputId": "88995b26-a134-47ad-a1fe-d35c66152614"
      },
      "execution_count": 75,
      "outputs": [
        {
          "output_type": "stream",
          "name": "stdout",
          "text": [
            "Prevendo dados... -- Predicting\n",
            "Modelando para prever... -- Modeling data for previsions...\n",
            "Normalizando dados... -- Normalizing data...\n",
            "Normalização concluída! -- Sucessfull normalization!\n",
            "Optimization terminated successfully.\n",
            "         Current function value: 3.222340\n",
            "         Iterations 5\n",
            "Optimization terminated successfully.\n",
            "         Current function value: 0.523295\n",
            "         Iterations 6\n",
            "Modelagem concluida! -- Sucessfull modeling!\n",
            "Previsões concluidas! -- Sucessfully predicted!\n"
          ]
        },
        {
          "output_type": "display_data",
          "data": {
            "text/plain": [
              "<Figure size 1080x360 with 2 Axes>"
            ],
            "image/png": "[encoded data removed]"
          },
          "metadata": {
            "needs_background": "light"
          }
        }
      ]
    },
    {
      "cell_type": "code",
      "source": [
        "five.models[1]"
      ],
      "metadata": {
        "colab": {
          "base_uri": "https://localhost:8080/",
          "height": 1000
        },
        "id": "QuAEusZ_vuta",
        "outputId": "ff44d31c-f0ec-4605-ac30-56ec653ebb3e"
      },
      "execution_count": 76,
      "outputs": [
        {
          "output_type": "execute_result",
          "data": {
            "text/plain": [
              "    months  n_professor       n_lin       n_poi\n",
              "0        0       139.69  112.985040  157.612985\n",
              "1       11       128.45  107.959600  136.595985\n",
              "2       23       111.41  102.477303  117.690185\n",
              "3       32       107.22   98.365580  105.812072\n",
              "4       38       106.28   95.624431   98.834229\n",
              "5       42       104.47   93.796998   94.558033\n",
              "6       47        98.78   91.512708   89.601359\n",
              "7       50        90.58   90.142133   86.821109\n",
              "8       52        90.03   89.228417   85.043928\n",
              "9       53        88.66   88.771559   84.177474\n",
              "10      55        83.83   87.857843   82.487618\n",
              "11      59        80.98   86.030410   79.273522\n",
              "12      61        76.21   85.116694   77.745655\n",
              "13      65        73.28   83.289261   74.839662\n",
              "14      67        73.22   82.375545   73.458257\n",
              "15      71        67.25   80.548112   70.830833\n",
              "16      83        64.33   75.065815   63.929194\n",
              "17      84        62.93   74.608957   63.414404\n",
              "18      89        61.59   72.324666   60.966240\n",
              "19      96        60.27   69.126659   57.866491\n",
              "20      97        56.22   68.669801   57.452675\n",
              "21     103        54.86   65.928652   55.110560\n",
              "22     107        52.65   64.101220   53.675254\n",
              "23     108        51.09   63.644362   53.331243\n",
              "24     120        50.50   58.162064   49.623817\n",
              "25     131        48.42   53.136625   46.822997\n",
              "26     145        47.25   46.740611   43.930804\n",
              "27     146        46.97   46.283753   43.749085\n",
              "28     151        44.83   43.999462   42.884895\n",
              "29     158        41.27   40.801455   41.790698\n",
              "30     166        38.52   37.146590   40.687994\n",
              "31     176        37.93   32.578009   39.502481\n",
              "32     177        37.28   32.121151   39.394516\n",
              "33     190        36.06   26.181995   38.144183\n",
              "34     197        34.92   22.983988   37.575817\n",
              "35     222        33.02   11.562535   36.013747"
            ],
            "text/html": [
              "\n",
              "  <div id=\"df-9a8ff371-6717-4cce-b066-eb22a4e32415\">\n",
              "    <div class=\"colab-df-container\">\n",
              "      <div>\n",
              "<style scoped>\n",
              "    .dataframe tbody tr th:only-of-type {\n",
              "        vertical-align: middle;\n",
              "    }\n",
              "\n",
              "    .dataframe tbody tr th {\n",
              "        vertical-align: top;\n",
              "    }\n",
              "\n",
              "    .dataframe thead th {\n",
              "        text-align: right;\n",
              "    }\n",
              "</style>\n",
              "<table border=\"1\" class=\"dataframe\">\n",
              "  <thead>\n",
              "    <tr style=\"text-align: right;\">\n",
              "      <th></th>\n",
              "      <th>months</th>\n",
              "      <th>n_professor</th>\n",
              "      <th>n_lin</th>\n",
              "      <th>n_poi</th>\n",
              "    </tr>\n",
              "  </thead>\n",
              "  <tbody>\n",
              "    <tr>\n",
              "      <th>0</th>\n",
              "      <td>0</td>\n",
              "      <td>139.69</td>\n",
              "      <td>112.985040</td>\n",
              "      <td>157.612985</td>\n",
              "    </tr>\n",
              "    <tr>\n",
              "      <th>1</th>\n",
              "      <td>11</td>\n",
              "      <td>128.45</td>\n",
              "      <td>107.959600</td>\n",
              "      <td>136.595985</td>\n",
              "    </tr>\n",
              "    <tr>\n",
              "      <th>2</th>\n",
              "      <td>23</td>\n",
              "      <td>111.41</td>\n",
              "      <td>102.477303</td>\n",
              "      <td>117.690185</td>\n",
              "    </tr>\n",
              "    <tr>\n",
              "      <th>3</th>\n",
              "      <td>32</td>\n",
              "      <td>107.22</td>\n",
              "      <td>98.365580</td>\n",
              "      <td>105.812072</td>\n",
              "    </tr>\n",
              "    <tr>\n",
              "      <th>4</th>\n",
              "      <td>38</td>\n",
              "      <td>106.28</td>\n",
              "      <td>95.624431</td>\n",
              "      <td>98.834229</td>\n",
              "    </tr>\n",
              "    <tr>\n",
              "      <th>5</th>\n",
              "      <td>42</td>\n",
              "      <td>104.47</td>\n",
              "      <td>93.796998</td>\n",
              "      <td>94.558033</td>\n",
              "    </tr>\n",
              "    <tr>\n",
              "      <th>6</th>\n",
              "      <td>47</td>\n",
              "      <td>98.78</td>\n",
              "      <td>91.512708</td>\n",
              "      <td>89.601359</td>\n",
              "    </tr>\n",
              "    <tr>\n",
              "      <th>7</th>\n",
              "      <td>50</td>\n",
              "      <td>90.58</td>\n",
              "      <td>90.142133</td>\n",
              "      <td>86.821109</td>\n",
              "    </tr>\n",
              "    <tr>\n",
              "      <th>8</th>\n",
              "      <td>52</td>\n",
              "      <td>90.03</td>\n",
              "      <td>89.228417</td>\n",
              "      <td>85.043928</td>\n",
              "    </tr>\n",
              "    <tr>\n",
              "      <th>9</th>\n",
              "      <td>53</td>\n",
              "      <td>88.66</td>\n",
              "      <td>88.771559</td>\n",
              "      <td>84.177474</td>\n",
              "    </tr>\n",
              "    <tr>\n",
              "      <th>10</th>\n",
              "      <td>55</td>\n",
              "      <td>83.83</td>\n",
              "      <td>87.857843</td>\n",
              "      <td>82.487618</td>\n",
              "    </tr>\n",
              "    <tr>\n",
              "      <th>11</th>\n",
              "      <td>59</td>\n",
              "      <td>80.98</td>\n",
              "      <td>86.030410</td>\n",
              "      <td>79.273522</td>\n",
              "    </tr>\n",
              "    <tr>\n",
              "      <th>12</th>\n",
              "      <td>61</td>\n",
              "      <td>76.21</td>\n",
              "      <td>85.116694</td>\n",
              "      <td>77.745655</td>\n",
              "    </tr>\n",
              "    <tr>\n",
              "      <th>13</th>\n",
              "      <td>65</td>\n",
              "      <td>73.28</td>\n",
              "      <td>83.289261</td>\n",
              "      <td>74.839662</td>\n",
              "    </tr>\n",
              "    <tr>\n",
              "      <th>14</th>\n",
              "      <td>67</td>\n",
              "      <td>73.22</td>\n",
              "      <td>82.375545</td>\n",
              "      <td>73.458257</td>\n",
              "    </tr>\n",
              "    <tr>\n",
              "      <th>15</th>\n",
              "      <td>71</td>\n",
              "      <td>67.25</td>\n",
              "      <td>80.548112</td>\n",
              "      <td>70.830833</td>\n",
              "    </tr>\n",
              "    <tr>\n",
              "      <th>16</th>\n",
              "      <td>83</td>\n",
              "      <td>64.33</td>\n",
              "      <td>75.065815</td>\n",
              "      <td>63.929194</td>\n",
              "    </tr>\n",
              "    <tr>\n",
              "      <th>17</th>\n",
              "      <td>84</td>\n",
              "      <td>62.93</td>\n",
              "      <td>74.608957</td>\n",
              "      <td>63.414404</td>\n",
              "    </tr>\n",
              "    <tr>\n",
              "      <th>18</th>\n",
              "      <td>89</td>\n",
              "      <td>61.59</td>\n",
              "      <td>72.324666</td>\n",
              "      <td>60.966240</td>\n",
              "    </tr>\n",
              "    <tr>\n",
              "      <th>19</th>\n",
              "      <td>96</td>\n",
              "      <td>60.27</td>\n",
              "      <td>69.126659</td>\n",
              "      <td>57.866491</td>\n",
              "    </tr>\n",
              "    <tr>\n",
              "      <th>20</th>\n",
              "      <td>97</td>\n",
              "      <td>56.22</td>\n",
              "      <td>68.669801</td>\n",
              "      <td>57.452675</td>\n",
              "    </tr>\n",
              "    <tr>\n",
              "      <th>21</th>\n",
              "      <td>103</td>\n",
              "      <td>54.86</td>\n",
              "      <td>65.928652</td>\n",
              "      <td>55.110560</td>\n",
              "    </tr>\n",
              "    <tr>\n",
              "      <th>22</th>\n",
              "      <td>107</td>\n",
              "      <td>52.65</td>\n",
              "      <td>64.101220</td>\n",
              "      <td>53.675254</td>\n",
              "    </tr>\n",
              "    <tr>\n",
              "      <th>23</th>\n",
              "      <td>108</td>\n",
              "      <td>51.09</td>\n",
              "      <td>63.644362</td>\n",
              "      <td>53.331243</td>\n",
              "    </tr>\n",
              "    <tr>\n",
              "      <th>24</th>\n",
              "      <td>120</td>\n",
              "      <td>50.50</td>\n",
              "      <td>58.162064</td>\n",
              "      <td>49.623817</td>\n",
              "    </tr>\n",
              "    <tr>\n",
              "      <th>25</th>\n",
              "      <td>131</td>\n",
              "      <td>48.42</td>\n",
              "      <td>53.136625</td>\n",
              "      <td>46.822997</td>\n",
              "    </tr>\n",
              "    <tr>\n",
              "      <th>26</th>\n",
              "      <td>145</td>\n",
              "      <td>47.25</td>\n",
              "      <td>46.740611</td>\n",
              "      <td>43.930804</td>\n",
              "    </tr>\n",
              "    <tr>\n",
              "      <th>27</th>\n",
              "      <td>146</td>\n",
              "      <td>46.97</td>\n",
              "      <td>46.283753</td>\n",
              "      <td>43.749085</td>\n",
              "    </tr>\n",
              "    <tr>\n",
              "      <th>28</th>\n",
              "      <td>151</td>\n",
              "      <td>44.83</td>\n",
              "      <td>43.999462</td>\n",
              "      <td>42.884895</td>\n",
              "    </tr>\n",
              "    <tr>\n",
              "      <th>29</th>\n",
              "      <td>158</td>\n",
              "      <td>41.27</td>\n",
              "      <td>40.801455</td>\n",
              "      <td>41.790698</td>\n",
              "    </tr>\n",
              "    <tr>\n",
              "      <th>30</th>\n",
              "      <td>166</td>\n",
              "      <td>38.52</td>\n",
              "      <td>37.146590</td>\n",
              "      <td>40.687994</td>\n",
              "    </tr>\n",
              "    <tr>\n",
              "      <th>31</th>\n",
              "      <td>176</td>\n",
              "      <td>37.93</td>\n",
              "      <td>32.578009</td>\n",
              "      <td>39.502481</td>\n",
              "    </tr>\n",
              "    <tr>\n",
              "      <th>32</th>\n",
              "      <td>177</td>\n",
              "      <td>37.28</td>\n",
              "      <td>32.121151</td>\n",
              "      <td>39.394516</td>\n",
              "    </tr>\n",
              "    <tr>\n",
              "      <th>33</th>\n",
              "      <td>190</td>\n",
              "      <td>36.06</td>\n",
              "      <td>26.181995</td>\n",
              "      <td>38.144183</td>\n",
              "    </tr>\n",
              "    <tr>\n",
              "      <th>34</th>\n",
              "      <td>197</td>\n",
              "      <td>34.92</td>\n",
              "      <td>22.983988</td>\n",
              "      <td>37.575817</td>\n",
              "    </tr>\n",
              "    <tr>\n",
              "      <th>35</th>\n",
              "      <td>222</td>\n",
              "      <td>33.02</td>\n",
              "      <td>11.562535</td>\n",
              "      <td>36.013747</td>\n",
              "    </tr>\n",
              "  </tbody>\n",
              "</table>\n",
              "</div>\n",
              "      <button class=\"colab-df-convert\" onclick=\"convertToInteractive('df-9a8ff371-6717-4cce-b066-eb22a4e32415')\"\n",
              "              title=\"Convert this dataframe to an interactive table.\"\n",
              "              style=\"display:none;\">\n",
              "        \n",
              "  <svg xmlns=\"http://www.w3.org/2000/svg\" height=\"24px\"viewBox=\"0 0 24 24\"\n",
              "       width=\"24px\">\n",
              "    <path d=\"M0 0h24v24H0V0z\" fill=\"none\"/>\n",
              "    <path d=\"M18.56 5.44l.94 2.06.94-2.06 2.06-.94-2.06-.94-.94-2.06-.94 2.06-2.06.94zm-11 1L8.5 8.5l.94-2.06 2.06-.94-2.06-.94L8.5 2.5l-.94 2.06-2.06.94zm10 10l.94 2.06.94-2.06 2.06-.94-2.06-.94-.94-2.06-.94 2.06-2.06.94z\"/><path d=\"M17.41 7.96l-1.37-1.37c-.4-.4-.92-.59-1.43-.59-.52 0-1.04.2-1.43.59L10.3 9.45l-7.72 7.72c-.78.78-.78 2.05 0 2.83L4 21.41c.39.39.9.59 1.41.59.51 0 1.02-.2 1.41-.59l7.78-7.78 2.81-2.81c.8-.78.8-2.07 0-2.86zM5.41 20L4 18.59l7.72-7.72 1.47 1.35L5.41 20z\"/>\n",
              "  </svg>\n",
              "      </button>\n",
              "      \n",
              "  <style>\n",
              "    .colab-df-container {\n",
              "      display:flex;\n",
              "      flex-wrap:wrap;\n",
              "      gap: 12px;\n",
              "    }\n",
              "\n",
              "    .colab-df-convert {\n",
              "      background-color: #E8F0FE;\n",
              "      border: none;\n",
              "      border-radius: 50%;\n",
              "      cursor: pointer;\n",
              "      display: none;\n",
              "      fill: #1967D2;\n",
              "      height: 32px;\n",
              "      padding: 0 0 0 0;\n",
              "      width: 32px;\n",
              "    }\n",
              "\n",
              "    .colab-df-convert:hover {\n",
              "      background-color: #E2EBFA;\n",
              "      box-shadow: 0px 1px 2px rgba(60, 64, 67, 0.3), 0px 1px 3px 1px rgba(60, 64, 67, 0.15);\n",
              "      fill: #174EA6;\n",
              "    }\n",
              "\n",
              "    [theme=dark] .colab-df-convert {\n",
              "      background-color: #3B4455;\n",
              "      fill: #D2E3FC;\n",
              "    }\n",
              "\n",
              "    [theme=dark] .colab-df-convert:hover {\n",
              "      background-color: #434B5C;\n",
              "      box-shadow: 0px 1px 3px 1px rgba(0, 0, 0, 0.15);\n",
              "      filter: drop-shadow(0px 1px 2px rgba(0, 0, 0, 0.3));\n",
              "      fill: #FFFFFF;\n",
              "    }\n",
              "  </style>\n",
              "\n",
              "      <script>\n",
              "        const buttonEl =\n",
              "          document.querySelector('#df-9a8ff371-6717-4cce-b066-eb22a4e32415 button.colab-df-convert');\n",
              "        buttonEl.style.display =\n",
              "          google.colab.kernel.accessAllowed ? 'block' : 'none';\n",
              "\n",
              "        async function convertToInteractive(key) {\n",
              "          const element = document.querySelector('#df-9a8ff371-6717-4cce-b066-eb22a4e32415');\n",
              "          const dataTable =\n",
              "            await google.colab.kernel.invokeFunction('convertToInteractive',\n",
              "                                                     [key], {});\n",
              "          if (!dataTable) return;\n",
              "\n",
              "          const docLinkHtml = 'Like what you see? Visit the ' +\n",
              "            '<a target=\"_blank\" href=https://colab.research.google.com/notebooks/data_table.ipynb>data table notebook</a>'\n",
              "            + ' to learn more about interactive tables.';\n",
              "          element.innerHTML = '';\n",
              "          dataTable['output_type'] = 'display_data';\n",
              "          await google.colab.output.renderOutput(dataTable, element);\n",
              "          const docLink = document.createElement('div');\n",
              "          docLink.innerHTML = docLinkHtml;\n",
              "          element.appendChild(docLink);\n",
              "        }\n",
              "      </script>\n",
              "    </div>\n",
              "  </div>\n",
              "  "
            ]
          },
          "metadata": {},
          "execution_count": 76
        }
      ]
    },
    {
      "cell_type": "code",
      "source": [
        "five.pred_future('poisson', True)"
      ],
      "metadata": {
        "colab": {
          "base_uri": "https://localhost:8080/"
        },
        "id": "FN5t0Lq6lLwR",
        "outputId": "2f515657-5fae-41f2-b4d2-12fdb373aad8"
      },
      "execution_count": 77,
      "outputs": [
        {
          "output_type": "execute_result",
          "data": {
            "text/plain": [
              "array([[35.96388651],\n",
              "       [35.86664277],\n",
              "       [35.72676672],\n",
              "       [35.46729625],\n",
              "       [35.02058947],\n",
              "       [34.6554204 ],\n",
              "       [34.35690592],\n",
              "       [34.1128795 ],\n",
              "       [33.9133954 ],\n",
              "       [33.75032328],\n",
              "       [33.61701684],\n",
              "       [33.50804292],\n",
              "       [33.41896008]])"
            ]
          },
          "metadata": {},
          "execution_count": 77
        }
      ]
    },
    {
      "cell_type": "markdown",
      "source": [
        "Did not catch up, we may see the metrics."
      ],
      "metadata": {
        "id": "-vvKzEfna3Uq"
      }
    },
    {
      "cell_type": "code",
      "source": [
        "five.metrics_results('poisson', True)"
      ],
      "metadata": {
        "colab": {
          "base_uri": "https://localhost:8080/"
        },
        "id": "wM55JY6GbScp",
        "outputId": "b5d74916-93ed-4a90-f372-39ced9fb57a4"
      },
      "execution_count": 239,
      "outputs": [
        {
          "output_type": "stream",
          "name": "stdout",
          "text": [
            "POISSON\n",
            "\tR² = 0.9703112668062076\n",
            "\tMAE = 3.2559518915672974\n",
            "\tMAPE = 0.04387347522204318\n",
            "\tRMSE = 4.782492124509088\n",
            "\tAIC = 41.67721346067955\n",
            "\tBIC = 44.84425133759177\n"
          ]
        }
      ]
    },
    {
      "cell_type": "markdown",
      "source": [
        "And multiplying by the MAPE complement..."
      ],
      "metadata": {
        "id": "GlxxQgflOrWO"
      }
    },
    {
      "cell_type": "code",
      "source": [
        "five.pred_future('poisson', True) * (1 - metrics.mean_absolute_percentage_error(five.models[1].n_professor, five.models[1].n_poi))"
      ],
      "metadata": {
        "colab": {
          "base_uri": "https://localhost:8080/"
        },
        "id": "fkWyhZSKdANS",
        "outputId": "ab8d1ced-48dd-4133-8094-422f3459e16e"
      },
      "execution_count": 79,
      "outputs": [
        {
          "output_type": "execute_result",
          "data": {
            "text/plain": [
              "array([[34.38602583],\n",
              "       [34.2930485 ],\n",
              "       [34.15930931],\n",
              "       [33.91122271],\n",
              "       [33.4841145 ],\n",
              "       [33.13496668],\n",
              "       [32.84954906],\n",
              "       [32.61622892],\n",
              "       [32.42549689],\n",
              "       [32.26957931],\n",
              "       [32.14212148],\n",
              "       [32.03792862],\n",
              "       [31.95275417]])"
            ]
          },
          "metadata": {},
          "execution_count": 79
        }
      ]
    },
    {
      "cell_type": "markdown",
      "source": [
        "And so we have viabl predictions."
      ],
      "metadata": {
        "id": "AHrhUULEPAtn"
      }
    },
    {
      "cell_type": "code",
      "source": [
        "print(five.poisson[1].summary())"
      ],
      "metadata": {
        "colab": {
          "base_uri": "https://localhost:8080/"
        },
        "id": "ai-Mpuw2PG9k",
        "outputId": "b20f3018-edcd-4661-de20-839611c9bdd2"
      },
      "execution_count": 241,
      "outputs": [
        {
          "output_type": "stream",
          "name": "stdout",
          "text": [
            "                          Poisson Regression Results                          \n",
            "==============================================================================\n",
            "Dep. Variable:            n_professor   No. Observations:                   36\n",
            "Model:                        Poisson   Df Residuals:                       34\n",
            "Method:                           MLE   Df Model:                            1\n",
            "Date:                Tue, 28 Jun 2022   Pseudo R-squ.:                  0.1627\n",
            "Time:                        13:36:00   Log-Likelihood:                -18.839\n",
            "converged:                       True   LL-Null:                       -22.500\n",
            "Covariance Type:            nonrobust   LLR p-value:                  0.006811\n",
            "==============================================================================\n",
            "                 coef    std err          z      P>|z|      [0.025      0.975]\n",
            "------------------------------------------------------------------------------\n",
            "Intercept      0.1553      0.488      0.318      0.750      -0.802       1.112\n",
            "months        -0.0168      0.007     -2.386      0.017      -0.031      -0.003\n",
            "==============================================================================\n"
          ]
        }
      ]
    },
    {
      "cell_type": "markdown",
      "source": [
        "#### V-6 cube"
      ],
      "metadata": {
        "id": "XOSH8FOFwBuL"
      }
    },
    {
      "cell_type": "code",
      "source": [
        "six.graphics()"
      ],
      "metadata": {
        "colab": {
          "base_uri": "https://localhost:8080/",
          "height": 373
        },
        "id": "Ki5kFRfuwGS5",
        "outputId": "77dad597-2234-4a00-da75-fecce9842935"
      },
      "execution_count": 242,
      "outputs": [
        {
          "output_type": "display_data",
          "data": {
            "text/plain": [
              "<Figure size 1080x360 with 2 Axes>"
            ],
            "image/png": "[encoded data removed]"
          },
          "metadata": {
            "needs_background": "light"
          }
        }
      ]
    },
    {
      "cell_type": "code",
      "source": [
        "six.reg_graphics()"
      ],
      "metadata": {
        "colab": {
          "base_uri": "https://localhost:8080/",
          "height": 581
        },
        "id": "sCY_Qg1KwJ-N",
        "outputId": "1f65818f-3d94-4b7a-a34b-b5b1bada84bb"
      },
      "execution_count": 80,
      "outputs": [
        {
          "output_type": "stream",
          "name": "stdout",
          "text": [
            "Prevendo dados... -- Predicting\n",
            "Modelando para prever... -- Modeling data for previsions...\n",
            "Normalizando dados... -- Normalizing data...\n",
            "Normalização concluída! -- Sucessfull normalization!\n",
            "Optimization terminated successfully.\n",
            "         Current function value: 3.454163\n",
            "         Iterations 5\n",
            "Optimization terminated successfully.\n",
            "         Current function value: 0.557455\n",
            "         Iterations 6\n",
            "Modelagem concluida! -- Sucessfull modeling!\n",
            "Previsões concluidas! -- Sucessfully predicted!\n"
          ]
        },
        {
          "output_type": "display_data",
          "data": {
            "text/plain": [
              "<Figure size 1080x360 with 2 Axes>"
            ],
            "image/png": "[encoded data removed]"
          },
          "metadata": {
            "needs_background": "light"
          }
        }
      ]
    },
    {
      "cell_type": "markdown",
      "source": [
        "Again, seems like the normalized model don't catch the current record."
      ],
      "metadata": {
        "id": "wfHoPLr8NMY_"
      }
    },
    {
      "cell_type": "code",
      "source": [
        "six.models[0]"
      ],
      "metadata": {
        "colab": {
          "base_uri": "https://localhost:8080/",
          "height": 739
        },
        "id": "P7VZ13HewaQU",
        "outputId": "a1dfd52a-594e-4413-8f1f-f889cd85ad47"
      },
      "execution_count": 81,
      "outputs": [
        {
          "output_type": "execute_result",
          "data": {
            "text/plain": [
              "    months      v6         lin         poi\n",
              "0        0  176.34  145.482744  148.967697\n",
              "1        1  153.55  144.858492  148.089079\n",
              "2        2  143.63  144.234241  147.215642\n",
              "3        6  138.81  141.737234  143.773109\n",
              "4       10  135.53  139.240228  140.411077\n",
              "5       21  133.90  132.373459  131.565361\n",
              "6       24  125.88  130.500705  129.251128\n",
              "7       30  122.31  126.755195  124.744068\n",
              "8       31  116.96  126.130943  124.008321\n",
              "9       34  114.81  124.258188  121.827016\n",
              "10      39  109.46  121.136930  118.276439\n",
              "11      54  100.86  111.773155  108.233609\n",
              "12      76   93.55   98.039619   95.026016\n",
              "13      92   92.77   88.051593   86.444496\n",
              "14      95   92.47   86.178838   84.923938\n",
              "15      96   87.85   85.554586   84.423053\n",
              "16     101   80.03   82.433328   81.962592\n",
              "17     108   79.60   78.063567   78.637948\n",
              "18     111   79.46   76.190812   77.254707\n",
              "19     112   74.86   75.566560   76.799055\n",
              "20     114   73.82   74.318057   75.895798\n",
              "21     132   69.51   63.081527   68.229849"
            ],
            "text/html": [
              "\n",
              "  <div id=\"df-e91a87db-3654-4b2b-b9ae-f39f5de49e60\">\n",
              "    <div class=\"colab-df-container\">\n",
              "      <div>\n",
              "<style scoped>\n",
              "    .dataframe tbody tr th:only-of-type {\n",
              "        vertical-align: middle;\n",
              "    }\n",
              "\n",
              "    .dataframe tbody tr th {\n",
              "        vertical-align: top;\n",
              "    }\n",
              "\n",
              "    .dataframe thead th {\n",
              "        text-align: right;\n",
              "    }\n",
              "</style>\n",
              "<table border=\"1\" class=\"dataframe\">\n",
              "  <thead>\n",
              "    <tr style=\"text-align: right;\">\n",
              "      <th></th>\n",
              "      <th>months</th>\n",
              "      <th>v6</th>\n",
              "      <th>lin</th>\n",
              "      <th>poi</th>\n",
              "    </tr>\n",
              "  </thead>\n",
              "  <tbody>\n",
              "    <tr>\n",
              "      <th>0</th>\n",
              "      <td>0</td>\n",
              "      <td>176.34</td>\n",
              "      <td>145.482744</td>\n",
              "      <td>148.967697</td>\n",
              "    </tr>\n",
              "    <tr>\n",
              "      <th>1</th>\n",
              "      <td>1</td>\n",
              "      <td>153.55</td>\n",
              "      <td>144.858492</td>\n",
              "      <td>148.089079</td>\n",
              "    </tr>\n",
              "    <tr>\n",
              "      <th>2</th>\n",
              "      <td>2</td>\n",
              "      <td>143.63</td>\n",
              "      <td>144.234241</td>\n",
              "      <td>147.215642</td>\n",
              "    </tr>\n",
              "    <tr>\n",
              "      <th>3</th>\n",
              "      <td>6</td>\n",
              "      <td>138.81</td>\n",
              "      <td>141.737234</td>\n",
              "      <td>143.773109</td>\n",
              "    </tr>\n",
              "    <tr>\n",
              "      <th>4</th>\n",
              "      <td>10</td>\n",
              "      <td>135.53</td>\n",
              "      <td>139.240228</td>\n",
              "      <td>140.411077</td>\n",
              "    </tr>\n",
              "    <tr>\n",
              "      <th>5</th>\n",
              "      <td>21</td>\n",
              "      <td>133.90</td>\n",
              "      <td>132.373459</td>\n",
              "      <td>131.565361</td>\n",
              "    </tr>\n",
              "    <tr>\n",
              "      <th>6</th>\n",
              "      <td>24</td>\n",
              "      <td>125.88</td>\n",
              "      <td>130.500705</td>\n",
              "      <td>129.251128</td>\n",
              "    </tr>\n",
              "    <tr>\n",
              "      <th>7</th>\n",
              "      <td>30</td>\n",
              "      <td>122.31</td>\n",
              "      <td>126.755195</td>\n",
              "      <td>124.744068</td>\n",
              "    </tr>\n",
              "    <tr>\n",
              "      <th>8</th>\n",
              "      <td>31</td>\n",
              "      <td>116.96</td>\n",
              "      <td>126.130943</td>\n",
              "      <td>124.008321</td>\n",
              "    </tr>\n",
              "    <tr>\n",
              "      <th>9</th>\n",
              "      <td>34</td>\n",
              "      <td>114.81</td>\n",
              "      <td>124.258188</td>\n",
              "      <td>121.827016</td>\n",
              "    </tr>\n",
              "    <tr>\n",
              "      <th>10</th>\n",
              "      <td>39</td>\n",
              "      <td>109.46</td>\n",
              "      <td>121.136930</td>\n",
              "      <td>118.276439</td>\n",
              "    </tr>\n",
              "    <tr>\n",
              "      <th>11</th>\n",
              "      <td>54</td>\n",
              "      <td>100.86</td>\n",
              "      <td>111.773155</td>\n",
              "      <td>108.233609</td>\n",
              "    </tr>\n",
              "    <tr>\n",
              "      <th>12</th>\n",
              "      <td>76</td>\n",
              "      <td>93.55</td>\n",
              "      <td>98.039619</td>\n",
              "      <td>95.026016</td>\n",
              "    </tr>\n",
              "    <tr>\n",
              "      <th>13</th>\n",
              "      <td>92</td>\n",
              "      <td>92.77</td>\n",
              "      <td>88.051593</td>\n",
              "      <td>86.444496</td>\n",
              "    </tr>\n",
              "    <tr>\n",
              "      <th>14</th>\n",
              "      <td>95</td>\n",
              "      <td>92.47</td>\n",
              "      <td>86.178838</td>\n",
              "      <td>84.923938</td>\n",
              "    </tr>\n",
              "    <tr>\n",
              "      <th>15</th>\n",
              "      <td>96</td>\n",
              "      <td>87.85</td>\n",
              "      <td>85.554586</td>\n",
              "      <td>84.423053</td>\n",
              "    </tr>\n",
              "    <tr>\n",
              "      <th>16</th>\n",
              "      <td>101</td>\n",
              "      <td>80.03</td>\n",
              "      <td>82.433328</td>\n",
              "      <td>81.962592</td>\n",
              "    </tr>\n",
              "    <tr>\n",
              "      <th>17</th>\n",
              "      <td>108</td>\n",
              "      <td>79.60</td>\n",
              "      <td>78.063567</td>\n",
              "      <td>78.637948</td>\n",
              "    </tr>\n",
              "    <tr>\n",
              "      <th>18</th>\n",
              "      <td>111</td>\n",
              "      <td>79.46</td>\n",
              "      <td>76.190812</td>\n",
              "      <td>77.254707</td>\n",
              "    </tr>\n",
              "    <tr>\n",
              "      <th>19</th>\n",
              "      <td>112</td>\n",
              "      <td>74.86</td>\n",
              "      <td>75.566560</td>\n",
              "      <td>76.799055</td>\n",
              "    </tr>\n",
              "    <tr>\n",
              "      <th>20</th>\n",
              "      <td>114</td>\n",
              "      <td>73.82</td>\n",
              "      <td>74.318057</td>\n",
              "      <td>75.895798</td>\n",
              "    </tr>\n",
              "    <tr>\n",
              "      <th>21</th>\n",
              "      <td>132</td>\n",
              "      <td>69.51</td>\n",
              "      <td>63.081527</td>\n",
              "      <td>68.229849</td>\n",
              "    </tr>\n",
              "  </tbody>\n",
              "</table>\n",
              "</div>\n",
              "      <button class=\"colab-df-convert\" onclick=\"convertToInteractive('df-e91a87db-3654-4b2b-b9ae-f39f5de49e60')\"\n",
              "              title=\"Convert this dataframe to an interactive table.\"\n",
              "              style=\"display:none;\">\n",
              "        \n",
              "  <svg xmlns=\"http://www.w3.org/2000/svg\" height=\"24px\"viewBox=\"0 0 24 24\"\n",
              "       width=\"24px\">\n",
              "    <path d=\"M0 0h24v24H0V0z\" fill=\"none\"/>\n",
              "    <path d=\"M18.56 5.44l.94 2.06.94-2.06 2.06-.94-2.06-.94-.94-2.06-.94 2.06-2.06.94zm-11 1L8.5 8.5l.94-2.06 2.06-.94-2.06-.94L8.5 2.5l-.94 2.06-2.06.94zm10 10l.94 2.06.94-2.06 2.06-.94-2.06-.94-.94-2.06-.94 2.06-2.06.94z\"/><path d=\"M17.41 7.96l-1.37-1.37c-.4-.4-.92-.59-1.43-.59-.52 0-1.04.2-1.43.59L10.3 9.45l-7.72 7.72c-.78.78-.78 2.05 0 2.83L4 21.41c.39.39.9.59 1.41.59.51 0 1.02-.2 1.41-.59l7.78-7.78 2.81-2.81c.8-.78.8-2.07 0-2.86zM5.41 20L4 18.59l7.72-7.72 1.47 1.35L5.41 20z\"/>\n",
              "  </svg>\n",
              "      </button>\n",
              "      \n",
              "  <style>\n",
              "    .colab-df-container {\n",
              "      display:flex;\n",
              "      flex-wrap:wrap;\n",
              "      gap: 12px;\n",
              "    }\n",
              "\n",
              "    .colab-df-convert {\n",
              "      background-color: #E8F0FE;\n",
              "      border: none;\n",
              "      border-radius: 50%;\n",
              "      cursor: pointer;\n",
              "      display: none;\n",
              "      fill: #1967D2;\n",
              "      height: 32px;\n",
              "      padding: 0 0 0 0;\n",
              "      width: 32px;\n",
              "    }\n",
              "\n",
              "    .colab-df-convert:hover {\n",
              "      background-color: #E2EBFA;\n",
              "      box-shadow: 0px 1px 2px rgba(60, 64, 67, 0.3), 0px 1px 3px 1px rgba(60, 64, 67, 0.15);\n",
              "      fill: #174EA6;\n",
              "    }\n",
              "\n",
              "    [theme=dark] .colab-df-convert {\n",
              "      background-color: #3B4455;\n",
              "      fill: #D2E3FC;\n",
              "    }\n",
              "\n",
              "    [theme=dark] .colab-df-convert:hover {\n",
              "      background-color: #434B5C;\n",
              "      box-shadow: 0px 1px 3px 1px rgba(0, 0, 0, 0.15);\n",
              "      filter: drop-shadow(0px 1px 2px rgba(0, 0, 0, 0.3));\n",
              "      fill: #FFFFFF;\n",
              "    }\n",
              "  </style>\n",
              "\n",
              "      <script>\n",
              "        const buttonEl =\n",
              "          document.querySelector('#df-e91a87db-3654-4b2b-b9ae-f39f5de49e60 button.colab-df-convert');\n",
              "        buttonEl.style.display =\n",
              "          google.colab.kernel.accessAllowed ? 'block' : 'none';\n",
              "\n",
              "        async function convertToInteractive(key) {\n",
              "          const element = document.querySelector('#df-e91a87db-3654-4b2b-b9ae-f39f5de49e60');\n",
              "          const dataTable =\n",
              "            await google.colab.kernel.invokeFunction('convertToInteractive',\n",
              "                                                     [key], {});\n",
              "          if (!dataTable) return;\n",
              "\n",
              "          const docLinkHtml = 'Like what you see? Visit the ' +\n",
              "            '<a target=\"_blank\" href=https://colab.research.google.com/notebooks/data_table.ipynb>data table notebook</a>'\n",
              "            + ' to learn more about interactive tables.';\n",
              "          element.innerHTML = '';\n",
              "          dataTable['output_type'] = 'display_data';\n",
              "          await google.colab.output.renderOutput(dataTable, element);\n",
              "          const docLink = document.createElement('div');\n",
              "          docLink.innerHTML = docLinkHtml;\n",
              "          element.appendChild(docLink);\n",
              "        }\n",
              "      </script>\n",
              "    </div>\n",
              "  </div>\n",
              "  "
            ]
          },
          "metadata": {},
          "execution_count": 81
        }
      ]
    },
    {
      "cell_type": "code",
      "source": [
        "six.metrics_results('poisson')"
      ],
      "metadata": {
        "colab": {
          "base_uri": "https://localhost:8080/"
        },
        "id": "4NsH2-fqQdN5",
        "outputId": "2798f230-fa90-4d5b-c09b-02f9233134bd"
      },
      "execution_count": 246,
      "outputs": [
        {
          "output_type": "stream",
          "name": "stdout",
          "text": [
            "POISSON\n",
            "\tR² = 0.9331676177275451\n",
            "\tMAE = 5.173988260029393\n",
            "\tMAPE = 0.04398533378199137\n",
            "\tRMSE = 7.459724109473527\n",
            "\tAIC = 155.98317738218083\n",
            "\tBIC = 158.16526228889745\n"
          ]
        }
      ]
    },
    {
      "cell_type": "markdown",
      "source": [
        "So we can use the non normalized model for making predictions."
      ],
      "metadata": {
        "id": "OHd_tRFRP2-5"
      }
    },
    {
      "cell_type": "code",
      "source": [
        "six.pred_future('poisson', False)"
      ],
      "metadata": {
        "colab": {
          "base_uri": "https://localhost:8080/"
        },
        "id": "fp5HyODVlxon",
        "outputId": "ef3567c5-a8da-45b0-b9fe-1f1f881ea9bc"
      },
      "execution_count": 82,
      "outputs": [
        {
          "output_type": "execute_result",
          "data": {
            "text/plain": [
              "array([[67.82742589],\n",
              "       [67.02968657],\n",
              "       [65.85063515],\n",
              "       [63.55438602],\n",
              "       [59.19931017],\n",
              "       [55.14266668],\n",
              "       [51.36400542],\n",
              "       [47.84427761],\n",
              "       [44.56573979],\n",
              "       [41.51186437],\n",
              "       [38.66725632],\n",
              "       [36.01757555],\n",
              "       [33.54946463]])"
            ]
          },
          "metadata": {},
          "execution_count": 82
        }
      ]
    },
    {
      "cell_type": "code",
      "source": [
        "print(six.poisson[0].summary())"
      ],
      "metadata": {
        "colab": {
          "base_uri": "https://localhost:8080/"
        },
        "id": "fNtG4jGDQSJ4",
        "outputId": "47cabdad-1406-4dc1-d91c-74a3db5759e9"
      },
      "execution_count": 248,
      "outputs": [
        {
          "output_type": "stream",
          "name": "stdout",
          "text": [
            "                          Poisson Regression Results                          \n",
            "==============================================================================\n",
            "Dep. Variable:                     v6   No. Observations:                   22\n",
            "Model:                        Poisson   Df Residuals:                       20\n",
            "Method:                           MLE   Df Model:                            1\n",
            "Date:                Tue, 28 Jun 2022   Pseudo R-squ.:                  0.5059\n",
            "Time:                        13:36:02   Log-Likelihood:                -75.992\n",
            "converged:                       True   LL-Null:                       -153.81\n",
            "Covariance Type:            nonrobust   LLR p-value:                 1.017e-35\n",
            "==============================================================================\n",
            "                 coef    std err          z      P>|z|      [0.025      0.975]\n",
            "------------------------------------------------------------------------------\n",
            "Intercept      5.0037      0.031    163.014      0.000       4.944       5.064\n",
            "months        -0.0059      0.000    -12.255      0.000      -0.007      -0.005\n",
            "==============================================================================\n"
          ]
        }
      ]
    },
    {
      "cell_type": "markdown",
      "source": [
        "#### V-7 cube"
      ],
      "metadata": {
        "id": "7CFdq8aA3vnd"
      }
    },
    {
      "cell_type": "code",
      "source": [
        "seven.graphics()"
      ],
      "metadata": {
        "colab": {
          "base_uri": "https://localhost:8080/",
          "height": 373
        },
        "id": "oce8-64K3z6w",
        "outputId": "a21e00d3-ce0e-4791-f2e6-e07e2e54fb21"
      },
      "execution_count": 249,
      "outputs": [
        {
          "output_type": "display_data",
          "data": {
            "text/plain": [
              "<Figure size 1080x360 with 2 Axes>"
            ],
            "image/png": "[encoded data removed]"
          },
          "metadata": {
            "needs_background": "light"
          }
        }
      ]
    },
    {
      "cell_type": "code",
      "source": [
        "seven.reg_graphics()"
      ],
      "metadata": {
        "colab": {
          "base_uri": "https://localhost:8080/",
          "height": 581
        },
        "id": "l7q4HagS34JL",
        "outputId": "3a7c8047-3855-459b-ca3c-4b60ed1c781d"
      },
      "execution_count": 83,
      "outputs": [
        {
          "output_type": "stream",
          "name": "stdout",
          "text": [
            "Prevendo dados... -- Predicting\n",
            "Modelando para prever... -- Modeling data for previsions...\n",
            "Normalizando dados... -- Normalizing data...\n",
            "Normalização concluída! -- Sucessfull normalization!\n",
            "Optimization terminated successfully.\n",
            "         Current function value: 3.608850\n",
            "         Iterations 5\n",
            "Optimization terminated successfully.\n",
            "         Current function value: 0.591428\n",
            "         Iterations 6\n",
            "Modelagem concluida! -- Sucessfull modeling!\n",
            "Previsões concluidas! -- Sucessfully predicted!\n"
          ]
        },
        {
          "output_type": "display_data",
          "data": {
            "text/plain": [
              "<Figure size 1080x360 with 2 Axes>"
            ],
            "image/png": "[encoded data removed]"
          },
          "metadata": {
            "needs_background": "light"
          }
        }
      ]
    },
    {
      "cell_type": "markdown",
      "source": [
        "That's actualy interesting, the linear model fit better in both cases, I'd not expect that. Well, since they're records it isn't surprising they get lower with passing time. \n",
        "\n",
        "However, is not posible, in regards to the competition rules logic, to have records of 0.00 second or -1.45 second: One case would be an already solved cube and the other would be a time traveling solve.\n",
        "\n",
        "Then once the linear function intercept x axis it wouldn't be a viable model at first glance, would be imagined that a non linear model get a better fit."
      ],
      "metadata": {
        "id": "o6-9ECZqSePb"
      }
    },
    {
      "cell_type": "code",
      "source": [
        "seven.models[0]"
      ],
      "metadata": {
        "colab": {
          "base_uri": "https://localhost:8080/",
          "height": 864
        },
        "id": "aEmWLe-M84xQ",
        "outputId": "ba559313-67eb-4191-c15f-36a49682576b"
      },
      "execution_count": 84,
      "outputs": [
        {
          "output_type": "execute_result",
          "data": {
            "text/plain": [
              "    months      v7         lin         poi\n",
              "0        0  256.47  230.622677  237.962589\n",
              "1        1  236.06  229.586353  236.465638\n",
              "2        2  227.36  228.550028  234.978105\n",
              "3        8  223.15  222.332083  226.247365\n",
              "4       18  213.25  211.968840  212.411040\n",
              "5       20  205.91  209.896192  209.747018\n",
              "6       30  193.19  199.532949  196.919784\n",
              "7       37  193.11  192.278680  188.410386\n",
              "8       42  185.80  187.097058  182.558315\n",
              "9       43  161.63  186.060734  181.409896\n",
              "10      54  160.11  174.661168  169.244235\n",
              "11      61  159.41  167.406898  161.930767\n",
              "12      68  158.93  160.152628  154.933332\n",
              "13      73  156.58  154.971007  150.121066\n",
              "14      76  154.64  151.862034  147.305752\n",
              "15      78  143.55  149.789386  145.458270\n",
              "16      90  140.66  137.353495  134.849917\n",
              "17      98  138.13  129.062901  128.211071\n",
              "18     100  134.55  126.990252  126.603071\n",
              "19     101  126.73  125.953928  125.806649\n",
              "20     109  119.95  117.663334  119.613015\n",
              "21     110  119.89  116.627010  118.860566\n",
              "22     112  117.76  114.554361  117.369838\n",
              "23     113  107.89  113.518037  116.631500\n",
              "24     125  104.02  101.082146  108.125500\n",
              "25     126  100.89  100.045822  107.445315"
            ],
            "text/html": [
              "\n",
              "  <div id=\"df-21c814ae-0d0b-4a19-b165-160d8cb21f1e\">\n",
              "    <div class=\"colab-df-container\">\n",
              "      <div>\n",
              "<style scoped>\n",
              "    .dataframe tbody tr th:only-of-type {\n",
              "        vertical-align: middle;\n",
              "    }\n",
              "\n",
              "    .dataframe tbody tr th {\n",
              "        vertical-align: top;\n",
              "    }\n",
              "\n",
              "    .dataframe thead th {\n",
              "        text-align: right;\n",
              "    }\n",
              "</style>\n",
              "<table border=\"1\" class=\"dataframe\">\n",
              "  <thead>\n",
              "    <tr style=\"text-align: right;\">\n",
              "      <th></th>\n",
              "      <th>months</th>\n",
              "      <th>v7</th>\n",
              "      <th>lin</th>\n",
              "      <th>poi</th>\n",
              "    </tr>\n",
              "  </thead>\n",
              "  <tbody>\n",
              "    <tr>\n",
              "      <th>0</th>\n",
              "      <td>0</td>\n",
              "      <td>256.47</td>\n",
              "      <td>230.622677</td>\n",
              "      <td>237.962589</td>\n",
              "    </tr>\n",
              "    <tr>\n",
              "      <th>1</th>\n",
              "      <td>1</td>\n",
              "      <td>236.06</td>\n",
              "      <td>229.586353</td>\n",
              "      <td>236.465638</td>\n",
              "    </tr>\n",
              "    <tr>\n",
              "      <th>2</th>\n",
              "      <td>2</td>\n",
              "      <td>227.36</td>\n",
              "      <td>228.550028</td>\n",
              "      <td>234.978105</td>\n",
              "    </tr>\n",
              "    <tr>\n",
              "      <th>3</th>\n",
              "      <td>8</td>\n",
              "      <td>223.15</td>\n",
              "      <td>222.332083</td>\n",
              "      <td>226.247365</td>\n",
              "    </tr>\n",
              "    <tr>\n",
              "      <th>4</th>\n",
              "      <td>18</td>\n",
              "      <td>213.25</td>\n",
              "      <td>211.968840</td>\n",
              "      <td>212.411040</td>\n",
              "    </tr>\n",
              "    <tr>\n",
              "      <th>5</th>\n",
              "      <td>20</td>\n",
              "      <td>205.91</td>\n",
              "      <td>209.896192</td>\n",
              "      <td>209.747018</td>\n",
              "    </tr>\n",
              "    <tr>\n",
              "      <th>6</th>\n",
              "      <td>30</td>\n",
              "      <td>193.19</td>\n",
              "      <td>199.532949</td>\n",
              "      <td>196.919784</td>\n",
              "    </tr>\n",
              "    <tr>\n",
              "      <th>7</th>\n",
              "      <td>37</td>\n",
              "      <td>193.11</td>\n",
              "      <td>192.278680</td>\n",
              "      <td>188.410386</td>\n",
              "    </tr>\n",
              "    <tr>\n",
              "      <th>8</th>\n",
              "      <td>42</td>\n",
              "      <td>185.80</td>\n",
              "      <td>187.097058</td>\n",
              "      <td>182.558315</td>\n",
              "    </tr>\n",
              "    <tr>\n",
              "      <th>9</th>\n",
              "      <td>43</td>\n",
              "      <td>161.63</td>\n",
              "      <td>186.060734</td>\n",
              "      <td>181.409896</td>\n",
              "    </tr>\n",
              "    <tr>\n",
              "      <th>10</th>\n",
              "      <td>54</td>\n",
              "      <td>160.11</td>\n",
              "      <td>174.661168</td>\n",
              "      <td>169.244235</td>\n",
              "    </tr>\n",
              "    <tr>\n",
              "      <th>11</th>\n",
              "      <td>61</td>\n",
              "      <td>159.41</td>\n",
              "      <td>167.406898</td>\n",
              "      <td>161.930767</td>\n",
              "    </tr>\n",
              "    <tr>\n",
              "      <th>12</th>\n",
              "      <td>68</td>\n",
              "      <td>158.93</td>\n",
              "      <td>160.152628</td>\n",
              "      <td>154.933332</td>\n",
              "    </tr>\n",
              "    <tr>\n",
              "      <th>13</th>\n",
              "      <td>73</td>\n",
              "      <td>156.58</td>\n",
              "      <td>154.971007</td>\n",
              "      <td>150.121066</td>\n",
              "    </tr>\n",
              "    <tr>\n",
              "      <th>14</th>\n",
              "      <td>76</td>\n",
              "      <td>154.64</td>\n",
              "      <td>151.862034</td>\n",
              "      <td>147.305752</td>\n",
              "    </tr>\n",
              "    <tr>\n",
              "      <th>15</th>\n",
              "      <td>78</td>\n",
              "      <td>143.55</td>\n",
              "      <td>149.789386</td>\n",
              "      <td>145.458270</td>\n",
              "    </tr>\n",
              "    <tr>\n",
              "      <th>16</th>\n",
              "      <td>90</td>\n",
              "      <td>140.66</td>\n",
              "      <td>137.353495</td>\n",
              "      <td>134.849917</td>\n",
              "    </tr>\n",
              "    <tr>\n",
              "      <th>17</th>\n",
              "      <td>98</td>\n",
              "      <td>138.13</td>\n",
              "      <td>129.062901</td>\n",
              "      <td>128.211071</td>\n",
              "    </tr>\n",
              "    <tr>\n",
              "      <th>18</th>\n",
              "      <td>100</td>\n",
              "      <td>134.55</td>\n",
              "      <td>126.990252</td>\n",
              "      <td>126.603071</td>\n",
              "    </tr>\n",
              "    <tr>\n",
              "      <th>19</th>\n",
              "      <td>101</td>\n",
              "      <td>126.73</td>\n",
              "      <td>125.953928</td>\n",
              "      <td>125.806649</td>\n",
              "    </tr>\n",
              "    <tr>\n",
              "      <th>20</th>\n",
              "      <td>109</td>\n",
              "      <td>119.95</td>\n",
              "      <td>117.663334</td>\n",
              "      <td>119.613015</td>\n",
              "    </tr>\n",
              "    <tr>\n",
              "      <th>21</th>\n",
              "      <td>110</td>\n",
              "      <td>119.89</td>\n",
              "      <td>116.627010</td>\n",
              "      <td>118.860566</td>\n",
              "    </tr>\n",
              "    <tr>\n",
              "      <th>22</th>\n",
              "      <td>112</td>\n",
              "      <td>117.76</td>\n",
              "      <td>114.554361</td>\n",
              "      <td>117.369838</td>\n",
              "    </tr>\n",
              "    <tr>\n",
              "      <th>23</th>\n",
              "      <td>113</td>\n",
              "      <td>107.89</td>\n",
              "      <td>113.518037</td>\n",
              "      <td>116.631500</td>\n",
              "    </tr>\n",
              "    <tr>\n",
              "      <th>24</th>\n",
              "      <td>125</td>\n",
              "      <td>104.02</td>\n",
              "      <td>101.082146</td>\n",
              "      <td>108.125500</td>\n",
              "    </tr>\n",
              "    <tr>\n",
              "      <th>25</th>\n",
              "      <td>126</td>\n",
              "      <td>100.89</td>\n",
              "      <td>100.045822</td>\n",
              "      <td>107.445315</td>\n",
              "    </tr>\n",
              "  </tbody>\n",
              "</table>\n",
              "</div>\n",
              "      <button class=\"colab-df-convert\" onclick=\"convertToInteractive('df-21c814ae-0d0b-4a19-b165-160d8cb21f1e')\"\n",
              "              title=\"Convert this dataframe to an interactive table.\"\n",
              "              style=\"display:none;\">\n",
              "        \n",
              "  <svg xmlns=\"http://www.w3.org/2000/svg\" height=\"24px\"viewBox=\"0 0 24 24\"\n",
              "       width=\"24px\">\n",
              "    <path d=\"M0 0h24v24H0V0z\" fill=\"none\"/>\n",
              "    <path d=\"M18.56 5.44l.94 2.06.94-2.06 2.06-.94-2.06-.94-.94-2.06-.94 2.06-2.06.94zm-11 1L8.5 8.5l.94-2.06 2.06-.94-2.06-.94L8.5 2.5l-.94 2.06-2.06.94zm10 10l.94 2.06.94-2.06 2.06-.94-2.06-.94-.94-2.06-.94 2.06-2.06.94z\"/><path d=\"M17.41 7.96l-1.37-1.37c-.4-.4-.92-.59-1.43-.59-.52 0-1.04.2-1.43.59L10.3 9.45l-7.72 7.72c-.78.78-.78 2.05 0 2.83L4 21.41c.39.39.9.59 1.41.59.51 0 1.02-.2 1.41-.59l7.78-7.78 2.81-2.81c.8-.78.8-2.07 0-2.86zM5.41 20L4 18.59l7.72-7.72 1.47 1.35L5.41 20z\"/>\n",
              "  </svg>\n",
              "      </button>\n",
              "      \n",
              "  <style>\n",
              "    .colab-df-container {\n",
              "      display:flex;\n",
              "      flex-wrap:wrap;\n",
              "      gap: 12px;\n",
              "    }\n",
              "\n",
              "    .colab-df-convert {\n",
              "      background-color: #E8F0FE;\n",
              "      border: none;\n",
              "      border-radius: 50%;\n",
              "      cursor: pointer;\n",
              "      display: none;\n",
              "      fill: #1967D2;\n",
              "      height: 32px;\n",
              "      padding: 0 0 0 0;\n",
              "      width: 32px;\n",
              "    }\n",
              "\n",
              "    .colab-df-convert:hover {\n",
              "      background-color: #E2EBFA;\n",
              "      box-shadow: 0px 1px 2px rgba(60, 64, 67, 0.3), 0px 1px 3px 1px rgba(60, 64, 67, 0.15);\n",
              "      fill: #174EA6;\n",
              "    }\n",
              "\n",
              "    [theme=dark] .colab-df-convert {\n",
              "      background-color: #3B4455;\n",
              "      fill: #D2E3FC;\n",
              "    }\n",
              "\n",
              "    [theme=dark] .colab-df-convert:hover {\n",
              "      background-color: #434B5C;\n",
              "      box-shadow: 0px 1px 3px 1px rgba(0, 0, 0, 0.15);\n",
              "      filter: drop-shadow(0px 1px 2px rgba(0, 0, 0, 0.3));\n",
              "      fill: #FFFFFF;\n",
              "    }\n",
              "  </style>\n",
              "\n",
              "      <script>\n",
              "        const buttonEl =\n",
              "          document.querySelector('#df-21c814ae-0d0b-4a19-b165-160d8cb21f1e button.colab-df-convert');\n",
              "        buttonEl.style.display =\n",
              "          google.colab.kernel.accessAllowed ? 'block' : 'none';\n",
              "\n",
              "        async function convertToInteractive(key) {\n",
              "          const element = document.querySelector('#df-21c814ae-0d0b-4a19-b165-160d8cb21f1e');\n",
              "          const dataTable =\n",
              "            await google.colab.kernel.invokeFunction('convertToInteractive',\n",
              "                                                     [key], {});\n",
              "          if (!dataTable) return;\n",
              "\n",
              "          const docLinkHtml = 'Like what you see? Visit the ' +\n",
              "            '<a target=\"_blank\" href=https://colab.research.google.com/notebooks/data_table.ipynb>data table notebook</a>'\n",
              "            + ' to learn more about interactive tables.';\n",
              "          element.innerHTML = '';\n",
              "          dataTable['output_type'] = 'display_data';\n",
              "          await google.colab.output.renderOutput(dataTable, element);\n",
              "          const docLink = document.createElement('div');\n",
              "          docLink.innerHTML = docLinkHtml;\n",
              "          element.appendChild(docLink);\n",
              "        }\n",
              "      </script>\n",
              "    </div>\n",
              "  </div>\n",
              "  "
            ]
          },
          "metadata": {},
          "execution_count": 84
        }
      ]
    },
    {
      "cell_type": "code",
      "source": [
        "seven.metrics_results('linear')\n",
        "seven.metrics_results('poisson')"
      ],
      "metadata": {
        "colab": {
          "base_uri": "https://localhost:8080/"
        },
        "id": "I-KPQx-UVcNl",
        "outputId": "bc0fcd41-fae8-4427-b3a2-9b50c7e4cc3d"
      },
      "execution_count": 85,
      "outputs": [
        {
          "output_type": "stream",
          "name": "stdout",
          "text": [
            "LINEAR\n",
            "\tR² = 0.9604980469109998\n",
            "\tMAE = 5.606544500726454\n",
            "\tMAPE = 0.0343047043287094\n",
            "\tRMSE = 8.578957045133844\n",
            "\tAIC = 189.54904590584675\n",
            "\tBIC = 192.0652389818897\n",
            "POISSON\n",
            "\tR² = 0.9710557572917333\n",
            "\tMAE = 5.4948763584656986\n",
            "\tMAPE = 0.034881665846287775\n",
            "\tRMSE = 7.3435541983938775\n",
            "\tAIC = 191.66019862605572\n",
            "\tBIC = 194.17639170209867\n"
          ]
        }
      ]
    },
    {
      "cell_type": "markdown",
      "source": [
        "Closest results; slightly lesser errors in the poisson model, but higher information criteria in the linear model.\n",
        "\n"
      ],
      "metadata": {
        "id": "z3Bpy6xqV7tn"
      }
    },
    {
      "cell_type": "code",
      "source": [
        "print(seven.linear[0].summary())"
      ],
      "metadata": {
        "colab": {
          "base_uri": "https://localhost:8080/"
        },
        "id": "rtFkjayJW1k6",
        "outputId": "86dc18ea-2b21-46ed-8a64-ee7b3e6aeb84"
      },
      "execution_count": 253,
      "outputs": [
        {
          "output_type": "stream",
          "name": "stdout",
          "text": [
            "                            OLS Regression Results                            \n",
            "==============================================================================\n",
            "Dep. Variable:                     v7   R-squared:                       0.960\n",
            "Model:                            OLS   Adj. R-squared:                  0.959\n",
            "Method:                 Least Squares   F-statistic:                     583.6\n",
            "Date:                Tue, 28 Jun 2022   Prob (F-statistic):           2.37e-18\n",
            "Time:                        13:36:04   Log-Likelihood:                -92.775\n",
            "No. Observations:                  26   AIC:                             189.5\n",
            "Df Residuals:                      24   BIC:                             192.1\n",
            "Df Model:                           1                                         \n",
            "Covariance Type:            nonrobust                                         \n",
            "==============================================================================\n",
            "                 coef    std err          t      P>|t|      [0.025      0.975]\n",
            "------------------------------------------------------------------------------\n",
            "Intercept    230.6227      3.300     69.891      0.000     223.812     237.433\n",
            "months        -1.0363      0.043    -24.157      0.000      -1.125      -0.948\n",
            "==============================================================================\n",
            "Omnibus:                        7.446   Durbin-Watson:                   0.874\n",
            "Prob(Omnibus):                  0.024   Jarque-Bera (JB):               10.849\n",
            "Skew:                          -0.002   Prob(JB):                      0.00441\n",
            "Kurtosis:                       6.165   Cond. No.                         145.\n",
            "==============================================================================\n",
            "\n",
            "Warnings:\n",
            "[1] Standard Errors assume that the covariance matrix of the errors is correctly specified.\n"
          ]
        }
      ]
    },
    {
      "cell_type": "code",
      "source": [
        "print(seven.poisson[0].summary())"
      ],
      "metadata": {
        "colab": {
          "base_uri": "https://localhost:8080/"
        },
        "id": "lkvK3qvxW2Qd",
        "outputId": "01f7bba5-52e2-4b78-ac68-a8b141cf9d26"
      },
      "execution_count": 254,
      "outputs": [
        {
          "output_type": "stream",
          "name": "stdout",
          "text": [
            "                          Poisson Regression Results                          \n",
            "==============================================================================\n",
            "Dep. Variable:                     v7   No. Observations:                   26\n",
            "Model:                        Poisson   Df Residuals:                       24\n",
            "Method:                           MLE   Df Model:                            1\n",
            "Date:                Tue, 28 Jun 2022   Pseudo R-squ.:                  0.6015\n",
            "Time:                        13:36:04   Log-Likelihood:                -93.830\n",
            "converged:                       True   LL-Null:                       -235.48\n",
            "Covariance Type:            nonrobust   LLR p-value:                 1.441e-63\n",
            "==============================================================================\n",
            "                 coef    std err          z      P>|z|      [0.025      0.975]\n",
            "------------------------------------------------------------------------------\n",
            "Intercept      5.4721      0.026    213.283      0.000       5.422       5.522\n",
            "months        -0.0063      0.000    -16.766      0.000      -0.007      -0.006\n",
            "==============================================================================\n"
          ]
        }
      ]
    },
    {
      "cell_type": "markdown",
      "source": [
        "Think both models are viable options for predicting new records in this case."
      ],
      "metadata": {
        "id": "gF5s1LAbXL1E"
      }
    },
    {
      "cell_type": "code",
      "source": [
        "seven.pred_future('linear')"
      ],
      "metadata": {
        "colab": {
          "base_uri": "https://localhost:8080/"
        },
        "id": "X0kMDH69mCI7",
        "outputId": "2cc9ff0e-eca9-464f-81fe-ac9aaa0fac14"
      },
      "execution_count": 86,
      "outputs": [
        {
          "output_type": "execute_result",
          "data": {
            "text/plain": [
              "array([[ 99.0094975 ],\n",
              "       [ 96.936849  ],\n",
              "       [ 93.82787626],\n",
              "       [ 87.60993078],\n",
              "       [ 75.17403982],\n",
              "       [ 62.73814885],\n",
              "       [ 50.30225789],\n",
              "       [ 37.86636692],\n",
              "       [ 25.43047596],\n",
              "       [ 12.99458499],\n",
              "       [  0.55869403],\n",
              "       [-11.87719694],\n",
              "       [-24.3130879 ]])"
            ]
          },
          "metadata": {},
          "execution_count": 86
        }
      ]
    },
    {
      "cell_type": "code",
      "source": [
        "seven.pred_future('poisson')"
      ],
      "metadata": {
        "colab": {
          "base_uri": "https://localhost:8080/"
        },
        "id": "MFBpS_WUmG8u",
        "outputId": "0704ee4c-8d3c-4789-e1c3-81cea3993639"
      },
      "execution_count": 87,
      "outputs": [
        {
          "output_type": "execute_result",
          "data": {
            "text/plain": [
              "array([[106.76940889],\n",
              "       [105.430326  ],\n",
              "       [103.4531255 ],\n",
              "       [ 99.60926814],\n",
              "       [ 92.34470869],\n",
              "       [ 85.60995761],\n",
              "       [ 79.36637569],\n",
              "       [ 73.57814167],\n",
              "       [ 68.21204679],\n",
              "       [ 63.23730419],\n",
              "       [ 58.62537235],\n",
              "       [ 54.34979127],\n",
              "       [ 50.3860307 ]])"
            ]
          },
          "metadata": {},
          "execution_count": 87
        }
      ]
    },
    {
      "cell_type": "markdown",
      "source": [
        "Looks like the really good model is the non linear, but with a slightly adjust."
      ],
      "metadata": {
        "id": "FMWdMIbqX8C1"
      }
    },
    {
      "cell_type": "code",
      "source": [
        "seven.pred_future('poisson') - metrics.mean_absolute_error(seven.models[0].v7, seven.models[0].poi)"
      ],
      "metadata": {
        "colab": {
          "base_uri": "https://localhost:8080/"
        },
        "id": "0d8JmNnVaZDR",
        "outputId": "a7bb8d12-9df5-4837-9624-05979ffbee65"
      },
      "execution_count": 88,
      "outputs": [
        {
          "output_type": "execute_result",
          "data": {
            "text/plain": [
              "array([[101.27453253],\n",
              "       [ 99.93544964],\n",
              "       [ 97.95824914],\n",
              "       [ 94.11439178],\n",
              "       [ 86.84983233],\n",
              "       [ 80.11508125],\n",
              "       [ 73.87149933],\n",
              "       [ 68.08326531],\n",
              "       [ 62.71717043],\n",
              "       [ 57.74242784],\n",
              "       [ 53.13049599],\n",
              "       [ 48.85491491],\n",
              "       [ 44.89115434]])"
            ]
          },
          "metadata": {},
          "execution_count": 88
        }
      ]
    },
    {
      "cell_type": "markdown",
      "source": [
        "The linear model isn't wothless, but it shows a vertiginous decrease in the records facing a stabilization of the records on the non linear model.\n",
        "\n",
        "Therefore I judge to be a safer option the poisson model for predicting the records, it may require some adjusts, yet nothing out of normality."
      ],
      "metadata": {
        "id": "tv9-smkfcZLp"
      }
    },
    {
      "cell_type": "markdown",
      "source": [
        "#### Time series?"
      ],
      "metadata": {
        "id": "ceh7GFvXdZwz"
      }
    },
    {
      "cell_type": "markdown",
      "source": [
        "If you're a sharp observer and curious, you may ask about the time series graphic or the \"Facebook Prophet\" import in the begining of the code.\n",
        "\n",
        "Firstly when this idea came to miind looked like a time series analysis would suit better for this, although there was no seasonality. So there is implemented in the class a Facebook Prophet model"
      ],
      "metadata": {
        "id": "I2COpvzYdeju"
      }
    },
    {
      "cell_type": "markdown",
      "source": [
        "First we have to model the facebook prophet, calling the \"modeling\" method with the \"fb_model = True\" argument."
      ],
      "metadata": {
        "id": "zruZqDJReuI1"
      }
    },
    {
      "cell_type": "code",
      "source": [
        "two.modeling(fb_model=True)"
      ],
      "metadata": {
        "colab": {
          "base_uri": "https://localhost:8080/"
        },
        "id": "6ZWMruLZfDsE",
        "outputId": "3364a0d4-7fbd-4c14-faa2-4ea901da6517"
      },
      "execution_count": 258,
      "outputs": [
        {
          "output_type": "stream",
          "name": "stdout",
          "text": [
            "Modelando Facebook Prophet... -- Modeling Facebook Prophet...\n",
            "Modelagem concluida! -- Sucessfull modeling!\n"
          ]
        }
      ]
    },
    {
      "cell_type": "markdown",
      "source": [
        "Then call the \"modeling_previsions\" method with \"n_prev\" argument equals to how many periods we want to predict.\n",
        "\n",
        "\"n_prev\" stands for \"number of previsions\""
      ],
      "metadata": {
        "id": "tdUDGzAXfMX9"
      }
    },
    {
      "cell_type": "code",
      "source": [
        "two.modeling_previsions(n_prev=36)"
      ],
      "metadata": {
        "colab": {
          "base_uri": "https://localhost:8080/"
        },
        "id": "qDxq5PqSfbQB",
        "outputId": "c7789eef-f824-4d44-c110-2aa23b9d2c03"
      },
      "execution_count": 259,
      "outputs": [
        {
          "output_type": "stream",
          "name": "stdout",
          "text": [
            "Prevendo com Facebook Prophet... -- Predicting with Facebook Prophet...\n",
            "Previsões concluidas! -- Sucessfully predicted!\n"
          ]
        }
      ]
    },
    {
      "cell_type": "markdown",
      "source": [
        "The we can acces the dataframe of predictions by the atribute \"fb_prophet_predictions\".\n",
        "\n",
        "Just the first and last column are relevant."
      ],
      "metadata": {
        "id": "OGfKBA3ugOlG"
      }
    },
    {
      "cell_type": "code",
      "source": [
        "two.fb_prophet_predictions.iloc[:, [0, len(two.fb_prophet_predictions.columns)-1]].tail(40)"
      ],
      "metadata": {
        "colab": {
          "base_uri": "https://localhost:8080/",
          "height": 1000
        },
        "id": "nzRdrUcxgm2p",
        "outputId": "3fad87cf-8989-4d7e-8d72-6b763ee46714"
      },
      "execution_count": 260,
      "outputs": [
        {
          "output_type": "execute_result",
          "data": {
            "text/plain": [
              "            ds      yhat\n",
              "207 2022-01-14  0.383250\n",
              "208 2022-02-14  0.380024\n",
              "209 2022-03-14  0.377110\n",
              "210 2022-04-14  0.373883\n",
              "211 2022-05-01  0.372114\n",
              "212 2022-06-01  0.368887\n",
              "213 2022-07-01  0.365765\n",
              "214 2022-08-01  0.362539\n",
              "215 2022-09-01  0.359312\n",
              "216 2022-10-01  0.356190\n",
              "217 2022-11-01  0.352964\n",
              "218 2022-12-01  0.349841\n",
              "219 2023-01-01  0.346615\n",
              "220 2023-02-01  0.343389\n",
              "221 2023-03-01  0.340475\n",
              "222 2023-04-01  0.337248\n",
              "223 2023-05-01  0.334126\n",
              "224 2023-06-01  0.330899\n",
              "225 2023-07-01  0.327777\n",
              "226 2023-08-01  0.324551\n",
              "227 2023-09-01  0.321324\n",
              "228 2023-10-01  0.318202\n",
              "229 2023-11-01  0.314976\n",
              "230 2023-12-01  0.311853\n",
              "231 2024-01-01  0.308627\n",
              "232 2024-02-01  0.305401\n",
              "233 2024-03-01  0.302382\n",
              "234 2024-04-01  0.299156\n",
              "235 2024-05-01  0.296034\n",
              "236 2024-06-01  0.292807\n",
              "237 2024-07-01  0.289685\n",
              "238 2024-08-01  0.286459\n",
              "239 2024-09-01  0.283232\n",
              "240 2024-10-01  0.280110\n",
              "241 2024-11-01  0.276884\n",
              "242 2024-12-01  0.273761\n",
              "243 2025-01-01  0.270535\n",
              "244 2025-02-01  0.267309\n",
              "245 2025-03-01  0.264394\n",
              "246 2025-04-01  0.261168"
            ],
            "text/html": [
              "\n",
              "  <div id=\"df-3189169d-e81d-44d8-8664-a6247766216e\">\n",
              "    <div class=\"colab-df-container\">\n",
              "      <div>\n",
              "<style scoped>\n",
              "    .dataframe tbody tr th:only-of-type {\n",
              "        vertical-align: middle;\n",
              "    }\n",
              "\n",
              "    .dataframe tbody tr th {\n",
              "        vertical-align: top;\n",
              "    }\n",
              "\n",
              "    .dataframe thead th {\n",
              "        text-align: right;\n",
              "    }\n",
              "</style>\n",
              "<table border=\"1\" class=\"dataframe\">\n",
              "  <thead>\n",
              "    <tr style=\"text-align: right;\">\n",
              "      <th></th>\n",
              "      <th>ds</th>\n",
              "      <th>yhat</th>\n",
              "    </tr>\n",
              "  </thead>\n",
              "  <tbody>\n",
              "    <tr>\n",
              "      <th>207</th>\n",
              "      <td>2022-01-14</td>\n",
              "      <td>0.383250</td>\n",
              "    </tr>\n",
              "    <tr>\n",
              "      <th>208</th>\n",
              "      <td>2022-02-14</td>\n",
              "      <td>0.380024</td>\n",
              "    </tr>\n",
              "    <tr>\n",
              "      <th>209</th>\n",
              "      <td>2022-03-14</td>\n",
              "      <td>0.377110</td>\n",
              "    </tr>\n",
              "    <tr>\n",
              "      <th>210</th>\n",
              "      <td>2022-04-14</td>\n",
              "      <td>0.373883</td>\n",
              "    </tr>\n",
              "    <tr>\n",
              "      <th>211</th>\n",
              "      <td>2022-05-01</td>\n",
              "      <td>0.372114</td>\n",
              "    </tr>\n",
              "    <tr>\n",
              "      <th>212</th>\n",
              "      <td>2022-06-01</td>\n",
              "      <td>0.368887</td>\n",
              "    </tr>\n",
              "    <tr>\n",
              "      <th>213</th>\n",
              "      <td>2022-07-01</td>\n",
              "      <td>0.365765</td>\n",
              "    </tr>\n",
              "    <tr>\n",
              "      <th>214</th>\n",
              "      <td>2022-08-01</td>\n",
              "      <td>0.362539</td>\n",
              "    </tr>\n",
              "    <tr>\n",
              "      <th>215</th>\n",
              "      <td>2022-09-01</td>\n",
              "      <td>0.359312</td>\n",
              "    </tr>\n",
              "    <tr>\n",
              "      <th>216</th>\n",
              "      <td>2022-10-01</td>\n",
              "      <td>0.356190</td>\n",
              "    </tr>\n",
              "    <tr>\n",
              "      <th>217</th>\n",
              "      <td>2022-11-01</td>\n",
              "      <td>0.352964</td>\n",
              "    </tr>\n",
              "    <tr>\n",
              "      <th>218</th>\n",
              "      <td>2022-12-01</td>\n",
              "      <td>0.349841</td>\n",
              "    </tr>\n",
              "    <tr>\n",
              "      <th>219</th>\n",
              "      <td>2023-01-01</td>\n",
              "      <td>0.346615</td>\n",
              "    </tr>\n",
              "    <tr>\n",
              "      <th>220</th>\n",
              "      <td>2023-02-01</td>\n",
              "      <td>0.343389</td>\n",
              "    </tr>\n",
              "    <tr>\n",
              "      <th>221</th>\n",
              "      <td>2023-03-01</td>\n",
              "      <td>0.340475</td>\n",
              "    </tr>\n",
              "    <tr>\n",
              "      <th>222</th>\n",
              "      <td>2023-04-01</td>\n",
              "      <td>0.337248</td>\n",
              "    </tr>\n",
              "    <tr>\n",
              "      <th>223</th>\n",
              "      <td>2023-05-01</td>\n",
              "      <td>0.334126</td>\n",
              "    </tr>\n",
              "    <tr>\n",
              "      <th>224</th>\n",
              "      <td>2023-06-01</td>\n",
              "      <td>0.330899</td>\n",
              "    </tr>\n",
              "    <tr>\n",
              "      <th>225</th>\n",
              "      <td>2023-07-01</td>\n",
              "      <td>0.327777</td>\n",
              "    </tr>\n",
              "    <tr>\n",
              "      <th>226</th>\n",
              "      <td>2023-08-01</td>\n",
              "      <td>0.324551</td>\n",
              "    </tr>\n",
              "    <tr>\n",
              "      <th>227</th>\n",
              "      <td>2023-09-01</td>\n",
              "      <td>0.321324</td>\n",
              "    </tr>\n",
              "    <tr>\n",
              "      <th>228</th>\n",
              "      <td>2023-10-01</td>\n",
              "      <td>0.318202</td>\n",
              "    </tr>\n",
              "    <tr>\n",
              "      <th>229</th>\n",
              "      <td>2023-11-01</td>\n",
              "      <td>0.314976</td>\n",
              "    </tr>\n",
              "    <tr>\n",
              "      <th>230</th>\n",
              "      <td>2023-12-01</td>\n",
              "      <td>0.311853</td>\n",
              "    </tr>\n",
              "    <tr>\n",
              "      <th>231</th>\n",
              "      <td>2024-01-01</td>\n",
              "      <td>0.308627</td>\n",
              "    </tr>\n",
              "    <tr>\n",
              "      <th>232</th>\n",
              "      <td>2024-02-01</td>\n",
              "      <td>0.305401</td>\n",
              "    </tr>\n",
              "    <tr>\n",
              "      <th>233</th>\n",
              "      <td>2024-03-01</td>\n",
              "      <td>0.302382</td>\n",
              "    </tr>\n",
              "    <tr>\n",
              "      <th>234</th>\n",
              "      <td>2024-04-01</td>\n",
              "      <td>0.299156</td>\n",
              "    </tr>\n",
              "    <tr>\n",
              "      <th>235</th>\n",
              "      <td>2024-05-01</td>\n",
              "      <td>0.296034</td>\n",
              "    </tr>\n",
              "    <tr>\n",
              "      <th>236</th>\n",
              "      <td>2024-06-01</td>\n",
              "      <td>0.292807</td>\n",
              "    </tr>\n",
              "    <tr>\n",
              "      <th>237</th>\n",
              "      <td>2024-07-01</td>\n",
              "      <td>0.289685</td>\n",
              "    </tr>\n",
              "    <tr>\n",
              "      <th>238</th>\n",
              "      <td>2024-08-01</td>\n",
              "      <td>0.286459</td>\n",
              "    </tr>\n",
              "    <tr>\n",
              "      <th>239</th>\n",
              "      <td>2024-09-01</td>\n",
              "      <td>0.283232</td>\n",
              "    </tr>\n",
              "    <tr>\n",
              "      <th>240</th>\n",
              "      <td>2024-10-01</td>\n",
              "      <td>0.280110</td>\n",
              "    </tr>\n",
              "    <tr>\n",
              "      <th>241</th>\n",
              "      <td>2024-11-01</td>\n",
              "      <td>0.276884</td>\n",
              "    </tr>\n",
              "    <tr>\n",
              "      <th>242</th>\n",
              "      <td>2024-12-01</td>\n",
              "      <td>0.273761</td>\n",
              "    </tr>\n",
              "    <tr>\n",
              "      <th>243</th>\n",
              "      <td>2025-01-01</td>\n",
              "      <td>0.270535</td>\n",
              "    </tr>\n",
              "    <tr>\n",
              "      <th>244</th>\n",
              "      <td>2025-02-01</td>\n",
              "      <td>0.267309</td>\n",
              "    </tr>\n",
              "    <tr>\n",
              "      <th>245</th>\n",
              "      <td>2025-03-01</td>\n",
              "      <td>0.264394</td>\n",
              "    </tr>\n",
              "    <tr>\n",
              "      <th>246</th>\n",
              "      <td>2025-04-01</td>\n",
              "      <td>0.261168</td>\n",
              "    </tr>\n",
              "  </tbody>\n",
              "</table>\n",
              "</div>\n",
              "      <button class=\"colab-df-convert\" onclick=\"convertToInteractive('df-3189169d-e81d-44d8-8664-a6247766216e')\"\n",
              "              title=\"Convert this dataframe to an interactive table.\"\n",
              "              style=\"display:none;\">\n",
              "        \n",
              "  <svg xmlns=\"http://www.w3.org/2000/svg\" height=\"24px\"viewBox=\"0 0 24 24\"\n",
              "       width=\"24px\">\n",
              "    <path d=\"M0 0h24v24H0V0z\" fill=\"none\"/>\n",
              "    <path d=\"M18.56 5.44l.94 2.06.94-2.06 2.06-.94-2.06-.94-.94-2.06-.94 2.06-2.06.94zm-11 1L8.5 8.5l.94-2.06 2.06-.94-2.06-.94L8.5 2.5l-.94 2.06-2.06.94zm10 10l.94 2.06.94-2.06 2.06-.94-2.06-.94-.94-2.06-.94 2.06-2.06.94z\"/><path d=\"M17.41 7.96l-1.37-1.37c-.4-.4-.92-.59-1.43-.59-.52 0-1.04.2-1.43.59L10.3 9.45l-7.72 7.72c-.78.78-.78 2.05 0 2.83L4 21.41c.39.39.9.59 1.41.59.51 0 1.02-.2 1.41-.59l7.78-7.78 2.81-2.81c.8-.78.8-2.07 0-2.86zM5.41 20L4 18.59l7.72-7.72 1.47 1.35L5.41 20z\"/>\n",
              "  </svg>\n",
              "      </button>\n",
              "      \n",
              "  <style>\n",
              "    .colab-df-container {\n",
              "      display:flex;\n",
              "      flex-wrap:wrap;\n",
              "      gap: 12px;\n",
              "    }\n",
              "\n",
              "    .colab-df-convert {\n",
              "      background-color: #E8F0FE;\n",
              "      border: none;\n",
              "      border-radius: 50%;\n",
              "      cursor: pointer;\n",
              "      display: none;\n",
              "      fill: #1967D2;\n",
              "      height: 32px;\n",
              "      padding: 0 0 0 0;\n",
              "      width: 32px;\n",
              "    }\n",
              "\n",
              "    .colab-df-convert:hover {\n",
              "      background-color: #E2EBFA;\n",
              "      box-shadow: 0px 1px 2px rgba(60, 64, 67, 0.3), 0px 1px 3px 1px rgba(60, 64, 67, 0.15);\n",
              "      fill: #174EA6;\n",
              "    }\n",
              "\n",
              "    [theme=dark] .colab-df-convert {\n",
              "      background-color: #3B4455;\n",
              "      fill: #D2E3FC;\n",
              "    }\n",
              "\n",
              "    [theme=dark] .colab-df-convert:hover {\n",
              "      background-color: #434B5C;\n",
              "      box-shadow: 0px 1px 3px 1px rgba(0, 0, 0, 0.15);\n",
              "      filter: drop-shadow(0px 1px 2px rgba(0, 0, 0, 0.3));\n",
              "      fill: #FFFFFF;\n",
              "    }\n",
              "  </style>\n",
              "\n",
              "      <script>\n",
              "        const buttonEl =\n",
              "          document.querySelector('#df-3189169d-e81d-44d8-8664-a6247766216e button.colab-df-convert');\n",
              "        buttonEl.style.display =\n",
              "          google.colab.kernel.accessAllowed ? 'block' : 'none';\n",
              "\n",
              "        async function convertToInteractive(key) {\n",
              "          const element = document.querySelector('#df-3189169d-e81d-44d8-8664-a6247766216e');\n",
              "          const dataTable =\n",
              "            await google.colab.kernel.invokeFunction('convertToInteractive',\n",
              "                                                     [key], {});\n",
              "          if (!dataTable) return;\n",
              "\n",
              "          const docLinkHtml = 'Like what you see? Visit the ' +\n",
              "            '<a target=\"_blank\" href=https://colab.research.google.com/notebooks/data_table.ipynb>data table notebook</a>'\n",
              "            + ' to learn more about interactive tables.';\n",
              "          element.innerHTML = '';\n",
              "          dataTable['output_type'] = 'display_data';\n",
              "          await google.colab.output.renderOutput(dataTable, element);\n",
              "          const docLink = document.createElement('div');\n",
              "          docLink.innerHTML = docLinkHtml;\n",
              "          element.appendChild(docLink);\n",
              "        }\n",
              "      </script>\n",
              "    </div>\n",
              "  </div>\n",
              "  "
            ]
          },
          "metadata": {},
          "execution_count": 260
        }
      ]
    },
    {
      "cell_type": "markdown",
      "source": [
        "And now the graphic."
      ],
      "metadata": {
        "id": "tCJn4jqGhKO7"
      }
    },
    {
      "cell_type": "code",
      "source": [
        "two.fb_graphics()"
      ],
      "metadata": {
        "colab": {
          "base_uri": "https://localhost:8080/",
          "height": 441
        },
        "id": "r0KIQcEghMqW",
        "outputId": "f76fa042-0708-490f-965d-e900e59dc707"
      },
      "execution_count": 261,
      "outputs": [
        {
          "output_type": "display_data",
          "data": {
            "text/plain": [
              "<Figure size 720x432 with 1 Axes>"
            ],
            "image/png": "[encoded data removed]"
          },
          "metadata": {}
        }
      ]
    },
    {
      "cell_type": "markdown",
      "source": [
        "For saving time."
      ],
      "metadata": {
        "id": "ylrQGBRgil69"
      }
    },
    {
      "cell_type": "code",
      "source": [
        "three.modeling_previsions(n_prev=36), \n",
        "four.modeling_previsions(n_prev=36), \n",
        "five.modeling_previsions(n_prev=36), \n",
        "six.modeling_previsions(n_prev=36), \n",
        "seven.modeling_previsions(n_prev=36)"
      ],
      "metadata": {
        "colab": {
          "base_uri": "https://localhost:8080/"
        },
        "id": "Oojo0S1diKOX",
        "outputId": "fae306f8-71fa-4725-f487-fd59d7e4afa3"
      },
      "execution_count": 263,
      "outputs": [
        {
          "output_type": "stream",
          "name": "stdout",
          "text": [
            "Modelando com Facebook Prophet... -- Modelando with Facebook Prophet...\n",
            "Modelando Facebook Prophet... -- Modeling Facebook Prophet...\n",
            "Modelagem concluida! -- Sucessfull modeling!\n",
            "Prevendo com Facebook Prophet... -- Predicting with Facebook Prophet...\n",
            "Previsões concluidas! -- Sucessfully predicted!\n",
            "Modelando com Facebook Prophet... -- Modelando with Facebook Prophet...\n",
            "Modelando Facebook Prophet... -- Modeling Facebook Prophet...\n",
            "Modelagem concluida! -- Sucessfull modeling!\n",
            "Prevendo com Facebook Prophet... -- Predicting with Facebook Prophet...\n",
            "Previsões concluidas! -- Sucessfully predicted!\n",
            "Modelando com Facebook Prophet... -- Modelando with Facebook Prophet...\n",
            "Modelando Facebook Prophet... -- Modeling Facebook Prophet...\n",
            "Modelagem concluida! -- Sucessfull modeling!\n",
            "Prevendo com Facebook Prophet... -- Predicting with Facebook Prophet...\n",
            "Previsões concluidas! -- Sucessfully predicted!\n",
            "Modelando com Facebook Prophet... -- Modelando with Facebook Prophet...\n",
            "Modelando Facebook Prophet... -- Modeling Facebook Prophet...\n",
            "Modelagem concluida! -- Sucessfull modeling!\n",
            "Prevendo com Facebook Prophet... -- Predicting with Facebook Prophet...\n",
            "Previsões concluidas! -- Sucessfully predicted!\n",
            "Facebook Prophet já previsto. -- Facebook Prophet has already been predicted.\n",
            "Previsões concluidas! -- Sucessfully predicted!\n"
          ]
        }
      ]
    },
    {
      "cell_type": "markdown",
      "source": [
        "The Rubik's cube time series."
      ],
      "metadata": {
        "id": "BaAYJJ12jpH6"
      }
    },
    {
      "cell_type": "code",
      "source": [
        "three.fb_graphics()"
      ],
      "metadata": {
        "colab": {
          "base_uri": "https://localhost:8080/",
          "height": 441
        },
        "id": "RpU5fqtNiybI",
        "outputId": "5db6e1c8-28e5-4335-f168-d8e7ce941f07"
      },
      "execution_count": 264,
      "outputs": [
        {
          "output_type": "display_data",
          "data": {
            "text/plain": [
              "<Figure size 720x432 with 1 Axes>"
            ],
            "image/png": "[encoded data removed]"
          },
          "metadata": {}
        }
      ]
    },
    {
      "cell_type": "markdown",
      "source": [
        "The Rubik's Revenge cube time series."
      ],
      "metadata": {
        "id": "etZrE5QJjv4F"
      }
    },
    {
      "cell_type": "code",
      "source": [
        "four.fb_graphics()"
      ],
      "metadata": {
        "colab": {
          "base_uri": "https://localhost:8080/",
          "height": 441
        },
        "id": "01iq5RL_iyNM",
        "outputId": "6e7ba278-69de-4fdd-f5c8-b7a7a9b4cd72"
      },
      "execution_count": 265,
      "outputs": [
        {
          "output_type": "display_data",
          "data": {
            "text/plain": [
              "<Figure size 720x432 with 1 Axes>"
            ],
            "image/png": "[encoded data removed]"
          },
          "metadata": {}
        }
      ]
    },
    {
      "cell_type": "markdown",
      "source": [
        "The Professor's cube time series."
      ],
      "metadata": {
        "id": "CXHn5SFOjzqh"
      }
    },
    {
      "cell_type": "code",
      "source": [
        "five.fb_graphics()"
      ],
      "metadata": {
        "colab": {
          "base_uri": "https://localhost:8080/",
          "height": 441
        },
        "id": "NhHNHkx8ix6Y",
        "outputId": "ffc8a73d-9837-437f-dab6-00c030c1515f"
      },
      "execution_count": 266,
      "outputs": [
        {
          "output_type": "display_data",
          "data": {
            "text/plain": [
              "<Figure size 720x432 with 1 Axes>"
            ],
            "image/png": "[encoded data removed]"
          },
          "metadata": {}
        }
      ]
    },
    {
      "cell_type": "markdown",
      "source": [
        "The V-6 cube time series."
      ],
      "metadata": {
        "id": "HkJJ4ykpj3G8"
      }
    },
    {
      "cell_type": "code",
      "source": [
        "six.fb_graphics()"
      ],
      "metadata": {
        "colab": {
          "base_uri": "https://localhost:8080/",
          "height": 441
        },
        "id": "XSig2bYJixyg",
        "outputId": "4e7828e3-83a8-4338-991b-b45a1ab7bdad"
      },
      "execution_count": 267,
      "outputs": [
        {
          "output_type": "display_data",
          "data": {
            "text/plain": [
              "<Figure size 720x432 with 1 Axes>"
            ],
            "image/png": "[encoded data removed]"
          },
          "metadata": {}
        }
      ]
    },
    {
      "cell_type": "markdown",
      "source": [
        "The V-7 cube time series."
      ],
      "metadata": {
        "id": "fXxjxoRrj7rB"
      }
    },
    {
      "cell_type": "code",
      "source": [
        "seven.fb_graphics()"
      ],
      "metadata": {
        "colab": {
          "base_uri": "https://localhost:8080/",
          "height": 441
        },
        "id": "qxzHVLP-ixn2",
        "outputId": "77d7c202-df59-43b0-e776-74e2a0631820"
      },
      "execution_count": 268,
      "outputs": [
        {
          "output_type": "display_data",
          "data": {
            "text/plain": [
              "<Figure size 720x432 with 1 Axes>"
            ],
            "image/png": "[encoded data removed]"
          },
          "metadata": {}
        }
      ]
    },
    {
      "cell_type": "markdown",
      "source": [
        "They're not so bad predictions, yet they're steeper than the other models and this makes me think they're not so viable models rather than poisson models."
      ],
      "metadata": {
        "id": "vX2dIGyNkc0Y"
      }
    },
    {
      "cell_type": "markdown",
      "source": [
        "#### Conclusion"
      ],
      "metadata": {
        "id": "P1oox7pFlnL5"
      }
    },
    {
      "cell_type": "markdown",
      "source": [
        "First adressing the pseudo overfit to the latest records. \n",
        "\n",
        "You may remember that in machine learning subject we look for models that are generic, fitting in between all the data; That's been said, comparing to the latest records wouldn't make the model overfit to these records? \n",
        "\n",
        "Well, yes; however this is not a big deal. See: all the records are always dependent of each other once they're always lesser than the previous. It is the decreasing trend of the records. So the older records already are higher than the newests, but the predictions need to be strictly lesser than the current records and it will not be fully achieved if not given the right amount of relevance to the latests records.\n",
        "\n",
        "Another important point in looking to the newests records is the tendency of the derivative of the model to aproach zero. It says the records shall come to a stabilization because there is a limit to where the human being can be fast in solving the puzzle and maybe we're getting closer to the limit. The further in time, the lesser is the difference between latest records.\n",
        "\n",
        "This can be seen in the Pocket cube graphic: There was no single record since 2016. Maybe it is the limit time for solving the cube. Then from 2016 and beyond the derivative of the Pocket cube's model would be zero, and there would not have a new record for the two by two cube."
      ],
      "metadata": {
        "id": "uoCZ17vRlqkr"
      }
    },
    {
      "cell_type": "markdown",
      "source": [
        "And this pretty much resumes the model creation.\n",
        "\n",
        "Thank you for your patience and reading!"
      ],
      "metadata": {
        "id": "FWNUItdloOvK"
      }
    }
  ]
}